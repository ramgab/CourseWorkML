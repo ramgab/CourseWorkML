{
 "cells": [
  {
   "cell_type": "markdown",
   "metadata": {},
   "source": [
    "# Загрузка данных"
   ]
  },
  {
   "cell_type": "code",
   "execution_count": 1,
   "metadata": {
    "ExecuteTime": {
     "end_time": "2019-12-17T03:11:00.099138Z",
     "start_time": "2019-12-17T03:10:57.414198Z"
    }
   },
   "outputs": [
    {
     "data": {
      "text/html": [
       "<div>\n",
       "<style scoped>\n",
       "    .dataframe tbody tr th:only-of-type {\n",
       "        vertical-align: middle;\n",
       "    }\n",
       "\n",
       "    .dataframe tbody tr th {\n",
       "        vertical-align: top;\n",
       "    }\n",
       "\n",
       "    .dataframe thead th {\n",
       "        text-align: right;\n",
       "    }\n",
       "</style>\n",
       "<table border=\"1\" class=\"dataframe\">\n",
       "  <thead>\n",
       "    <tr style=\"text-align: right;\">\n",
       "      <th></th>\n",
       "      <th>genre</th>\n",
       "      <th>artist_name</th>\n",
       "      <th>track_name</th>\n",
       "      <th>track_id</th>\n",
       "      <th>popularity</th>\n",
       "      <th>acousticness</th>\n",
       "      <th>danceability</th>\n",
       "      <th>duration_ms</th>\n",
       "      <th>energy</th>\n",
       "      <th>instrumentalness</th>\n",
       "      <th>key</th>\n",
       "      <th>liveness</th>\n",
       "      <th>loudness</th>\n",
       "      <th>mode</th>\n",
       "      <th>speechiness</th>\n",
       "      <th>tempo</th>\n",
       "      <th>time_signature</th>\n",
       "      <th>valence</th>\n",
       "    </tr>\n",
       "  </thead>\n",
       "  <tbody>\n",
       "    <tr>\n",
       "      <th>0</th>\n",
       "      <td>Movie</td>\n",
       "      <td>Henri Salvador</td>\n",
       "      <td>C'est beau de faire un Show</td>\n",
       "      <td>0BRjO6ga9RKCKjfDqeFgWV</td>\n",
       "      <td>0</td>\n",
       "      <td>0.611</td>\n",
       "      <td>0.389</td>\n",
       "      <td>99373</td>\n",
       "      <td>0.910</td>\n",
       "      <td>0.000</td>\n",
       "      <td>C#</td>\n",
       "      <td>0.3460</td>\n",
       "      <td>-1.828</td>\n",
       "      <td>Major</td>\n",
       "      <td>0.0525</td>\n",
       "      <td>166.969</td>\n",
       "      <td>4/4</td>\n",
       "      <td>0.814</td>\n",
       "    </tr>\n",
       "    <tr>\n",
       "      <th>1</th>\n",
       "      <td>Movie</td>\n",
       "      <td>Martin &amp; les fées</td>\n",
       "      <td>Perdu d'avance (par Gad Elmaleh)</td>\n",
       "      <td>0BjC1NfoEOOusryehmNudP</td>\n",
       "      <td>1</td>\n",
       "      <td>0.246</td>\n",
       "      <td>0.590</td>\n",
       "      <td>137373</td>\n",
       "      <td>0.737</td>\n",
       "      <td>0.000</td>\n",
       "      <td>F#</td>\n",
       "      <td>0.1510</td>\n",
       "      <td>-5.559</td>\n",
       "      <td>Minor</td>\n",
       "      <td>0.0868</td>\n",
       "      <td>174.003</td>\n",
       "      <td>4/4</td>\n",
       "      <td>0.816</td>\n",
       "    </tr>\n",
       "    <tr>\n",
       "      <th>2</th>\n",
       "      <td>Movie</td>\n",
       "      <td>Joseph Williams</td>\n",
       "      <td>Don't Let Me Be Lonely Tonight</td>\n",
       "      <td>0CoSDzoNIKCRs124s9uTVy</td>\n",
       "      <td>3</td>\n",
       "      <td>0.952</td>\n",
       "      <td>0.663</td>\n",
       "      <td>170267</td>\n",
       "      <td>0.131</td>\n",
       "      <td>0.000</td>\n",
       "      <td>C</td>\n",
       "      <td>0.1030</td>\n",
       "      <td>-13.879</td>\n",
       "      <td>Minor</td>\n",
       "      <td>0.0362</td>\n",
       "      <td>99.488</td>\n",
       "      <td>5/4</td>\n",
       "      <td>0.368</td>\n",
       "    </tr>\n",
       "    <tr>\n",
       "      <th>3</th>\n",
       "      <td>Movie</td>\n",
       "      <td>Henri Salvador</td>\n",
       "      <td>Dis-moi Monsieur Gordon Cooper</td>\n",
       "      <td>0Gc6TVm52BwZD07Ki6tIvf</td>\n",
       "      <td>0</td>\n",
       "      <td>0.703</td>\n",
       "      <td>0.240</td>\n",
       "      <td>152427</td>\n",
       "      <td>0.326</td>\n",
       "      <td>0.000</td>\n",
       "      <td>C#</td>\n",
       "      <td>0.0985</td>\n",
       "      <td>-12.178</td>\n",
       "      <td>Major</td>\n",
       "      <td>0.0395</td>\n",
       "      <td>171.758</td>\n",
       "      <td>4/4</td>\n",
       "      <td>0.227</td>\n",
       "    </tr>\n",
       "    <tr>\n",
       "      <th>4</th>\n",
       "      <td>Movie</td>\n",
       "      <td>Fabien Nataf</td>\n",
       "      <td>Ouverture</td>\n",
       "      <td>0IuslXpMROHdEPvSl1fTQK</td>\n",
       "      <td>4</td>\n",
       "      <td>0.950</td>\n",
       "      <td>0.331</td>\n",
       "      <td>82625</td>\n",
       "      <td>0.225</td>\n",
       "      <td>0.123</td>\n",
       "      <td>F</td>\n",
       "      <td>0.2020</td>\n",
       "      <td>-21.150</td>\n",
       "      <td>Major</td>\n",
       "      <td>0.0456</td>\n",
       "      <td>140.576</td>\n",
       "      <td>4/4</td>\n",
       "      <td>0.390</td>\n",
       "    </tr>\n",
       "  </tbody>\n",
       "</table>\n",
       "</div>"
      ],
      "text/plain": [
       "   genre        artist_name                        track_name  \\\n",
       "0  Movie     Henri Salvador       C'est beau de faire un Show   \n",
       "1  Movie  Martin & les fées  Perdu d'avance (par Gad Elmaleh)   \n",
       "2  Movie    Joseph Williams    Don't Let Me Be Lonely Tonight   \n",
       "3  Movie     Henri Salvador    Dis-moi Monsieur Gordon Cooper   \n",
       "4  Movie       Fabien Nataf                         Ouverture   \n",
       "\n",
       "                 track_id  popularity  acousticness  danceability  \\\n",
       "0  0BRjO6ga9RKCKjfDqeFgWV           0         0.611         0.389   \n",
       "1  0BjC1NfoEOOusryehmNudP           1         0.246         0.590   \n",
       "2  0CoSDzoNIKCRs124s9uTVy           3         0.952         0.663   \n",
       "3  0Gc6TVm52BwZD07Ki6tIvf           0         0.703         0.240   \n",
       "4  0IuslXpMROHdEPvSl1fTQK           4         0.950         0.331   \n",
       "\n",
       "   duration_ms  energy  instrumentalness key  liveness  loudness   mode  \\\n",
       "0        99373   0.910             0.000  C#    0.3460    -1.828  Major   \n",
       "1       137373   0.737             0.000  F#    0.1510    -5.559  Minor   \n",
       "2       170267   0.131             0.000   C    0.1030   -13.879  Minor   \n",
       "3       152427   0.326             0.000  C#    0.0985   -12.178  Major   \n",
       "4        82625   0.225             0.123   F    0.2020   -21.150  Major   \n",
       "\n",
       "   speechiness    tempo time_signature  valence  \n",
       "0       0.0525  166.969            4/4    0.814  \n",
       "1       0.0868  174.003            4/4    0.816  \n",
       "2       0.0362   99.488            5/4    0.368  \n",
       "3       0.0395  171.758            4/4    0.227  \n",
       "4       0.0456  140.576            4/4    0.390  "
      ]
     },
     "execution_count": 1,
     "metadata": {},
     "output_type": "execute_result"
    }
   ],
   "source": [
    "import pandas as pd\n",
    "data = pd.read_csv(\"C:/Users/Admin/Downloads/Для курсовой/SpotifyFeatures.csv\")\n",
    "data.head()"
   ]
  },
  {
   "cell_type": "markdown",
   "metadata": {},
   "source": [
    "# Предобработка данных"
   ]
  },
  {
   "cell_type": "code",
   "execution_count": 2,
   "metadata": {
    "ExecuteTime": {
     "end_time": "2019-12-17T03:11:00.387695Z",
     "start_time": "2019-12-17T03:11:00.213156Z"
    }
   },
   "outputs": [
    {
     "name": "stdout",
     "output_type": "stream",
     "text": [
      "<class 'pandas.core.frame.DataFrame'>\n",
      "RangeIndex: 232725 entries, 0 to 232724\n",
      "Data columns (total 18 columns):\n",
      " #   Column            Non-Null Count   Dtype  \n",
      "---  ------            --------------   -----  \n",
      " 0   genre             232725 non-null  object \n",
      " 1   artist_name       232725 non-null  object \n",
      " 2   track_name        232725 non-null  object \n",
      " 3   track_id          232725 non-null  object \n",
      " 4   popularity        232725 non-null  int64  \n",
      " 5   acousticness      232725 non-null  float64\n",
      " 6   danceability      232725 non-null  float64\n",
      " 7   duration_ms       232725 non-null  int64  \n",
      " 8   energy            232725 non-null  float64\n",
      " 9   instrumentalness  232725 non-null  float64\n",
      " 10  key               232725 non-null  object \n",
      " 11  liveness          232725 non-null  float64\n",
      " 12  loudness          232725 non-null  float64\n",
      " 13  mode              232725 non-null  object \n",
      " 14  speechiness       232725 non-null  float64\n",
      " 15  tempo             232725 non-null  float64\n",
      " 16  time_signature    232725 non-null  object \n",
      " 17  valence           232725 non-null  float64\n",
      "dtypes: float64(9), int64(2), object(7)\n",
      "memory usage: 32.0+ MB\n"
     ]
    }
   ],
   "source": [
    "data.info()"
   ]
  },
  {
   "cell_type": "code",
   "execution_count": 3,
   "metadata": {},
   "outputs": [
    {
     "data": {
      "text/html": [
       "<div>\n",
       "<style scoped>\n",
       "    .dataframe tbody tr th:only-of-type {\n",
       "        vertical-align: middle;\n",
       "    }\n",
       "\n",
       "    .dataframe tbody tr th {\n",
       "        vertical-align: top;\n",
       "    }\n",
       "\n",
       "    .dataframe thead th {\n",
       "        text-align: right;\n",
       "    }\n",
       "</style>\n",
       "<table border=\"1\" class=\"dataframe\">\n",
       "  <thead>\n",
       "    <tr style=\"text-align: right;\">\n",
       "      <th></th>\n",
       "      <th>genre</th>\n",
       "      <th>artist_name</th>\n",
       "      <th>track_name</th>\n",
       "      <th>track_id</th>\n",
       "      <th>popularity</th>\n",
       "      <th>acousticness</th>\n",
       "      <th>danceability</th>\n",
       "      <th>duration_ms</th>\n",
       "      <th>energy</th>\n",
       "      <th>instrumentalness</th>\n",
       "      <th>key</th>\n",
       "      <th>liveness</th>\n",
       "      <th>loudness</th>\n",
       "      <th>mode</th>\n",
       "      <th>speechiness</th>\n",
       "      <th>tempo</th>\n",
       "      <th>time_signature</th>\n",
       "      <th>valence</th>\n",
       "    </tr>\n",
       "  </thead>\n",
       "  <tbody>\n",
       "    <tr>\n",
       "      <th>1180</th>\n",
       "      <td>Alternative</td>\n",
       "      <td>Frank Ocean</td>\n",
       "      <td>White Ferrari</td>\n",
       "      <td>2LMkwUfqC6S6s6qDVlEuzV</td>\n",
       "      <td>66</td>\n",
       "      <td>0.784</td>\n",
       "      <td>0.444</td>\n",
       "      <td>248808</td>\n",
       "      <td>0.0924</td>\n",
       "      <td>0.0</td>\n",
       "      <td>C</td>\n",
       "      <td>0.304</td>\n",
       "      <td>-15.605</td>\n",
       "      <td>Major</td>\n",
       "      <td>0.0366</td>\n",
       "      <td>108.917</td>\n",
       "      <td>4/4</td>\n",
       "      <td>0.219</td>\n",
       "    </tr>\n",
       "    <tr>\n",
       "      <th>67670</th>\n",
       "      <td>Hip-Hop</td>\n",
       "      <td>Frank Ocean</td>\n",
       "      <td>White Ferrari</td>\n",
       "      <td>2LMkwUfqC6S6s6qDVlEuzV</td>\n",
       "      <td>70</td>\n",
       "      <td>0.784</td>\n",
       "      <td>0.444</td>\n",
       "      <td>248808</td>\n",
       "      <td>0.0924</td>\n",
       "      <td>0.0</td>\n",
       "      <td>C</td>\n",
       "      <td>0.304</td>\n",
       "      <td>-15.605</td>\n",
       "      <td>Major</td>\n",
       "      <td>0.0366</td>\n",
       "      <td>108.917</td>\n",
       "      <td>4/4</td>\n",
       "      <td>0.219</td>\n",
       "    </tr>\n",
       "    <tr>\n",
       "      <th>77255</th>\n",
       "      <td>Children’s Music</td>\n",
       "      <td>Frank Ocean</td>\n",
       "      <td>White Ferrari</td>\n",
       "      <td>2LMkwUfqC6S6s6qDVlEuzV</td>\n",
       "      <td>70</td>\n",
       "      <td>0.784</td>\n",
       "      <td>0.444</td>\n",
       "      <td>248808</td>\n",
       "      <td>0.0924</td>\n",
       "      <td>0.0</td>\n",
       "      <td>C</td>\n",
       "      <td>0.304</td>\n",
       "      <td>-15.605</td>\n",
       "      <td>Major</td>\n",
       "      <td>0.0366</td>\n",
       "      <td>108.917</td>\n",
       "      <td>4/4</td>\n",
       "      <td>0.219</td>\n",
       "    </tr>\n",
       "    <tr>\n",
       "      <th>152611</th>\n",
       "      <td>R&amp;B</td>\n",
       "      <td>Frank Ocean</td>\n",
       "      <td>White Ferrari</td>\n",
       "      <td>2LMkwUfqC6S6s6qDVlEuzV</td>\n",
       "      <td>70</td>\n",
       "      <td>0.784</td>\n",
       "      <td>0.444</td>\n",
       "      <td>248808</td>\n",
       "      <td>0.0924</td>\n",
       "      <td>0.0</td>\n",
       "      <td>C</td>\n",
       "      <td>0.304</td>\n",
       "      <td>-15.605</td>\n",
       "      <td>Major</td>\n",
       "      <td>0.0366</td>\n",
       "      <td>108.917</td>\n",
       "      <td>4/4</td>\n",
       "      <td>0.219</td>\n",
       "    </tr>\n",
       "    <tr>\n",
       "      <th>192024</th>\n",
       "      <td>Soul</td>\n",
       "      <td>Frank Ocean</td>\n",
       "      <td>White Ferrari</td>\n",
       "      <td>2LMkwUfqC6S6s6qDVlEuzV</td>\n",
       "      <td>70</td>\n",
       "      <td>0.784</td>\n",
       "      <td>0.444</td>\n",
       "      <td>248808</td>\n",
       "      <td>0.0924</td>\n",
       "      <td>0.0</td>\n",
       "      <td>C</td>\n",
       "      <td>0.304</td>\n",
       "      <td>-15.605</td>\n",
       "      <td>Major</td>\n",
       "      <td>0.0366</td>\n",
       "      <td>108.917</td>\n",
       "      <td>4/4</td>\n",
       "      <td>0.219</td>\n",
       "    </tr>\n",
       "  </tbody>\n",
       "</table>\n",
       "</div>"
      ],
      "text/plain": [
       "                   genre  artist_name     track_name                track_id  \\\n",
       "1180         Alternative  Frank Ocean  White Ferrari  2LMkwUfqC6S6s6qDVlEuzV   \n",
       "67670            Hip-Hop  Frank Ocean  White Ferrari  2LMkwUfqC6S6s6qDVlEuzV   \n",
       "77255   Children’s Music  Frank Ocean  White Ferrari  2LMkwUfqC6S6s6qDVlEuzV   \n",
       "152611               R&B  Frank Ocean  White Ferrari  2LMkwUfqC6S6s6qDVlEuzV   \n",
       "192024              Soul  Frank Ocean  White Ferrari  2LMkwUfqC6S6s6qDVlEuzV   \n",
       "\n",
       "        popularity  acousticness  danceability  duration_ms  energy  \\\n",
       "1180            66         0.784         0.444       248808  0.0924   \n",
       "67670           70         0.784         0.444       248808  0.0924   \n",
       "77255           70         0.784         0.444       248808  0.0924   \n",
       "152611          70         0.784         0.444       248808  0.0924   \n",
       "192024          70         0.784         0.444       248808  0.0924   \n",
       "\n",
       "        instrumentalness key  liveness  loudness   mode  speechiness    tempo  \\\n",
       "1180                 0.0   C     0.304   -15.605  Major       0.0366  108.917   \n",
       "67670                0.0   C     0.304   -15.605  Major       0.0366  108.917   \n",
       "77255                0.0   C     0.304   -15.605  Major       0.0366  108.917   \n",
       "152611               0.0   C     0.304   -15.605  Major       0.0366  108.917   \n",
       "192024               0.0   C     0.304   -15.605  Major       0.0366  108.917   \n",
       "\n",
       "       time_signature  valence  \n",
       "1180              4/4    0.219  \n",
       "67670             4/4    0.219  \n",
       "77255             4/4    0.219  \n",
       "152611            4/4    0.219  \n",
       "192024            4/4    0.219  "
      ]
     },
     "execution_count": 3,
     "metadata": {},
     "output_type": "execute_result"
    }
   ],
   "source": [
    "data.loc[data['track_name'] == 'White Ferrari']"
   ]
  },
  {
   "cell_type": "code",
   "execution_count": 4,
   "metadata": {
    "ExecuteTime": {
     "end_time": "2019-12-17T03:11:01.555779Z",
     "start_time": "2019-12-17T03:11:00.646204Z"
    }
   },
   "outputs": [
    {
     "data": {
      "text/html": [
       "<div>\n",
       "<style scoped>\n",
       "    .dataframe tbody tr th:only-of-type {\n",
       "        vertical-align: middle;\n",
       "    }\n",
       "\n",
       "    .dataframe tbody tr th {\n",
       "        vertical-align: top;\n",
       "    }\n",
       "\n",
       "    .dataframe thead th {\n",
       "        text-align: right;\n",
       "    }\n",
       "</style>\n",
       "<table border=\"1\" class=\"dataframe\">\n",
       "  <thead>\n",
       "    <tr style=\"text-align: right;\">\n",
       "      <th></th>\n",
       "      <th>popularity</th>\n",
       "      <th>acousticness</th>\n",
       "      <th>danceability</th>\n",
       "      <th>duration_ms</th>\n",
       "      <th>energy</th>\n",
       "      <th>instrumentalness</th>\n",
       "      <th>liveness</th>\n",
       "      <th>loudness</th>\n",
       "      <th>speechiness</th>\n",
       "      <th>tempo</th>\n",
       "      <th>valence</th>\n",
       "    </tr>\n",
       "  </thead>\n",
       "  <tbody>\n",
       "    <tr>\n",
       "      <th>count</th>\n",
       "      <td>232725.000000</td>\n",
       "      <td>232725.000000</td>\n",
       "      <td>232725.000000</td>\n",
       "      <td>2.327250e+05</td>\n",
       "      <td>232725.000000</td>\n",
       "      <td>232725.000000</td>\n",
       "      <td>232725.000000</td>\n",
       "      <td>232725.000000</td>\n",
       "      <td>232725.000000</td>\n",
       "      <td>232725.000000</td>\n",
       "      <td>232725.000000</td>\n",
       "    </tr>\n",
       "    <tr>\n",
       "      <th>mean</th>\n",
       "      <td>41.127502</td>\n",
       "      <td>0.368560</td>\n",
       "      <td>0.554364</td>\n",
       "      <td>2.351223e+05</td>\n",
       "      <td>0.570958</td>\n",
       "      <td>0.148301</td>\n",
       "      <td>0.215009</td>\n",
       "      <td>-9.569885</td>\n",
       "      <td>0.120765</td>\n",
       "      <td>117.666585</td>\n",
       "      <td>0.454917</td>\n",
       "    </tr>\n",
       "    <tr>\n",
       "      <th>std</th>\n",
       "      <td>18.189948</td>\n",
       "      <td>0.354768</td>\n",
       "      <td>0.185608</td>\n",
       "      <td>1.189359e+05</td>\n",
       "      <td>0.263456</td>\n",
       "      <td>0.302768</td>\n",
       "      <td>0.198273</td>\n",
       "      <td>5.998204</td>\n",
       "      <td>0.185518</td>\n",
       "      <td>30.898907</td>\n",
       "      <td>0.260065</td>\n",
       "    </tr>\n",
       "    <tr>\n",
       "      <th>min</th>\n",
       "      <td>0.000000</td>\n",
       "      <td>0.000000</td>\n",
       "      <td>0.056900</td>\n",
       "      <td>1.538700e+04</td>\n",
       "      <td>0.000020</td>\n",
       "      <td>0.000000</td>\n",
       "      <td>0.009670</td>\n",
       "      <td>-52.457000</td>\n",
       "      <td>0.022200</td>\n",
       "      <td>30.379000</td>\n",
       "      <td>0.000000</td>\n",
       "    </tr>\n",
       "    <tr>\n",
       "      <th>25%</th>\n",
       "      <td>29.000000</td>\n",
       "      <td>0.037600</td>\n",
       "      <td>0.435000</td>\n",
       "      <td>1.828570e+05</td>\n",
       "      <td>0.385000</td>\n",
       "      <td>0.000000</td>\n",
       "      <td>0.097400</td>\n",
       "      <td>-11.771000</td>\n",
       "      <td>0.036700</td>\n",
       "      <td>92.959000</td>\n",
       "      <td>0.237000</td>\n",
       "    </tr>\n",
       "    <tr>\n",
       "      <th>50%</th>\n",
       "      <td>43.000000</td>\n",
       "      <td>0.232000</td>\n",
       "      <td>0.571000</td>\n",
       "      <td>2.204270e+05</td>\n",
       "      <td>0.605000</td>\n",
       "      <td>0.000044</td>\n",
       "      <td>0.128000</td>\n",
       "      <td>-7.762000</td>\n",
       "      <td>0.050100</td>\n",
       "      <td>115.778000</td>\n",
       "      <td>0.444000</td>\n",
       "    </tr>\n",
       "    <tr>\n",
       "      <th>75%</th>\n",
       "      <td>55.000000</td>\n",
       "      <td>0.722000</td>\n",
       "      <td>0.692000</td>\n",
       "      <td>2.657680e+05</td>\n",
       "      <td>0.787000</td>\n",
       "      <td>0.035800</td>\n",
       "      <td>0.264000</td>\n",
       "      <td>-5.501000</td>\n",
       "      <td>0.105000</td>\n",
       "      <td>139.054000</td>\n",
       "      <td>0.660000</td>\n",
       "    </tr>\n",
       "    <tr>\n",
       "      <th>max</th>\n",
       "      <td>100.000000</td>\n",
       "      <td>0.996000</td>\n",
       "      <td>0.989000</td>\n",
       "      <td>5.552917e+06</td>\n",
       "      <td>0.999000</td>\n",
       "      <td>0.999000</td>\n",
       "      <td>1.000000</td>\n",
       "      <td>3.744000</td>\n",
       "      <td>0.967000</td>\n",
       "      <td>242.903000</td>\n",
       "      <td>1.000000</td>\n",
       "    </tr>\n",
       "  </tbody>\n",
       "</table>\n",
       "</div>"
      ],
      "text/plain": [
       "          popularity   acousticness   danceability   duration_ms  \\\n",
       "count  232725.000000  232725.000000  232725.000000  2.327250e+05   \n",
       "mean       41.127502       0.368560       0.554364  2.351223e+05   \n",
       "std        18.189948       0.354768       0.185608  1.189359e+05   \n",
       "min         0.000000       0.000000       0.056900  1.538700e+04   \n",
       "25%        29.000000       0.037600       0.435000  1.828570e+05   \n",
       "50%        43.000000       0.232000       0.571000  2.204270e+05   \n",
       "75%        55.000000       0.722000       0.692000  2.657680e+05   \n",
       "max       100.000000       0.996000       0.989000  5.552917e+06   \n",
       "\n",
       "              energy  instrumentalness       liveness       loudness  \\\n",
       "count  232725.000000     232725.000000  232725.000000  232725.000000   \n",
       "mean        0.570958          0.148301       0.215009      -9.569885   \n",
       "std         0.263456          0.302768       0.198273       5.998204   \n",
       "min         0.000020          0.000000       0.009670     -52.457000   \n",
       "25%         0.385000          0.000000       0.097400     -11.771000   \n",
       "50%         0.605000          0.000044       0.128000      -7.762000   \n",
       "75%         0.787000          0.035800       0.264000      -5.501000   \n",
       "max         0.999000          0.999000       1.000000       3.744000   \n",
       "\n",
       "         speechiness          tempo        valence  \n",
       "count  232725.000000  232725.000000  232725.000000  \n",
       "mean        0.120765     117.666585       0.454917  \n",
       "std         0.185518      30.898907       0.260065  \n",
       "min         0.022200      30.379000       0.000000  \n",
       "25%         0.036700      92.959000       0.237000  \n",
       "50%         0.050100     115.778000       0.444000  \n",
       "75%         0.105000     139.054000       0.660000  \n",
       "max         0.967000     242.903000       1.000000  "
      ]
     },
     "execution_count": 4,
     "metadata": {},
     "output_type": "execute_result"
    }
   ],
   "source": [
    "data.describe()"
   ]
  },
  {
   "cell_type": "code",
   "execution_count": 5,
   "metadata": {
    "ExecuteTime": {
     "end_time": "2019-12-17T03:11:01.728622Z",
     "start_time": "2019-12-17T03:11:01.702688Z"
    }
   },
   "outputs": [
    {
     "data": {
      "text/html": [
       "<div>\n",
       "<style scoped>\n",
       "    .dataframe tbody tr th:only-of-type {\n",
       "        vertical-align: middle;\n",
       "    }\n",
       "\n",
       "    .dataframe tbody tr th {\n",
       "        vertical-align: top;\n",
       "    }\n",
       "\n",
       "    .dataframe thead th {\n",
       "        text-align: right;\n",
       "    }\n",
       "</style>\n",
       "<table border=\"1\" class=\"dataframe\">\n",
       "  <thead>\n",
       "    <tr style=\"text-align: right;\">\n",
       "      <th></th>\n",
       "      <th>genre</th>\n",
       "      <th>artist_name</th>\n",
       "      <th>track_name</th>\n",
       "      <th>track_id</th>\n",
       "      <th>popularity</th>\n",
       "      <th>acousticness</th>\n",
       "      <th>danceability</th>\n",
       "      <th>duration_ms</th>\n",
       "      <th>energy</th>\n",
       "      <th>instrumentalness</th>\n",
       "      <th>key</th>\n",
       "      <th>liveness</th>\n",
       "      <th>loudness</th>\n",
       "      <th>mode</th>\n",
       "      <th>speechiness</th>\n",
       "      <th>tempo</th>\n",
       "      <th>time_signature</th>\n",
       "      <th>valence</th>\n",
       "    </tr>\n",
       "  </thead>\n",
       "  <tbody>\n",
       "    <tr>\n",
       "      <th>0</th>\n",
       "      <td>Movie</td>\n",
       "      <td>Henri Salvador</td>\n",
       "      <td>C'est beau de faire un Show</td>\n",
       "      <td>0BRjO6ga9RKCKjfDqeFgWV</td>\n",
       "      <td>0</td>\n",
       "      <td>0.611</td>\n",
       "      <td>0.389</td>\n",
       "      <td>99373</td>\n",
       "      <td>0.910</td>\n",
       "      <td>0.000</td>\n",
       "      <td>C#</td>\n",
       "      <td>0.3460</td>\n",
       "      <td>-1.828</td>\n",
       "      <td>Major</td>\n",
       "      <td>0.0525</td>\n",
       "      <td>166.969</td>\n",
       "      <td>4/4</td>\n",
       "      <td>0.814</td>\n",
       "    </tr>\n",
       "    <tr>\n",
       "      <th>1</th>\n",
       "      <td>Movie</td>\n",
       "      <td>Martin &amp; les fées</td>\n",
       "      <td>Perdu d'avance (par Gad Elmaleh)</td>\n",
       "      <td>0BjC1NfoEOOusryehmNudP</td>\n",
       "      <td>1</td>\n",
       "      <td>0.246</td>\n",
       "      <td>0.590</td>\n",
       "      <td>137373</td>\n",
       "      <td>0.737</td>\n",
       "      <td>0.000</td>\n",
       "      <td>F#</td>\n",
       "      <td>0.1510</td>\n",
       "      <td>-5.559</td>\n",
       "      <td>Minor</td>\n",
       "      <td>0.0868</td>\n",
       "      <td>174.003</td>\n",
       "      <td>4/4</td>\n",
       "      <td>0.816</td>\n",
       "    </tr>\n",
       "    <tr>\n",
       "      <th>2</th>\n",
       "      <td>Movie</td>\n",
       "      <td>Joseph Williams</td>\n",
       "      <td>Don't Let Me Be Lonely Tonight</td>\n",
       "      <td>0CoSDzoNIKCRs124s9uTVy</td>\n",
       "      <td>3</td>\n",
       "      <td>0.952</td>\n",
       "      <td>0.663</td>\n",
       "      <td>170267</td>\n",
       "      <td>0.131</td>\n",
       "      <td>0.000</td>\n",
       "      <td>C</td>\n",
       "      <td>0.1030</td>\n",
       "      <td>-13.879</td>\n",
       "      <td>Minor</td>\n",
       "      <td>0.0362</td>\n",
       "      <td>99.488</td>\n",
       "      <td>5/4</td>\n",
       "      <td>0.368</td>\n",
       "    </tr>\n",
       "    <tr>\n",
       "      <th>3</th>\n",
       "      <td>Movie</td>\n",
       "      <td>Henri Salvador</td>\n",
       "      <td>Dis-moi Monsieur Gordon Cooper</td>\n",
       "      <td>0Gc6TVm52BwZD07Ki6tIvf</td>\n",
       "      <td>0</td>\n",
       "      <td>0.703</td>\n",
       "      <td>0.240</td>\n",
       "      <td>152427</td>\n",
       "      <td>0.326</td>\n",
       "      <td>0.000</td>\n",
       "      <td>C#</td>\n",
       "      <td>0.0985</td>\n",
       "      <td>-12.178</td>\n",
       "      <td>Major</td>\n",
       "      <td>0.0395</td>\n",
       "      <td>171.758</td>\n",
       "      <td>4/4</td>\n",
       "      <td>0.227</td>\n",
       "    </tr>\n",
       "    <tr>\n",
       "      <th>4</th>\n",
       "      <td>Movie</td>\n",
       "      <td>Fabien Nataf</td>\n",
       "      <td>Ouverture</td>\n",
       "      <td>0IuslXpMROHdEPvSl1fTQK</td>\n",
       "      <td>4</td>\n",
       "      <td>0.950</td>\n",
       "      <td>0.331</td>\n",
       "      <td>82625</td>\n",
       "      <td>0.225</td>\n",
       "      <td>0.123</td>\n",
       "      <td>F</td>\n",
       "      <td>0.2020</td>\n",
       "      <td>-21.150</td>\n",
       "      <td>Major</td>\n",
       "      <td>0.0456</td>\n",
       "      <td>140.576</td>\n",
       "      <td>4/4</td>\n",
       "      <td>0.390</td>\n",
       "    </tr>\n",
       "  </tbody>\n",
       "</table>\n",
       "</div>"
      ],
      "text/plain": [
       "   genre        artist_name                        track_name  \\\n",
       "0  Movie     Henri Salvador       C'est beau de faire un Show   \n",
       "1  Movie  Martin & les fées  Perdu d'avance (par Gad Elmaleh)   \n",
       "2  Movie    Joseph Williams    Don't Let Me Be Lonely Tonight   \n",
       "3  Movie     Henri Salvador    Dis-moi Monsieur Gordon Cooper   \n",
       "4  Movie       Fabien Nataf                         Ouverture   \n",
       "\n",
       "                 track_id  popularity  acousticness  danceability  \\\n",
       "0  0BRjO6ga9RKCKjfDqeFgWV           0         0.611         0.389   \n",
       "1  0BjC1NfoEOOusryehmNudP           1         0.246         0.590   \n",
       "2  0CoSDzoNIKCRs124s9uTVy           3         0.952         0.663   \n",
       "3  0Gc6TVm52BwZD07Ki6tIvf           0         0.703         0.240   \n",
       "4  0IuslXpMROHdEPvSl1fTQK           4         0.950         0.331   \n",
       "\n",
       "   duration_ms  energy  instrumentalness key  liveness  loudness   mode  \\\n",
       "0        99373   0.910             0.000  C#    0.3460    -1.828  Major   \n",
       "1       137373   0.737             0.000  F#    0.1510    -5.559  Minor   \n",
       "2       170267   0.131             0.000   C    0.1030   -13.879  Minor   \n",
       "3       152427   0.326             0.000  C#    0.0985   -12.178  Major   \n",
       "4        82625   0.225             0.123   F    0.2020   -21.150  Major   \n",
       "\n",
       "   speechiness    tempo time_signature  valence  \n",
       "0       0.0525  166.969            4/4    0.814  \n",
       "1       0.0868  174.003            4/4    0.816  \n",
       "2       0.0362   99.488            5/4    0.368  \n",
       "3       0.0395  171.758            4/4    0.227  \n",
       "4       0.0456  140.576            4/4    0.390  "
      ]
     },
     "execution_count": 5,
     "metadata": {},
     "output_type": "execute_result"
    }
   ],
   "source": [
    "data.head()"
   ]
  },
  {
   "cell_type": "markdown",
   "metadata": {},
   "source": [
    "классифицировать жанр музыки по ее звуковым функциям. Поэтому нам не нужны `artist_name`, `track_name` и `track_id`, так как они не имеют ничего общего с жанром."
   ]
  },
  {
   "cell_type": "code",
   "execution_count": 2,
   "metadata": {
    "ExecuteTime": {
     "end_time": "2019-12-17T03:11:07.919715Z",
     "start_time": "2019-12-17T03:11:07.595832Z"
    }
   },
   "outputs": [
    {
     "data": {
      "text/html": [
       "<div>\n",
       "<style scoped>\n",
       "    .dataframe tbody tr th:only-of-type {\n",
       "        vertical-align: middle;\n",
       "    }\n",
       "\n",
       "    .dataframe tbody tr th {\n",
       "        vertical-align: top;\n",
       "    }\n",
       "\n",
       "    .dataframe thead th {\n",
       "        text-align: right;\n",
       "    }\n",
       "</style>\n",
       "<table border=\"1\" class=\"dataframe\">\n",
       "  <thead>\n",
       "    <tr style=\"text-align: right;\">\n",
       "      <th></th>\n",
       "      <th>genre</th>\n",
       "      <th>popularity</th>\n",
       "      <th>acousticness</th>\n",
       "      <th>danceability</th>\n",
       "      <th>duration_ms</th>\n",
       "      <th>energy</th>\n",
       "      <th>instrumentalness</th>\n",
       "      <th>key</th>\n",
       "      <th>liveness</th>\n",
       "      <th>loudness</th>\n",
       "      <th>mode</th>\n",
       "      <th>speechiness</th>\n",
       "      <th>tempo</th>\n",
       "      <th>time_signature</th>\n",
       "      <th>valence</th>\n",
       "    </tr>\n",
       "  </thead>\n",
       "  <tbody>\n",
       "    <tr>\n",
       "      <th>0</th>\n",
       "      <td>Movie</td>\n",
       "      <td>0</td>\n",
       "      <td>0.611</td>\n",
       "      <td>0.389</td>\n",
       "      <td>99373</td>\n",
       "      <td>0.910</td>\n",
       "      <td>0.000</td>\n",
       "      <td>C#</td>\n",
       "      <td>0.3460</td>\n",
       "      <td>-1.828</td>\n",
       "      <td>Major</td>\n",
       "      <td>0.0525</td>\n",
       "      <td>166.969</td>\n",
       "      <td>4/4</td>\n",
       "      <td>0.814</td>\n",
       "    </tr>\n",
       "    <tr>\n",
       "      <th>1</th>\n",
       "      <td>Movie</td>\n",
       "      <td>1</td>\n",
       "      <td>0.246</td>\n",
       "      <td>0.590</td>\n",
       "      <td>137373</td>\n",
       "      <td>0.737</td>\n",
       "      <td>0.000</td>\n",
       "      <td>F#</td>\n",
       "      <td>0.1510</td>\n",
       "      <td>-5.559</td>\n",
       "      <td>Minor</td>\n",
       "      <td>0.0868</td>\n",
       "      <td>174.003</td>\n",
       "      <td>4/4</td>\n",
       "      <td>0.816</td>\n",
       "    </tr>\n",
       "    <tr>\n",
       "      <th>2</th>\n",
       "      <td>Movie</td>\n",
       "      <td>3</td>\n",
       "      <td>0.952</td>\n",
       "      <td>0.663</td>\n",
       "      <td>170267</td>\n",
       "      <td>0.131</td>\n",
       "      <td>0.000</td>\n",
       "      <td>C</td>\n",
       "      <td>0.1030</td>\n",
       "      <td>-13.879</td>\n",
       "      <td>Minor</td>\n",
       "      <td>0.0362</td>\n",
       "      <td>99.488</td>\n",
       "      <td>5/4</td>\n",
       "      <td>0.368</td>\n",
       "    </tr>\n",
       "    <tr>\n",
       "      <th>3</th>\n",
       "      <td>Movie</td>\n",
       "      <td>0</td>\n",
       "      <td>0.703</td>\n",
       "      <td>0.240</td>\n",
       "      <td>152427</td>\n",
       "      <td>0.326</td>\n",
       "      <td>0.000</td>\n",
       "      <td>C#</td>\n",
       "      <td>0.0985</td>\n",
       "      <td>-12.178</td>\n",
       "      <td>Major</td>\n",
       "      <td>0.0395</td>\n",
       "      <td>171.758</td>\n",
       "      <td>4/4</td>\n",
       "      <td>0.227</td>\n",
       "    </tr>\n",
       "    <tr>\n",
       "      <th>4</th>\n",
       "      <td>Movie</td>\n",
       "      <td>4</td>\n",
       "      <td>0.950</td>\n",
       "      <td>0.331</td>\n",
       "      <td>82625</td>\n",
       "      <td>0.225</td>\n",
       "      <td>0.123</td>\n",
       "      <td>F</td>\n",
       "      <td>0.2020</td>\n",
       "      <td>-21.150</td>\n",
       "      <td>Major</td>\n",
       "      <td>0.0456</td>\n",
       "      <td>140.576</td>\n",
       "      <td>4/4</td>\n",
       "      <td>0.390</td>\n",
       "    </tr>\n",
       "  </tbody>\n",
       "</table>\n",
       "</div>"
      ],
      "text/plain": [
       "   genre  popularity  acousticness  danceability  duration_ms  energy  \\\n",
       "0  Movie           0         0.611         0.389        99373   0.910   \n",
       "1  Movie           1         0.246         0.590       137373   0.737   \n",
       "2  Movie           3         0.952         0.663       170267   0.131   \n",
       "3  Movie           0         0.703         0.240       152427   0.326   \n",
       "4  Movie           4         0.950         0.331        82625   0.225   \n",
       "\n",
       "   instrumentalness key  liveness  loudness   mode  speechiness    tempo  \\\n",
       "0             0.000  C#    0.3460    -1.828  Major       0.0525  166.969   \n",
       "1             0.000  F#    0.1510    -5.559  Minor       0.0868  174.003   \n",
       "2             0.000   C    0.1030   -13.879  Minor       0.0362   99.488   \n",
       "3             0.000  C#    0.0985   -12.178  Major       0.0395  171.758   \n",
       "4             0.123   F    0.2020   -21.150  Major       0.0456  140.576   \n",
       "\n",
       "  time_signature  valence  \n",
       "0            4/4    0.814  \n",
       "1            4/4    0.816  \n",
       "2            5/4    0.368  \n",
       "3            4/4    0.227  \n",
       "4            4/4    0.390  "
      ]
     },
     "execution_count": 2,
     "metadata": {},
     "output_type": "execute_result"
    }
   ],
   "source": [
    "unused_col = ['artist_name', 'track_name', 'track_id'] \n",
    "df = data.drop(columns=unused_col).reset_index(drop=True) # Удаление ненужных столбцов\n",
    "df.head()"
   ]
  },
  {
   "cell_type": "markdown",
   "metadata": {},
   "source": [
    "Теперь нам нужно, чтобы наши данные можно было применять с помощью математических выражений (так как машинное обучение делает это). Итак, давайте изменим несколько значений признаков и приведем их к числовым."
   ]
  },
  {
   "cell_type": "code",
   "execution_count": 7,
   "metadata": {
    "ExecuteTime": {
     "end_time": "2019-12-17T03:11:11.800324Z",
     "start_time": "2019-12-17T03:11:11.704554Z"
    }
   },
   "outputs": [
    {
     "data": {
      "text/html": [
       "<div>\n",
       "<style scoped>\n",
       "    .dataframe tbody tr th:only-of-type {\n",
       "        vertical-align: middle;\n",
       "    }\n",
       "\n",
       "    .dataframe tbody tr th {\n",
       "        vertical-align: top;\n",
       "    }\n",
       "\n",
       "    .dataframe thead th {\n",
       "        text-align: right;\n",
       "    }\n",
       "</style>\n",
       "<table border=\"1\" class=\"dataframe\">\n",
       "  <thead>\n",
       "    <tr style=\"text-align: right;\">\n",
       "      <th></th>\n",
       "      <th>genre</th>\n",
       "      <th>key</th>\n",
       "      <th>mode</th>\n",
       "      <th>time_signature</th>\n",
       "    </tr>\n",
       "  </thead>\n",
       "  <tbody>\n",
       "    <tr>\n",
       "      <th>0</th>\n",
       "      <td>Movie</td>\n",
       "      <td>C#</td>\n",
       "      <td>Major</td>\n",
       "      <td>4/4</td>\n",
       "    </tr>\n",
       "    <tr>\n",
       "      <th>1</th>\n",
       "      <td>Movie</td>\n",
       "      <td>F#</td>\n",
       "      <td>Minor</td>\n",
       "      <td>4/4</td>\n",
       "    </tr>\n",
       "    <tr>\n",
       "      <th>2</th>\n",
       "      <td>Movie</td>\n",
       "      <td>C</td>\n",
       "      <td>Minor</td>\n",
       "      <td>5/4</td>\n",
       "    </tr>\n",
       "    <tr>\n",
       "      <th>3</th>\n",
       "      <td>Movie</td>\n",
       "      <td>C#</td>\n",
       "      <td>Major</td>\n",
       "      <td>4/4</td>\n",
       "    </tr>\n",
       "    <tr>\n",
       "      <th>4</th>\n",
       "      <td>Movie</td>\n",
       "      <td>F</td>\n",
       "      <td>Major</td>\n",
       "      <td>4/4</td>\n",
       "    </tr>\n",
       "  </tbody>\n",
       "</table>\n",
       "</div>"
      ],
      "text/plain": [
       "   genre key   mode time_signature\n",
       "0  Movie  C#  Major            4/4\n",
       "1  Movie  F#  Minor            4/4\n",
       "2  Movie   C  Minor            5/4\n",
       "3  Movie  C#  Major            4/4\n",
       "4  Movie   F  Major            4/4"
      ]
     },
     "execution_count": 7,
     "metadata": {},
     "output_type": "execute_result"
    }
   ],
   "source": [
    "df.select_dtypes(exclude='number').head()"
   ]
  },
  {
   "cell_type": "code",
   "execution_count": 3,
   "metadata": {
    "ExecuteTime": {
     "end_time": "2019-12-17T03:11:14.052675Z",
     "start_time": "2019-12-17T03:11:13.898002Z"
    }
   },
   "outputs": [
    {
     "data": {
      "text/plain": [
       "['4/4', '5/4', '3/4', '1/4', '0/4']"
      ]
     },
     "execution_count": 3,
     "metadata": {},
     "output_type": "execute_result"
    }
   ],
   "source": [
    "df['time_signature'].unique().tolist()"
   ]
  },
  {
   "cell_type": "code",
   "execution_count": 9,
   "metadata": {
    "ExecuteTime": {
     "end_time": "2019-12-17T03:11:14.628327Z",
     "start_time": "2019-12-17T03:11:14.614322Z"
    }
   },
   "outputs": [
    {
     "data": {
      "text/plain": [
       "['Major', 'Minor']"
      ]
     },
     "execution_count": 9,
     "metadata": {},
     "output_type": "execute_result"
    }
   ],
   "source": [
    "df['mode'].unique().tolist()"
   ]
  },
  {
   "cell_type": "markdown",
   "metadata": {},
   "source": [
    "Minor изменим на 0, Major изменим на 1"
   ]
  },
  {
   "cell_type": "code",
   "execution_count": 10,
   "metadata": {
    "ExecuteTime": {
     "end_time": "2019-12-17T03:11:15.706437Z",
     "start_time": "2019-12-17T03:11:15.692476Z"
    }
   },
   "outputs": [
    {
     "data": {
      "text/plain": [
       "['C#', 'F#', 'C', 'F', 'G', 'E', 'D#', 'G#', 'D', 'A#', 'A', 'B']"
      ]
     },
     "execution_count": 10,
     "metadata": {},
     "output_type": "execute_result"
    }
   ],
   "source": [
    "df['key'].unique().tolist()"
   ]
  },
  {
   "cell_type": "markdown",
   "metadata": {},
   "source": [
    "Всего в музыке 12 тональностей, так что с C до B заменим на 1 до 12 соответственно"
   ]
  },
  {
   "cell_type": "code",
   "execution_count": 4,
   "metadata": {
    "ExecuteTime": {
     "end_time": "2019-12-17T03:11:17.224757Z",
     "start_time": "2019-12-17T03:11:16.646937Z"
    }
   },
   "outputs": [
    {
     "data": {
      "text/html": [
       "<div>\n",
       "<style scoped>\n",
       "    .dataframe tbody tr th:only-of-type {\n",
       "        vertical-align: middle;\n",
       "    }\n",
       "\n",
       "    .dataframe tbody tr th {\n",
       "        vertical-align: top;\n",
       "    }\n",
       "\n",
       "    .dataframe thead th {\n",
       "        text-align: right;\n",
       "    }\n",
       "</style>\n",
       "<table border=\"1\" class=\"dataframe\">\n",
       "  <thead>\n",
       "    <tr style=\"text-align: right;\">\n",
       "      <th></th>\n",
       "      <th>genre</th>\n",
       "      <th>popularity</th>\n",
       "      <th>acousticness</th>\n",
       "      <th>danceability</th>\n",
       "      <th>duration_ms</th>\n",
       "      <th>energy</th>\n",
       "      <th>instrumentalness</th>\n",
       "      <th>key</th>\n",
       "      <th>liveness</th>\n",
       "      <th>loudness</th>\n",
       "      <th>mode</th>\n",
       "      <th>speechiness</th>\n",
       "      <th>tempo</th>\n",
       "      <th>time_signature</th>\n",
       "      <th>valence</th>\n",
       "    </tr>\n",
       "  </thead>\n",
       "  <tbody>\n",
       "    <tr>\n",
       "      <th>0</th>\n",
       "      <td>Movie</td>\n",
       "      <td>0</td>\n",
       "      <td>0.611</td>\n",
       "      <td>0.389</td>\n",
       "      <td>99373</td>\n",
       "      <td>0.910</td>\n",
       "      <td>0.000</td>\n",
       "      <td>2</td>\n",
       "      <td>0.3460</td>\n",
       "      <td>-1.828</td>\n",
       "      <td>1</td>\n",
       "      <td>0.0525</td>\n",
       "      <td>166.969</td>\n",
       "      <td>4</td>\n",
       "      <td>0.814</td>\n",
       "    </tr>\n",
       "    <tr>\n",
       "      <th>1</th>\n",
       "      <td>Movie</td>\n",
       "      <td>1</td>\n",
       "      <td>0.246</td>\n",
       "      <td>0.590</td>\n",
       "      <td>137373</td>\n",
       "      <td>0.737</td>\n",
       "      <td>0.000</td>\n",
       "      <td>7</td>\n",
       "      <td>0.1510</td>\n",
       "      <td>-5.559</td>\n",
       "      <td>0</td>\n",
       "      <td>0.0868</td>\n",
       "      <td>174.003</td>\n",
       "      <td>4</td>\n",
       "      <td>0.816</td>\n",
       "    </tr>\n",
       "    <tr>\n",
       "      <th>2</th>\n",
       "      <td>Movie</td>\n",
       "      <td>3</td>\n",
       "      <td>0.952</td>\n",
       "      <td>0.663</td>\n",
       "      <td>170267</td>\n",
       "      <td>0.131</td>\n",
       "      <td>0.000</td>\n",
       "      <td>1</td>\n",
       "      <td>0.1030</td>\n",
       "      <td>-13.879</td>\n",
       "      <td>0</td>\n",
       "      <td>0.0362</td>\n",
       "      <td>99.488</td>\n",
       "      <td>5</td>\n",
       "      <td>0.368</td>\n",
       "    </tr>\n",
       "    <tr>\n",
       "      <th>3</th>\n",
       "      <td>Movie</td>\n",
       "      <td>0</td>\n",
       "      <td>0.703</td>\n",
       "      <td>0.240</td>\n",
       "      <td>152427</td>\n",
       "      <td>0.326</td>\n",
       "      <td>0.000</td>\n",
       "      <td>2</td>\n",
       "      <td>0.0985</td>\n",
       "      <td>-12.178</td>\n",
       "      <td>1</td>\n",
       "      <td>0.0395</td>\n",
       "      <td>171.758</td>\n",
       "      <td>4</td>\n",
       "      <td>0.227</td>\n",
       "    </tr>\n",
       "    <tr>\n",
       "      <th>4</th>\n",
       "      <td>Movie</td>\n",
       "      <td>4</td>\n",
       "      <td>0.950</td>\n",
       "      <td>0.331</td>\n",
       "      <td>82625</td>\n",
       "      <td>0.225</td>\n",
       "      <td>0.123</td>\n",
       "      <td>6</td>\n",
       "      <td>0.2020</td>\n",
       "      <td>-21.150</td>\n",
       "      <td>1</td>\n",
       "      <td>0.0456</td>\n",
       "      <td>140.576</td>\n",
       "      <td>4</td>\n",
       "      <td>0.390</td>\n",
       "    </tr>\n",
       "  </tbody>\n",
       "</table>\n",
       "</div>"
      ],
      "text/plain": [
       "   genre  popularity  acousticness  danceability  duration_ms  energy  \\\n",
       "0  Movie           0         0.611         0.389        99373   0.910   \n",
       "1  Movie           1         0.246         0.590       137373   0.737   \n",
       "2  Movie           3         0.952         0.663       170267   0.131   \n",
       "3  Movie           0         0.703         0.240       152427   0.326   \n",
       "4  Movie           4         0.950         0.331        82625   0.225   \n",
       "\n",
       "   instrumentalness  key  liveness  loudness  mode  speechiness    tempo  \\\n",
       "0             0.000    2    0.3460    -1.828     1       0.0525  166.969   \n",
       "1             0.000    7    0.1510    -5.559     0       0.0868  174.003   \n",
       "2             0.000    1    0.1030   -13.879     0       0.0362   99.488   \n",
       "3             0.000    2    0.0985   -12.178     1       0.0395  171.758   \n",
       "4             0.123    6    0.2020   -21.150     1       0.0456  140.576   \n",
       "\n",
       "   time_signature  valence  \n",
       "0               4    0.814  \n",
       "1               4    0.816  \n",
       "2               5    0.368  \n",
       "3               4    0.227  \n",
       "4               4    0.390  "
      ]
     },
     "execution_count": 4,
     "metadata": {},
     "output_type": "execute_result"
    }
   ],
   "source": [
    "mode_dict = {'Minor' : 0, 'Major' : 1}\n",
    "\n",
    "key_dict = {'C' : 1, 'C#' : 2, 'D' : 3, 'D#' : 4, 'E' : 5, 'F' : 6, \n",
    "        'F#' : 7, 'G' : 9, 'G#' : 10, 'A' : 11, 'A#' : 12, 'B' : 12}\n",
    "\n",
    "df['time_signature'] = df['time_signature'].apply(lambda x : int(x[0]))\n",
    "df['mode'].replace(mode_dict, inplace=True)\n",
    "df['key'] = df['key'].replace(key_dict).astype(int)\n",
    "\n",
    "df.head()"
   ]
  },
  {
   "cell_type": "code",
   "execution_count": 5,
   "metadata": {},
   "outputs": [],
   "source": [
    "import numpy as np\n",
    "import matplotlib.pyplot as plt\n",
    "import seaborn as sns\n",
    "\n",
    "def corr_heatmap(data):\n",
    "    corr_matrix = data.corr()\n",
    "    mask = np.zeros_like(corr_matrix, dtype=np.bool)\n",
    "    mask[np.triu_indices_from(mask)]= True\n",
    "    f, ax = plt.subplots(figsize=(11, 15)) \n",
    "    heatmap = sns.heatmap(corr_matrix, \n",
    "                          mask = mask,\n",
    "                          square = True,\n",
    "                          linewidths = .5,\n",
    "                          cmap = 'coolwarm',\n",
    "                          cbar_kws = {'shrink': .4, \n",
    "                                    'ticks' : [-1, -.5, 0, 0.5, 1]},\n",
    "                          vmin = -1, \n",
    "                          vmax = 1,\n",
    "                          annot = True,\n",
    "                          annot_kws = {'size': 12})#add the column names as labels\n",
    "    ax.set_yticklabels(corr_matrix.columns, rotation = 0)\n",
    "    ax.set_xticklabels(corr_matrix.columns)\n",
    "    sns.set_style({'xtick.bottom': True}, {'ytick.left': True})"
   ]
  },
  {
   "cell_type": "code",
   "execution_count": 13,
   "metadata": {
    "ExecuteTime": {
     "end_time": "2019-12-17T03:11:21.167478Z",
     "start_time": "2019-12-17T03:11:21.163487Z"
    }
   },
   "outputs": [
    {
     "name": "stderr",
     "output_type": "stream",
     "text": [
      "C:\\Users\\Admin\\AppData\\Local\\Temp/ipykernel_8096/2420370173.py:7: DeprecationWarning: `np.bool` is a deprecated alias for the builtin `bool`. To silence this warning, use `bool` by itself. Doing this will not modify any behavior and is safe. If you specifically wanted the numpy scalar type, use `np.bool_` here.\n",
      "Deprecated in NumPy 1.20; for more details and guidance: https://numpy.org/devdocs/release/1.20.0-notes.html#deprecations\n",
      "  mask = np.zeros_like(corr_matrix, dtype=np.bool)\n"
     ]
    },
    {
     "data": {
      "image/png": "[encoded data removed]",
      "text/plain": [
       "<Figure size 792x1080 with 2 Axes>"
      ]
     },
     "metadata": {
      "needs_background": "light"
     },
     "output_type": "display_data"
    }
   ],
   "source": [
    "corr_heatmap(data)"
   ]
  },
  {
   "cell_type": "code",
   "execution_count": 14,
   "metadata": {
    "ExecuteTime": {
     "end_time": "2019-12-17T03:11:23.949738Z",
     "start_time": "2019-12-17T03:11:23.914841Z"
    }
   },
   "outputs": [
    {
     "data": {
      "text/plain": [
       "0"
      ]
     },
     "execution_count": 14,
     "metadata": {},
     "output_type": "execute_result"
    }
   ],
   "source": [
    "df.isna().sum().sum()"
   ]
  },
  {
   "cell_type": "markdown",
   "metadata": {},
   "source": [
    "Каждая строка этих данных представляет песню. Однако есть песни, относящиеся к нескольким жанрам. Взгляните на эти данные"
   ]
  },
  {
   "cell_type": "code",
   "execution_count": 15,
   "metadata": {
    "ExecuteTime": {
     "end_time": "2019-12-17T04:53:18.44231Z",
     "start_time": "2019-12-17T04:53:18.2782Z"
    }
   },
   "outputs": [],
   "source": [
    "duplicated_all = data[data.duplicated(subset = 'track_id', keep=False)]\n",
    "duplicated = data[data.duplicated(subset = 'track_id', keep='first')]"
   ]
  },
  {
   "cell_type": "code",
   "execution_count": 16,
   "metadata": {
    "ExecuteTime": {
     "end_time": "2019-12-17T04:53:18.590022Z",
     "start_time": "2019-12-17T04:53:18.548445Z"
    }
   },
   "outputs": [
    {
     "data": {
      "text/html": [
       "<div>\n",
       "<style scoped>\n",
       "    .dataframe tbody tr th:only-of-type {\n",
       "        vertical-align: middle;\n",
       "    }\n",
       "\n",
       "    .dataframe tbody tr th {\n",
       "        vertical-align: top;\n",
       "    }\n",
       "\n",
       "    .dataframe thead th {\n",
       "        text-align: right;\n",
       "    }\n",
       "</style>\n",
       "<table border=\"1\" class=\"dataframe\">\n",
       "  <thead>\n",
       "    <tr style=\"text-align: right;\">\n",
       "      <th></th>\n",
       "      <th>genre</th>\n",
       "      <th>artist_name</th>\n",
       "      <th>track_name</th>\n",
       "      <th>track_id</th>\n",
       "      <th>popularity</th>\n",
       "      <th>acousticness</th>\n",
       "      <th>danceability</th>\n",
       "      <th>duration_ms</th>\n",
       "      <th>energy</th>\n",
       "      <th>instrumentalness</th>\n",
       "      <th>key</th>\n",
       "      <th>liveness</th>\n",
       "      <th>loudness</th>\n",
       "      <th>mode</th>\n",
       "      <th>speechiness</th>\n",
       "      <th>tempo</th>\n",
       "      <th>time_signature</th>\n",
       "      <th>valence</th>\n",
       "    </tr>\n",
       "  </thead>\n",
       "  <tbody>\n",
       "    <tr>\n",
       "      <th>257</th>\n",
       "      <td>R&amp;B</td>\n",
       "      <td>Doja Cat</td>\n",
       "      <td>Go To Town</td>\n",
       "      <td>6iOvnACn4ChlAw4lWUU4dd</td>\n",
       "      <td>64</td>\n",
       "      <td>0.0716</td>\n",
       "      <td>0.71</td>\n",
       "      <td>217813</td>\n",
       "      <td>0.71</td>\n",
       "      <td>0.000001</td>\n",
       "      <td>C</td>\n",
       "      <td>0.206</td>\n",
       "      <td>-2.474</td>\n",
       "      <td>Major</td>\n",
       "      <td>0.0579</td>\n",
       "      <td>169.944</td>\n",
       "      <td>4/4</td>\n",
       "      <td>0.7</td>\n",
       "    </tr>\n",
       "    <tr>\n",
       "      <th>1348</th>\n",
       "      <td>Alternative</td>\n",
       "      <td>Doja Cat</td>\n",
       "      <td>Go To Town</td>\n",
       "      <td>6iOvnACn4ChlAw4lWUU4dd</td>\n",
       "      <td>64</td>\n",
       "      <td>0.0716</td>\n",
       "      <td>0.71</td>\n",
       "      <td>217813</td>\n",
       "      <td>0.71</td>\n",
       "      <td>0.000001</td>\n",
       "      <td>C</td>\n",
       "      <td>0.206</td>\n",
       "      <td>-2.474</td>\n",
       "      <td>Major</td>\n",
       "      <td>0.0579</td>\n",
       "      <td>169.944</td>\n",
       "      <td>4/4</td>\n",
       "      <td>0.7</td>\n",
       "    </tr>\n",
       "    <tr>\n",
       "      <th>77710</th>\n",
       "      <td>Children’s Music</td>\n",
       "      <td>Doja Cat</td>\n",
       "      <td>Go To Town</td>\n",
       "      <td>6iOvnACn4ChlAw4lWUU4dd</td>\n",
       "      <td>64</td>\n",
       "      <td>0.0716</td>\n",
       "      <td>0.71</td>\n",
       "      <td>217813</td>\n",
       "      <td>0.71</td>\n",
       "      <td>0.000001</td>\n",
       "      <td>C</td>\n",
       "      <td>0.206</td>\n",
       "      <td>-2.474</td>\n",
       "      <td>Major</td>\n",
       "      <td>0.0579</td>\n",
       "      <td>169.944</td>\n",
       "      <td>4/4</td>\n",
       "      <td>0.7</td>\n",
       "    </tr>\n",
       "    <tr>\n",
       "      <th>93651</th>\n",
       "      <td>Indie</td>\n",
       "      <td>Doja Cat</td>\n",
       "      <td>Go To Town</td>\n",
       "      <td>6iOvnACn4ChlAw4lWUU4dd</td>\n",
       "      <td>64</td>\n",
       "      <td>0.0716</td>\n",
       "      <td>0.71</td>\n",
       "      <td>217813</td>\n",
       "      <td>0.71</td>\n",
       "      <td>0.000001</td>\n",
       "      <td>C</td>\n",
       "      <td>0.206</td>\n",
       "      <td>-2.474</td>\n",
       "      <td>Major</td>\n",
       "      <td>0.0579</td>\n",
       "      <td>169.944</td>\n",
       "      <td>4/4</td>\n",
       "      <td>0.7</td>\n",
       "    </tr>\n",
       "    <tr>\n",
       "      <th>113770</th>\n",
       "      <td>Pop</td>\n",
       "      <td>Doja Cat</td>\n",
       "      <td>Go To Town</td>\n",
       "      <td>6iOvnACn4ChlAw4lWUU4dd</td>\n",
       "      <td>64</td>\n",
       "      <td>0.0716</td>\n",
       "      <td>0.71</td>\n",
       "      <td>217813</td>\n",
       "      <td>0.71</td>\n",
       "      <td>0.000001</td>\n",
       "      <td>C</td>\n",
       "      <td>0.206</td>\n",
       "      <td>-2.474</td>\n",
       "      <td>Major</td>\n",
       "      <td>0.0579</td>\n",
       "      <td>169.944</td>\n",
       "      <td>4/4</td>\n",
       "      <td>0.7</td>\n",
       "    </tr>\n",
       "  </tbody>\n",
       "</table>\n",
       "</div>"
      ],
      "text/plain": [
       "                   genre artist_name  track_name                track_id  \\\n",
       "257                  R&B    Doja Cat  Go To Town  6iOvnACn4ChlAw4lWUU4dd   \n",
       "1348         Alternative    Doja Cat  Go To Town  6iOvnACn4ChlAw4lWUU4dd   \n",
       "77710   Children’s Music    Doja Cat  Go To Town  6iOvnACn4ChlAw4lWUU4dd   \n",
       "93651              Indie    Doja Cat  Go To Town  6iOvnACn4ChlAw4lWUU4dd   \n",
       "113770               Pop    Doja Cat  Go To Town  6iOvnACn4ChlAw4lWUU4dd   \n",
       "\n",
       "        popularity  acousticness  danceability  duration_ms  energy  \\\n",
       "257             64        0.0716          0.71       217813    0.71   \n",
       "1348            64        0.0716          0.71       217813    0.71   \n",
       "77710           64        0.0716          0.71       217813    0.71   \n",
       "93651           64        0.0716          0.71       217813    0.71   \n",
       "113770          64        0.0716          0.71       217813    0.71   \n",
       "\n",
       "        instrumentalness key  liveness  loudness   mode  speechiness    tempo  \\\n",
       "257             0.000001   C     0.206    -2.474  Major       0.0579  169.944   \n",
       "1348            0.000001   C     0.206    -2.474  Major       0.0579  169.944   \n",
       "77710           0.000001   C     0.206    -2.474  Major       0.0579  169.944   \n",
       "93651           0.000001   C     0.206    -2.474  Major       0.0579  169.944   \n",
       "113770          0.000001   C     0.206    -2.474  Major       0.0579  169.944   \n",
       "\n",
       "       time_signature  valence  \n",
       "257               4/4      0.7  \n",
       "1348              4/4      0.7  \n",
       "77710             4/4      0.7  \n",
       "93651             4/4      0.7  \n",
       "113770            4/4      0.7  "
      ]
     },
     "execution_count": 16,
     "metadata": {},
     "output_type": "execute_result"
    }
   ],
   "source": [
    "data[data['track_id'] == duplicated['track_id'].iloc[0]]"
   ]
  },
  {
   "cell_type": "code",
   "execution_count": 17,
   "metadata": {
    "ExecuteTime": {
     "end_time": "2019-12-17T04:53:19.895069Z",
     "start_time": "2019-12-17T04:53:19.890151Z"
    }
   },
   "outputs": [
    {
     "name": "stdout",
     "output_type": "stream",
     "text": [
      "Unique Duplicates: 55951\n",
      "Total Duplicates: 91075\n",
      "Total Data: 232725\n",
      "Duplicates %: 39.13\n"
     ]
    }
   ],
   "source": [
    "print(f'''Unique Duplicates: {duplicated.shape[0]}\n",
    "Total Duplicates: {duplicated_all.shape[0]}\n",
    "Total Data: {data.shape[0]}\n",
    "Duplicates %: {round(duplicated_all.shape[0]/data.shape[0]*100, 2)}''')"
   ]
  },
  {
   "cell_type": "code",
   "execution_count": 18,
   "metadata": {
    "ExecuteTime": {
     "end_time": "2019-12-17T07:11:38.560304Z",
     "start_time": "2019-12-17T07:11:38.087636Z"
    },
    "cell_style": "split"
   },
   "outputs": [
    {
     "data": {
      "text/plain": [
       "Comedy              0.041598\n",
       "Soundtrack          0.041448\n",
       "Indie               0.041005\n",
       "Jazz                0.040567\n",
       "Pop                 0.040331\n",
       "Electronic          0.040292\n",
       "Children’s Music    0.040189\n",
       "Folk                0.039957\n",
       "Hip-Hop             0.039940\n",
       "Rock                0.039841\n",
       "Alternative         0.039802\n",
       "Classical           0.039772\n",
       "Rap                 0.039669\n",
       "World               0.039085\n",
       "Soul                0.039055\n",
       "Blues               0.038771\n",
       "R&B                 0.038638\n",
       "Anime               0.038397\n",
       "Reggaeton           0.038359\n",
       "Ska                 0.038131\n",
       "Reggae              0.037688\n",
       "Dance               0.037387\n",
       "Country             0.037228\n",
       "Opera               0.035578\n",
       "Movie               0.033542\n",
       "Children's Music    0.023216\n",
       "A Capella           0.000511\n",
       "Name: genre, dtype: float64"
      ]
     },
     "execution_count": 18,
     "metadata": {},
     "output_type": "execute_result"
    }
   ],
   "source": [
    "data['genre'].value_counts()/len(data)"
   ]
  },
  {
   "cell_type": "code",
   "execution_count": 19,
   "metadata": {
    "ExecuteTime": {
     "end_time": "2019-12-17T07:33:48.849788Z",
     "start_time": "2019-12-17T07:33:48.555945Z"
    },
    "cell_style": "split",
    "scrolled": true
   },
   "outputs": [
    {
     "data": {
      "text/plain": [
       "<AxesSubplot:xlabel='count', ylabel='genre'>"
      ]
     },
     "execution_count": 19,
     "metadata": {},
     "output_type": "execute_result"
    },
    {
     "data": {
      "image/png": "[encoded data removed]",
      "text/plain": [
       "<Figure size 432x288 with 1 Axes>"
      ]
     },
     "metadata": {
      "needs_background": "light"
     },
     "output_type": "display_data"
    }
   ],
   "source": [
    "sns.countplot(y=\"genre\", data=data, color='green')"
   ]
  },
  {
   "cell_type": "markdown",
   "metadata": {},
   "source": [
    "## Кросс-валидация"
   ]
  },
  {
   "cell_type": "code",
   "execution_count": 6,
   "metadata": {
    "ExecuteTime": {
     "end_time": "2019-12-16T07:00:29.348486Z",
     "start_time": "2019-12-16T07:00:16.858065Z"
    }
   },
   "outputs": [],
   "source": [
    "from sklearn.model_selection import train_test_split\n",
    "import time"
   ]
  },
  {
   "cell_type": "code",
   "execution_count": 126,
   "metadata": {
    "ExecuteTime": {
     "end_time": "2019-12-16T07:00:29.643594Z",
     "start_time": "2019-12-16T07:00:29.387217Z"
    }
   },
   "outputs": [],
   "source": [
    "X = df.drop(columns=['genre'])\n",
    "y = df['genre']\n",
    "random_state = 11\n",
    "test_size = 0.2\n",
    "X_train, X_valid, y_train, y_valid = train_test_split(X, y, test_size=test_size, random_state=random_state)"
   ]
  },
  {
   "cell_type": "code",
   "execution_count": 127,
   "metadata": {
    "ExecuteTime": {
     "end_time": "2019-12-16T07:00:29.781576Z",
     "start_time": "2019-12-16T07:00:29.712408Z"
    },
    "cell_style": "split",
    "scrolled": false
   },
   "outputs": [
    {
     "data": {
      "text/plain": [
       "A Capella             94\n",
       "Alternative         7372\n",
       "Anime               7145\n",
       "Blues               7260\n",
       "Children's Music    4356\n",
       "Children’s Music    7530\n",
       "Classical           7373\n",
       "Comedy              7742\n",
       "Country             6982\n",
       "Dance               6938\n",
       "Electronic          7547\n",
       "Folk                7439\n",
       "Hip-Hop             7390\n",
       "Indie               7637\n",
       "Jazz                7495\n",
       "Movie               6263\n",
       "Opera               6663\n",
       "Pop                 7477\n",
       "R&B                 7232\n",
       "Rap                 7458\n",
       "Reggae              6986\n",
       "Reggaeton           7090\n",
       "Rock                7479\n",
       "Ska                 7053\n",
       "Soul                7318\n",
       "Soundtrack          7598\n",
       "World               7263\n",
       "Name: genre, dtype: int64"
      ]
     },
     "execution_count": 127,
     "metadata": {},
     "output_type": "execute_result"
    }
   ],
   "source": [
    "y_train.value_counts().sort_index()"
   ]
  },
  {
   "cell_type": "code",
   "execution_count": 128,
   "metadata": {
    "ExecuteTime": {
     "end_time": "2019-12-16T07:00:29.878339Z",
     "start_time": "2019-12-16T07:00:29.866335Z"
    },
    "cell_style": "split"
   },
   "outputs": [
    {
     "data": {
      "text/plain": [
       "A Capella             25\n",
       "Alternative         1891\n",
       "Anime               1791\n",
       "Blues               1763\n",
       "Children's Music    1047\n",
       "Children’s Music    1823\n",
       "Classical           1883\n",
       "Comedy              1939\n",
       "Country             1682\n",
       "Dance               1763\n",
       "Electronic          1830\n",
       "Folk                1860\n",
       "Hip-Hop             1905\n",
       "Indie               1906\n",
       "Jazz                1946\n",
       "Movie               1543\n",
       "Opera               1617\n",
       "Pop                 1909\n",
       "R&B                 1760\n",
       "Rap                 1774\n",
       "Reggae              1785\n",
       "Reggaeton           1837\n",
       "Rock                1793\n",
       "Ska                 1821\n",
       "Soul                1771\n",
       "Soundtrack          2048\n",
       "World               1833\n",
       "Name: genre, dtype: int64"
      ]
     },
     "execution_count": 128,
     "metadata": {},
     "output_type": "execute_result"
    }
   ],
   "source": [
    "y_valid.value_counts().sort_index()"
   ]
  },
  {
   "cell_type": "markdown",
   "metadata": {},
   "source": [
    "В этом случае воспользуемся логистической регрессией. Даже если это не очень хорошо подходит для проблемы с несколькими классами, давайте просто попробуем, как это работает."
   ]
  },
  {
   "cell_type": "code",
   "execution_count": 77,
   "metadata": {
    "ExecuteTime": {
     "end_time": "2019-12-16T07:00:33.138471Z",
     "start_time": "2019-12-16T07:00:32.17701Z"
    }
   },
   "outputs": [],
   "source": [
    "from sklearn.linear_model import LogisticRegression"
   ]
  },
  {
   "cell_type": "code",
   "execution_count": 129,
   "metadata": {
    "ExecuteTime": {
     "end_time": "2019-12-16T07:00:33.214756Z",
     "start_time": "2019-12-16T07:00:33.209752Z"
    }
   },
   "outputs": [],
   "source": [
    "model = LogisticRegression(multi_class = 'multinomial', solver='lbfgs', max_iter=200)"
   ]
  },
  {
   "cell_type": "code",
   "execution_count": 130,
   "metadata": {
    "ExecuteTime": {
     "end_time": "2019-12-16T07:00:51.017143Z",
     "start_time": "2019-12-16T07:00:35.490845Z"
    }
   },
   "outputs": [
    {
     "data": {
      "text/plain": [
       "LogisticRegression(max_iter=200, multi_class='multinomial')"
      ]
     },
     "execution_count": 130,
     "metadata": {},
     "output_type": "execute_result"
    }
   ],
   "source": [
    "model.fit(X_train, y_train)"
   ]
  },
  {
   "cell_type": "code",
   "execution_count": 131,
   "metadata": {
    "ExecuteTime": {
     "end_time": "2019-12-16T07:00:51.149788Z",
     "start_time": "2019-12-16T07:00:51.098925Z"
    }
   },
   "outputs": [],
   "source": [
    "y_pred = model.predict(X_valid)"
   ]
  },
  {
   "cell_type": "code",
   "execution_count": 132,
   "metadata": {
    "ExecuteTime": {
     "end_time": "2019-12-16T07:00:52.641277Z",
     "start_time": "2019-12-16T07:00:51.23157Z"
    }
   },
   "outputs": [
    {
     "name": "stderr",
     "output_type": "stream",
     "text": [
      "C:\\ProgramData\\Anaconda3\\lib\\site-packages\\sklearn\\metrics\\_classification.py:1248: UndefinedMetricWarning: Precision and F-score are ill-defined and being set to 0.0 in labels with no predicted samples. Use `zero_division` parameter to control this behavior.\n",
      "  _warn_prf(average, modifier, msg_start, len(result))\n",
      "C:\\ProgramData\\Anaconda3\\lib\\site-packages\\sklearn\\metrics\\_classification.py:1248: UndefinedMetricWarning: Precision and F-score are ill-defined and being set to 0.0 in labels with no predicted samples. Use `zero_division` parameter to control this behavior.\n",
      "  _warn_prf(average, modifier, msg_start, len(result))\n"
     ]
    },
    {
     "name": "stdout",
     "output_type": "stream",
     "text": [
      "                  precision    recall  f1-score   support\n",
      "\n",
      "       A Capella       0.00      0.00      0.00        25\n",
      "     Alternative       0.00      0.00      0.00      1891\n",
      "           Anime       0.11      0.24      0.15      1791\n",
      "           Blues       0.00      0.00      0.00      1763\n",
      "Children's Music       0.00      0.00      0.00      1047\n",
      "Children’s Music       0.04      0.02      0.02      1823\n",
      "       Classical       0.29      0.17      0.22      1883\n",
      "          Comedy       0.12      0.01      0.03      1939\n",
      "         Country       0.00      0.00      0.00      1682\n",
      "           Dance       0.00      0.00      0.00      1763\n",
      "      Electronic       0.07      0.27      0.12      1830\n",
      "            Folk       0.04      0.00      0.00      1860\n",
      "         Hip-Hop       0.00      0.00      0.00      1905\n",
      "           Indie       0.01      0.00      0.00      1906\n",
      "            Jazz       0.06      0.12      0.08      1946\n",
      "           Movie       0.19      0.01      0.01      1543\n",
      "           Opera       0.44      0.15      0.22      1617\n",
      "             Pop       0.13      0.67      0.21      1909\n",
      "             R&B       0.00      0.00      0.00      1760\n",
      "             Rap       0.02      0.00      0.00      1774\n",
      "          Reggae       0.00      0.00      0.00      1785\n",
      "       Reggaeton       0.00      0.00      0.00      1837\n",
      "            Rock       0.07      0.22      0.11      1793\n",
      "             Ska       0.11      0.50      0.18      1821\n",
      "            Soul       0.00      0.00      0.00      1771\n",
      "      Soundtrack       0.45      0.04      0.08      2048\n",
      "           World       0.13      0.33      0.18      1833\n",
      "\n",
      "        accuracy                           0.11     46545\n",
      "       macro avg       0.08      0.10      0.06     46545\n",
      "    weighted avg       0.09      0.11      0.06     46545\n",
      "\n"
     ]
    },
    {
     "name": "stderr",
     "output_type": "stream",
     "text": [
      "C:\\ProgramData\\Anaconda3\\lib\\site-packages\\sklearn\\metrics\\_classification.py:1248: UndefinedMetricWarning: Precision and F-score are ill-defined and being set to 0.0 in labels with no predicted samples. Use `zero_division` parameter to control this behavior.\n",
      "  _warn_prf(average, modifier, msg_start, len(result))\n"
     ]
    }
   ],
   "source": [
    "from sklearn.metrics import classification_report\n",
    "print(classification_report(y_valid, y_pred))"
   ]
  },
  {
   "cell_type": "code",
   "execution_count": 133,
   "metadata": {
    "ExecuteTime": {
     "end_time": "2019-12-16T07:01:18.829285Z",
     "start_time": "2019-12-16T07:00:52.714855Z"
    }
   },
   "outputs": [
    {
     "data": {
      "text/plain": [
       "RandomForestClassifier(n_estimators=30, random_state=42)"
      ]
     },
     "execution_count": 133,
     "metadata": {},
     "output_type": "execute_result"
    }
   ],
   "source": [
    "from sklearn.ensemble import RandomForestClassifier\n",
    "\n",
    "rfc = RandomForestClassifier(n_estimators=30, random_state=42)\n",
    "rfc.fit(X_train, y_train)"
   ]
  },
  {
   "cell_type": "code",
   "execution_count": 134,
   "metadata": {
    "ExecuteTime": {
     "end_time": "2019-12-16T07:01:20.036457Z",
     "start_time": "2019-12-16T07:01:18.923762Z"
    }
   },
   "outputs": [],
   "source": [
    "y_rfc = rfc.predict(X_valid)"
   ]
  },
  {
   "cell_type": "code",
   "execution_count": 135,
   "metadata": {
    "ExecuteTime": {
     "end_time": "2019-12-16T07:01:21.536473Z",
     "start_time": "2019-12-16T07:01:20.12522Z"
    }
   },
   "outputs": [
    {
     "name": "stdout",
     "output_type": "stream",
     "text": [
      "                  precision    recall  f1-score   support\n",
      "\n",
      "       A Capella       1.00      0.20      0.33        25\n",
      "     Alternative       0.15      0.12      0.13      1891\n",
      "           Anime       0.62      0.58      0.60      1791\n",
      "           Blues       0.36      0.38      0.37      1763\n",
      "Children's Music       0.74      0.76      0.75      1047\n",
      "Children’s Music       0.03      0.04      0.03      1823\n",
      "       Classical       0.60      0.59      0.60      1883\n",
      "          Comedy       0.97      0.95      0.96      1939\n",
      "         Country       0.34      0.39      0.36      1682\n",
      "           Dance       0.11      0.10      0.11      1763\n",
      "      Electronic       0.50      0.53      0.51      1830\n",
      "            Folk       0.18      0.20      0.19      1860\n",
      "         Hip-Hop       0.12      0.13      0.13      1905\n",
      "           Indie       0.04      0.04      0.04      1906\n",
      "            Jazz       0.34      0.31      0.33      1946\n",
      "           Movie       0.58      0.53      0.55      1543\n",
      "           Opera       0.75      0.84      0.79      1617\n",
      "             Pop       0.10      0.11      0.11      1909\n",
      "             R&B       0.09      0.09      0.09      1760\n",
      "             Rap       0.05      0.05      0.05      1774\n",
      "          Reggae       0.41      0.36      0.39      1785\n",
      "       Reggaeton       0.54      0.57      0.56      1837\n",
      "            Rock       0.11      0.12      0.11      1793\n",
      "             Ska       0.59      0.54      0.56      1821\n",
      "            Soul       0.11      0.09      0.10      1771\n",
      "      Soundtrack       0.65      0.72      0.68      2048\n",
      "           World       0.49      0.39      0.44      1833\n",
      "\n",
      "        accuracy                           0.36     46545\n",
      "       macro avg       0.39      0.36      0.37     46545\n",
      "    weighted avg       0.36      0.36      0.36     46545\n",
      "\n"
     ]
    }
   ],
   "source": [
    "print(classification_report(y_valid, y_rfc))"
   ]
  },
  {
   "cell_type": "code",
   "execution_count": 32,
   "metadata": {
    "ExecuteTime": {
     "end_time": "2019-12-16T10:25:05.379554Z",
     "start_time": "2019-12-16T10:15:26.170557Z"
    }
   },
   "outputs": [],
   "source": [
    "from sklearn.feature_selection import RFE\n",
    "selector = RFE(model, n_features_to_select=1)\n",
    "selector.fit(X_train, y_train)"
   ]
  },
  {
   "cell_type": "code",
   "execution_count": 33,
   "metadata": {
    "ExecuteTime": {
     "end_time": "2019-12-16T10:25:05.495246Z",
     "start_time": "2019-12-16T10:25:05.490257Z"
    }
   },
   "outputs": [],
   "source": [
    "print(f\"Приоритетные признаки\")\n",
    "for i in range(len(selector.ranking_)):\n",
    "    print(f\"#{i+1}: {X.columns[selector.ranking_[i]-1]} \")"
   ]
  },
  {
   "cell_type": "markdown",
   "metadata": {},
   "source": [
    "Исходя из важности функции с использованием RFE sklearn выше, мы можем сказать, что продолжительность оказывает большее влияние на производительность модели по сравнению с большинством функций, таких как `key`, `speechiness`, `mode` и тд."
   ]
  },
  {
   "cell_type": "markdown",
   "metadata": {},
   "source": [
    "## Ребалансировка класса"
   ]
  },
  {
   "cell_type": "code",
   "execution_count": 136,
   "metadata": {
    "ExecuteTime": {
     "end_time": "2019-12-17T08:32:08.909161Z",
     "start_time": "2019-12-17T08:32:08.902182Z"
    }
   },
   "outputs": [],
   "source": [
    "def rebalance(data):\n",
    "    from tqdm import tqdm\n",
    "    data = data[data['genre'] != 'A Capella'\n",
    "    max_val = 5400 \n",
    "    _data = pd.DataFrame(columns=data.columns)\n",
    "\n",
    "    for genre in tqdm(data['genre'].unique()):\n",
    "        _data = _data.append(data[data['genre'] == genre].sample(n=max_val, random_state=1), ignore_index=True, sort=False)  \n",
    "    return _data"
   ]
  },
  {
   "cell_type": "code",
   "execution_count": 137,
   "metadata": {
    "ExecuteTime": {
     "end_time": "2019-12-17T09:15:29.149723Z",
     "start_time": "2019-12-17T09:15:26.943475Z"
    }
   },
   "outputs": [
    {
     "name": "stderr",
     "output_type": "stream",
     "text": [
      "100%|██████████████████████████████████████████| 26/26 [00:01<00:00, 18.68it/s]\n"
     ]
    }
   ],
   "source": [
    "balanced_df = rebalance(data).drop(columns=unused_col).reset_index(drop=True)\n",
    "balanced_df['duration_ms'] = balanced_df['duration_ms'].astype(int)\n",
    "balanced_df['time_signature'] = balanced_df['time_signature'].apply(lambda x : int(x[0]))\n",
    "balanced_df['mode'].replace(mode_dict, inplace=True)\n",
    "balanced_df['key'] = balanced_df['key'].replace(key_dict).astype(int)\n",
    "balanced_df['popularity'] = balanced_df['popularity'].astype(int)\n",
    "X_train, X_valid, y_train, y_valid = train_test_split(balanced_df.drop(columns='genre'),balanced_df['genre'], test_size=0.2, random_state=1)"
   ]
  },
  {
   "cell_type": "code",
   "execution_count": 138,
   "metadata": {},
   "outputs": [
    {
     "data": {
      "text/plain": [
       "genre\n",
       "Alternative         5400\n",
       "Anime               5400\n",
       "Soundtrack          5400\n",
       "Soul                5400\n",
       "Ska                 5400\n",
       "Rock                5400\n",
       "Reggaeton           5400\n",
       "Reggae              5400\n",
       "Rap                 5400\n",
       "R&B                 5400\n",
       "Pop                 5400\n",
       "Opera               5400\n",
       "Movie               5400\n",
       "Jazz                5400\n",
       "Indie               5400\n",
       "Hip-Hop             5400\n",
       "Folk                5400\n",
       "Electronic          5400\n",
       "Dance               5400\n",
       "Country             5400\n",
       "Comedy              5400\n",
       "Classical           5400\n",
       "Children’s Music    5400\n",
       "Children's Music    5400\n",
       "Blues               5400\n",
       "World               5400\n",
       "dtype: int64"
      ]
     },
     "execution_count": 138,
     "metadata": {},
     "output_type": "execute_result"
    }
   ],
   "source": [
    "balanced_df.value_counts('genre')"
   ]
  },
  {
   "cell_type": "code",
   "execution_count": 51,
   "metadata": {},
   "outputs": [],
   "source": [
    "new_df = pd.DataFrame(columns=balanced_df.columns)\n",
    "\n",
    "# задаем максимальное количество строк для каждого класса\n",
    "max_rows_per_class = 200\n",
    "\n",
    "# итерируемся по уникальным значениям в столбце genre\n",
    "for genre_label in balanced_df['genre'].unique():\n",
    "    \n",
    "    # выбираем строки с текущей меткой класса\n",
    "    genre_rows = balanced_df[balanced_df['genre'] == genre_label]\n",
    "    \n",
    "    # ограничиваем количество строк до 200\n",
    "    genre_rows = genre_rows[:max_rows_per_class]\n",
    "    \n",
    "    # добавляем строки в новый датасет\n",
    "    new_df = pd.concat([new_df, genre_rows])\n",
    "balanced_df = new_df"
   ]
  },
  {
   "cell_type": "code",
   "execution_count": 52,
   "metadata": {},
   "outputs": [
    {
     "data": {
      "text/plain": [
       "genre\n",
       "Alternative         200\n",
       "Anime               200\n",
       "Soundtrack          200\n",
       "Soul                200\n",
       "Ska                 200\n",
       "Rock                200\n",
       "Reggaeton           200\n",
       "Reggae              200\n",
       "Rap                 200\n",
       "R&B                 200\n",
       "Pop                 200\n",
       "Opera               200\n",
       "Movie               200\n",
       "Jazz                200\n",
       "Indie               200\n",
       "Hip-Hop             200\n",
       "Folk                200\n",
       "Electronic          200\n",
       "Dance               200\n",
       "Country             200\n",
       "Comedy              200\n",
       "Classical           200\n",
       "Children’s Music    200\n",
       "Children's Music    200\n",
       "Blues               200\n",
       "World               200\n",
       "dtype: int64"
      ]
     },
     "execution_count": 52,
     "metadata": {},
     "output_type": "execute_result"
    }
   ],
   "source": [
    "balanced_df.value_counts('genre')"
   ]
  },
  {
   "cell_type": "code",
   "execution_count": 139,
   "metadata": {},
   "outputs": [
    {
     "data": {
      "text/html": [
       "<div>\n",
       "<style scoped>\n",
       "    .dataframe tbody tr th:only-of-type {\n",
       "        vertical-align: middle;\n",
       "    }\n",
       "\n",
       "    .dataframe tbody tr th {\n",
       "        vertical-align: top;\n",
       "    }\n",
       "\n",
       "    .dataframe thead th {\n",
       "        text-align: right;\n",
       "    }\n",
       "</style>\n",
       "<table border=\"1\" class=\"dataframe\">\n",
       "  <thead>\n",
       "    <tr style=\"text-align: right;\">\n",
       "      <th></th>\n",
       "      <th>genre</th>\n",
       "      <th>popularity</th>\n",
       "      <th>acousticness</th>\n",
       "      <th>danceability</th>\n",
       "      <th>duration_ms</th>\n",
       "      <th>energy</th>\n",
       "      <th>instrumentalness</th>\n",
       "      <th>key</th>\n",
       "      <th>liveness</th>\n",
       "      <th>loudness</th>\n",
       "      <th>mode</th>\n",
       "      <th>speechiness</th>\n",
       "      <th>tempo</th>\n",
       "      <th>time_signature</th>\n",
       "      <th>valence</th>\n",
       "    </tr>\n",
       "  </thead>\n",
       "  <tbody>\n",
       "    <tr>\n",
       "      <th>0</th>\n",
       "      <td>Movie</td>\n",
       "      <td>0</td>\n",
       "      <td>0.110000</td>\n",
       "      <td>0.569</td>\n",
       "      <td>181441</td>\n",
       "      <td>0.8200</td>\n",
       "      <td>0.000600</td>\n",
       "      <td>9</td>\n",
       "      <td>0.0985</td>\n",
       "      <td>-4.924</td>\n",
       "      <td>0</td>\n",
       "      <td>0.0351</td>\n",
       "      <td>98.000</td>\n",
       "      <td>4</td>\n",
       "      <td>0.5500</td>\n",
       "    </tr>\n",
       "    <tr>\n",
       "      <th>1</th>\n",
       "      <td>Movie</td>\n",
       "      <td>41</td>\n",
       "      <td>0.876000</td>\n",
       "      <td>0.192</td>\n",
       "      <td>246213</td>\n",
       "      <td>0.0755</td>\n",
       "      <td>0.000976</td>\n",
       "      <td>1</td>\n",
       "      <td>0.0950</td>\n",
       "      <td>-21.081</td>\n",
       "      <td>1</td>\n",
       "      <td>0.0467</td>\n",
       "      <td>178.580</td>\n",
       "      <td>3</td>\n",
       "      <td>0.1490</td>\n",
       "    </tr>\n",
       "    <tr>\n",
       "      <th>2</th>\n",
       "      <td>Movie</td>\n",
       "      <td>23</td>\n",
       "      <td>0.025000</td>\n",
       "      <td>0.513</td>\n",
       "      <td>235547</td>\n",
       "      <td>0.9500</td>\n",
       "      <td>0.000000</td>\n",
       "      <td>1</td>\n",
       "      <td>0.0945</td>\n",
       "      <td>-4.821</td>\n",
       "      <td>0</td>\n",
       "      <td>0.1640</td>\n",
       "      <td>148.013</td>\n",
       "      <td>4</td>\n",
       "      <td>0.2860</td>\n",
       "    </tr>\n",
       "    <tr>\n",
       "      <th>3</th>\n",
       "      <td>Movie</td>\n",
       "      <td>1</td>\n",
       "      <td>0.666000</td>\n",
       "      <td>0.441</td>\n",
       "      <td>237067</td>\n",
       "      <td>0.2540</td>\n",
       "      <td>0.000277</td>\n",
       "      <td>12</td>\n",
       "      <td>0.1100</td>\n",
       "      <td>-11.347</td>\n",
       "      <td>1</td>\n",
       "      <td>0.0294</td>\n",
       "      <td>81.983</td>\n",
       "      <td>4</td>\n",
       "      <td>0.1870</td>\n",
       "    </tr>\n",
       "    <tr>\n",
       "      <th>4</th>\n",
       "      <td>Movie</td>\n",
       "      <td>25</td>\n",
       "      <td>0.250000</td>\n",
       "      <td>0.574</td>\n",
       "      <td>187834</td>\n",
       "      <td>0.6290</td>\n",
       "      <td>0.000000</td>\n",
       "      <td>12</td>\n",
       "      <td>0.1090</td>\n",
       "      <td>-6.497</td>\n",
       "      <td>0</td>\n",
       "      <td>0.0444</td>\n",
       "      <td>94.982</td>\n",
       "      <td>4</td>\n",
       "      <td>0.3700</td>\n",
       "    </tr>\n",
       "    <tr>\n",
       "      <th>...</th>\n",
       "      <td>...</td>\n",
       "      <td>...</td>\n",
       "      <td>...</td>\n",
       "      <td>...</td>\n",
       "      <td>...</td>\n",
       "      <td>...</td>\n",
       "      <td>...</td>\n",
       "      <td>...</td>\n",
       "      <td>...</td>\n",
       "      <td>...</td>\n",
       "      <td>...</td>\n",
       "      <td>...</td>\n",
       "      <td>...</td>\n",
       "      <td>...</td>\n",
       "      <td>...</td>\n",
       "    </tr>\n",
       "    <tr>\n",
       "      <th>140395</th>\n",
       "      <td>World</td>\n",
       "      <td>24</td>\n",
       "      <td>0.000194</td>\n",
       "      <td>0.507</td>\n",
       "      <td>109796</td>\n",
       "      <td>0.4820</td>\n",
       "      <td>0.801000</td>\n",
       "      <td>11</td>\n",
       "      <td>0.1140</td>\n",
       "      <td>-12.002</td>\n",
       "      <td>0</td>\n",
       "      <td>0.0335</td>\n",
       "      <td>129.960</td>\n",
       "      <td>4</td>\n",
       "      <td>0.8620</td>\n",
       "    </tr>\n",
       "    <tr>\n",
       "      <th>140396</th>\n",
       "      <td>World</td>\n",
       "      <td>35</td>\n",
       "      <td>0.881000</td>\n",
       "      <td>0.255</td>\n",
       "      <td>341587</td>\n",
       "      <td>0.2030</td>\n",
       "      <td>0.001850</td>\n",
       "      <td>1</td>\n",
       "      <td>0.1050</td>\n",
       "      <td>-12.200</td>\n",
       "      <td>1</td>\n",
       "      <td>0.0356</td>\n",
       "      <td>73.823</td>\n",
       "      <td>4</td>\n",
       "      <td>0.1450</td>\n",
       "    </tr>\n",
       "    <tr>\n",
       "      <th>140397</th>\n",
       "      <td>World</td>\n",
       "      <td>50</td>\n",
       "      <td>0.016900</td>\n",
       "      <td>0.544</td>\n",
       "      <td>195480</td>\n",
       "      <td>0.8220</td>\n",
       "      <td>0.000014</td>\n",
       "      <td>9</td>\n",
       "      <td>0.7160</td>\n",
       "      <td>-6.597</td>\n",
       "      <td>1</td>\n",
       "      <td>0.0280</td>\n",
       "      <td>130.019</td>\n",
       "      <td>4</td>\n",
       "      <td>0.2640</td>\n",
       "    </tr>\n",
       "    <tr>\n",
       "      <th>140398</th>\n",
       "      <td>World</td>\n",
       "      <td>35</td>\n",
       "      <td>0.830000</td>\n",
       "      <td>0.755</td>\n",
       "      <td>326227</td>\n",
       "      <td>0.3170</td>\n",
       "      <td>0.910000</td>\n",
       "      <td>11</td>\n",
       "      <td>0.1020</td>\n",
       "      <td>-16.937</td>\n",
       "      <td>0</td>\n",
       "      <td>0.0603</td>\n",
       "      <td>120.015</td>\n",
       "      <td>4</td>\n",
       "      <td>0.0397</td>\n",
       "    </tr>\n",
       "    <tr>\n",
       "      <th>140399</th>\n",
       "      <td>World</td>\n",
       "      <td>42</td>\n",
       "      <td>0.172000</td>\n",
       "      <td>0.370</td>\n",
       "      <td>504221</td>\n",
       "      <td>0.7240</td>\n",
       "      <td>0.000231</td>\n",
       "      <td>3</td>\n",
       "      <td>0.7020</td>\n",
       "      <td>-7.640</td>\n",
       "      <td>1</td>\n",
       "      <td>0.0424</td>\n",
       "      <td>147.962</td>\n",
       "      <td>4</td>\n",
       "      <td>0.2090</td>\n",
       "    </tr>\n",
       "  </tbody>\n",
       "</table>\n",
       "<p>140400 rows × 15 columns</p>\n",
       "</div>"
      ],
      "text/plain": [
       "        genre  popularity  acousticness  danceability  duration_ms  energy  \\\n",
       "0       Movie           0      0.110000         0.569       181441  0.8200   \n",
       "1       Movie          41      0.876000         0.192       246213  0.0755   \n",
       "2       Movie          23      0.025000         0.513       235547  0.9500   \n",
       "3       Movie           1      0.666000         0.441       237067  0.2540   \n",
       "4       Movie          25      0.250000         0.574       187834  0.6290   \n",
       "...       ...         ...           ...           ...          ...     ...   \n",
       "140395  World          24      0.000194         0.507       109796  0.4820   \n",
       "140396  World          35      0.881000         0.255       341587  0.2030   \n",
       "140397  World          50      0.016900         0.544       195480  0.8220   \n",
       "140398  World          35      0.830000         0.755       326227  0.3170   \n",
       "140399  World          42      0.172000         0.370       504221  0.7240   \n",
       "\n",
       "        instrumentalness  key  liveness  loudness  mode  speechiness    tempo  \\\n",
       "0               0.000600    9    0.0985    -4.924     0       0.0351   98.000   \n",
       "1               0.000976    1    0.0950   -21.081     1       0.0467  178.580   \n",
       "2               0.000000    1    0.0945    -4.821     0       0.1640  148.013   \n",
       "3               0.000277   12    0.1100   -11.347     1       0.0294   81.983   \n",
       "4               0.000000   12    0.1090    -6.497     0       0.0444   94.982   \n",
       "...                  ...  ...       ...       ...   ...          ...      ...   \n",
       "140395          0.801000   11    0.1140   -12.002     0       0.0335  129.960   \n",
       "140396          0.001850    1    0.1050   -12.200     1       0.0356   73.823   \n",
       "140397          0.000014    9    0.7160    -6.597     1       0.0280  130.019   \n",
       "140398          0.910000   11    0.1020   -16.937     0       0.0603  120.015   \n",
       "140399          0.000231    3    0.7020    -7.640     1       0.0424  147.962   \n",
       "\n",
       "        time_signature  valence  \n",
       "0                    4   0.5500  \n",
       "1                    3   0.1490  \n",
       "2                    4   0.2860  \n",
       "3                    4   0.1870  \n",
       "4                    4   0.3700  \n",
       "...                ...      ...  \n",
       "140395               4   0.8620  \n",
       "140396               4   0.1450  \n",
       "140397               4   0.2640  \n",
       "140398               4   0.0397  \n",
       "140399               4   0.2090  \n",
       "\n",
       "[140400 rows x 15 columns]"
      ]
     },
     "execution_count": 139,
     "metadata": {},
     "output_type": "execute_result"
    }
   ],
   "source": [
    "balanced_df"
   ]
  },
  {
   "cell_type": "code",
   "execution_count": 140,
   "metadata": {
    "ExecuteTime": {
     "end_time": "2019-12-17T09:15:52.692127Z",
     "start_time": "2019-12-17T09:15:30.74276Z"
    }
   },
   "outputs": [],
   "source": [
    "lrm_rebalance = LogisticRegression(multi_class = 'multinomial', solver='lbfgs', max_iter=200).fit(X_train, y_train)"
   ]
  },
  {
   "cell_type": "code",
   "execution_count": 141,
   "metadata": {
    "ExecuteTime": {
     "end_time": "2019-12-17T09:15:53.660575Z",
     "start_time": "2019-12-17T09:15:52.80787Z"
    }
   },
   "outputs": [
    {
     "name": "stderr",
     "output_type": "stream",
     "text": [
      "C:\\ProgramData\\Anaconda3\\lib\\site-packages\\sklearn\\metrics\\_classification.py:1248: UndefinedMetricWarning: Precision and F-score are ill-defined and being set to 0.0 in labels with no predicted samples. Use `zero_division` parameter to control this behavior.\n",
      "  _warn_prf(average, modifier, msg_start, len(result))\n",
      "C:\\ProgramData\\Anaconda3\\lib\\site-packages\\sklearn\\metrics\\_classification.py:1248: UndefinedMetricWarning: Precision and F-score are ill-defined and being set to 0.0 in labels with no predicted samples. Use `zero_division` parameter to control this behavior.\n",
      "  _warn_prf(average, modifier, msg_start, len(result))\n"
     ]
    },
    {
     "name": "stdout",
     "output_type": "stream",
     "text": [
      "                  precision    recall  f1-score   support\n",
      "\n",
      "     Alternative       0.08      0.05      0.07      1113\n",
      "           Anime       0.28      0.29      0.29      1091\n",
      "           Blues       0.07      0.00      0.00      1043\n",
      "Children's Music       0.45      0.61      0.52      1070\n",
      "Children’s Music       0.11      0.05      0.07      1102\n",
      "       Classical       0.30      0.38      0.33      1095\n",
      "          Comedy       0.17      0.07      0.10      1029\n",
      "         Country       0.09      0.19      0.12      1081\n",
      "           Dance       0.19      0.04      0.07      1074\n",
      "      Electronic       0.14      0.11      0.13      1060\n",
      "            Folk       0.13      0.09      0.11      1090\n",
      "         Hip-Hop       0.08      0.07      0.08      1042\n",
      "           Indie       0.15      0.03      0.06      1094\n",
      "            Jazz       0.16      0.17      0.16      1140\n",
      "           Movie       0.36      0.16      0.23      1135\n",
      "           Opera       0.41      0.62      0.49      1114\n",
      "             Pop       0.18      0.55      0.28      1073\n",
      "             R&B       0.12      0.00      0.01      1090\n",
      "             Rap       0.07      0.05      0.06      1097\n",
      "          Reggae       0.00      0.00      0.00      1047\n",
      "       Reggaeton       0.09      0.04      0.06      1122\n",
      "            Rock       0.09      0.22      0.12      1032\n",
      "             Ska       0.17      0.37      0.23      1023\n",
      "            Soul       0.09      0.08      0.09      1053\n",
      "      Soundtrack       0.27      0.50      0.35      1103\n",
      "           World       0.17      0.21      0.19      1067\n",
      "\n",
      "        accuracy                           0.19     28080\n",
      "       macro avg       0.17      0.19      0.16     28080\n",
      "    weighted avg       0.17      0.19      0.16     28080\n",
      "\n"
     ]
    },
    {
     "name": "stderr",
     "output_type": "stream",
     "text": [
      "C:\\ProgramData\\Anaconda3\\lib\\site-packages\\sklearn\\metrics\\_classification.py:1248: UndefinedMetricWarning: Precision and F-score are ill-defined and being set to 0.0 in labels with no predicted samples. Use `zero_division` parameter to control this behavior.\n",
      "  _warn_prf(average, modifier, msg_start, len(result))\n"
     ]
    }
   ],
   "source": [
    "print(classification_report(y_valid, lrm_rebalance.predict(X_valid)))"
   ]
  },
  {
   "cell_type": "markdown",
   "metadata": {},
   "source": [
    "Это неправильно говорить (поскольку это не яблоко к яблоку), но, как видим, обучение данных по сбалансированным данным может дать лучшую производительность."
   ]
  },
  {
   "cell_type": "markdown",
   "metadata": {},
   "source": [
    "## Удаление сильно коррелируемых значений"
   ]
  },
  {
   "cell_type": "code",
   "execution_count": 38,
   "metadata": {
    "ExecuteTime": {
     "end_time": "2019-12-17T09:15:58.372061Z",
     "start_time": "2019-12-17T09:15:57.646968Z"
    }
   },
   "outputs": [
    {
     "name": "stderr",
     "output_type": "stream",
     "text": [
      "C:\\Users\\Admin\\AppData\\Local\\Temp/ipykernel_8096/2420370173.py:7: DeprecationWarning: `np.bool` is a deprecated alias for the builtin `bool`. To silence this warning, use `bool` by itself. Doing this will not modify any behavior and is safe. If you specifically wanted the numpy scalar type, use `np.bool_` here.\n",
      "Deprecated in NumPy 1.20; for more details and guidance: https://numpy.org/devdocs/release/1.20.0-notes.html#deprecations\n",
      "  mask = np.zeros_like(corr_matrix, dtype=np.bool)\n"
     ]
    },
    {
     "data": {
      "image/png": "[encoded data removed]",
      "text/plain": [
       "<Figure size 792x1080 with 2 Axes>"
      ]
     },
     "metadata": {
      "needs_background": "light"
     },
     "output_type": "display_data"
    }
   ],
   "source": [
    "corr_heatmap(balanced_df)"
   ]
  },
  {
   "cell_type": "code",
   "execution_count": 142,
   "metadata": {
    "ExecuteTime": {
     "end_time": "2019-12-17T09:49:52.318712Z",
     "start_time": "2019-12-17T09:49:51.689395Z"
    }
   },
   "outputs": [
    {
     "name": "stderr",
     "output_type": "stream",
     "text": [
      "C:\\Users\\Admin\\AppData\\Local\\Temp/ipykernel_5164/2420370173.py:7: DeprecationWarning: `np.bool` is a deprecated alias for the builtin `bool`. To silence this warning, use `bool` by itself. Doing this will not modify any behavior and is safe. If you specifically wanted the numpy scalar type, use `np.bool_` here.\n",
      "Deprecated in NumPy 1.20; for more details and guidance: https://numpy.org/devdocs/release/1.20.0-notes.html#deprecations\n",
      "  mask = np.zeros_like(corr_matrix, dtype=np.bool)\n"
     ]
    },
    {
     "data": {
      "image/png": "[encoded data removed]",
      "text/plain": [
       "<Figure size 792x1080 with 2 Axes>"
      ]
     },
     "metadata": {
      "needs_background": "light"
     },
     "output_type": "display_data"
    }
   ],
   "source": [
    "corr_heatmap(balanced_df.drop(columns=['energy', 'loudness']))"
   ]
  },
  {
   "cell_type": "code",
   "execution_count": 143,
   "metadata": {
    "ExecuteTime": {
     "end_time": "2019-12-17T09:50:28.421515Z",
     "start_time": "2019-12-17T09:50:07.929347Z"
    }
   },
   "outputs": [],
   "source": [
    "X_train, X_valid, y_train, y_valid = train_test_split(balanced_df.drop(columns=['genre', 'energy', 'loudness']),balanced_df['genre'], test_size=0.2, random_state=1)\n",
    "lrm_cor = LogisticRegression(multi_class = 'multinomial', solver='lbfgs', max_iter=200).fit(X_train, y_train)"
   ]
  },
  {
   "cell_type": "code",
   "execution_count": 144,
   "metadata": {
    "ExecuteTime": {
     "end_time": "2019-12-17T09:50:29.464761Z",
     "start_time": "2019-12-17T09:50:28.544188Z"
    }
   },
   "outputs": [
    {
     "name": "stderr",
     "output_type": "stream",
     "text": [
      "C:\\ProgramData\\Anaconda3\\lib\\site-packages\\sklearn\\metrics\\_classification.py:1248: UndefinedMetricWarning: Precision and F-score are ill-defined and being set to 0.0 in labels with no predicted samples. Use `zero_division` parameter to control this behavior.\n",
      "  _warn_prf(average, modifier, msg_start, len(result))\n",
      "C:\\ProgramData\\Anaconda3\\lib\\site-packages\\sklearn\\metrics\\_classification.py:1248: UndefinedMetricWarning: Precision and F-score are ill-defined and being set to 0.0 in labels with no predicted samples. Use `zero_division` parameter to control this behavior.\n",
      "  _warn_prf(average, modifier, msg_start, len(result))\n"
     ]
    },
    {
     "name": "stdout",
     "output_type": "stream",
     "text": [
      "                  precision    recall  f1-score   support\n",
      "\n",
      "     Alternative       0.06      0.03      0.04      1113\n",
      "           Anime       0.17      0.08      0.11      1091\n",
      "           Blues       0.00      0.00      0.00      1043\n",
      "Children's Music       0.38      0.66      0.48      1070\n",
      "Children’s Music       0.08      0.03      0.04      1102\n",
      "       Classical       0.27      0.14      0.18      1095\n",
      "          Comedy       0.17      0.05      0.08      1029\n",
      "         Country       0.08      0.21      0.12      1081\n",
      "           Dance       0.12      0.01      0.02      1074\n",
      "      Electronic       0.00      0.00      0.00      1060\n",
      "            Folk       0.09      0.06      0.07      1090\n",
      "         Hip-Hop       0.07      0.08      0.07      1042\n",
      "           Indie       0.10      0.01      0.03      1094\n",
      "            Jazz       0.14      0.18      0.16      1140\n",
      "           Movie       0.34      0.20      0.25      1135\n",
      "           Opera       0.28      0.48      0.36      1114\n",
      "             Pop       0.17      0.60      0.27      1073\n",
      "             R&B       0.04      0.00      0.00      1090\n",
      "             Rap       0.06      0.04      0.05      1097\n",
      "          Reggae       0.00      0.00      0.00      1047\n",
      "       Reggaeton       0.06      0.02      0.03      1122\n",
      "            Rock       0.09      0.23      0.12      1032\n",
      "             Ska       0.12      0.33      0.17      1023\n",
      "            Soul       0.10      0.10      0.10      1053\n",
      "      Soundtrack       0.06      0.01      0.01      1103\n",
      "           World       0.13      0.37      0.19      1067\n",
      "\n",
      "        accuracy                           0.15     28080\n",
      "       macro avg       0.12      0.15      0.11     28080\n",
      "    weighted avg       0.12      0.15      0.11     28080\n",
      "\n"
     ]
    },
    {
     "name": "stderr",
     "output_type": "stream",
     "text": [
      "C:\\ProgramData\\Anaconda3\\lib\\site-packages\\sklearn\\metrics\\_classification.py:1248: UndefinedMetricWarning: Precision and F-score are ill-defined and being set to 0.0 in labels with no predicted samples. Use `zero_division` parameter to control this behavior.\n",
      "  _warn_prf(average, modifier, msg_start, len(result))\n"
     ]
    }
   ],
   "source": [
    "print(classification_report(y_valid, lrm_cor.predict(X_valid)))"
   ]
  },
  {
   "cell_type": "markdown",
   "metadata": {},
   "source": [
    "Отсюда делается вывод, что удаление высококоррелированных функций полезно для экономии средств. Но каким-то образом модель может считать это важным и может привести к изменению производительности модели."
   ]
  },
  {
   "cell_type": "markdown",
   "metadata": {},
   "source": [
    "## Удаление не нужных признаков"
   ]
  },
  {
   "cell_type": "markdown",
   "metadata": {},
   "source": [
    "Ранее мы рассчитали важность функции модели (по убыванию):\n",
    "1. loudness \n",
    "2. danceability \n",
    "3. acousticness \n",
    "4. valence \n",
    "5. energy \n",
    "6. duration_ms \n",
    "7. tempo \n",
    "8. key \n",
    "9. speechiness \n",
    "10. mode \n",
    "11. popularity \n",
    "12. time_signature \n",
    "13. liveness \n",
    "14. instrumentalness \n",
    "\n",
    "Now let's try to drop 6"
   ]
  },
  {
   "cell_type": "code",
   "execution_count": 67,
   "metadata": {},
   "outputs": [],
   "source": []
  },
  {
   "cell_type": "code",
   "execution_count": 145,
   "metadata": {
    "ExecuteTime": {
     "end_time": "2019-12-17T12:01:49.863243Z",
     "start_time": "2019-12-17T12:01:19.942636Z"
    }
   },
   "outputs": [
    {
     "name": "stderr",
     "output_type": "stream",
     "text": [
      "C:\\ProgramData\\Anaconda3\\lib\\site-packages\\sklearn\\linear_model\\_logistic.py:763: ConvergenceWarning: lbfgs failed to converge (status=1):\n",
      "STOP: TOTAL NO. of ITERATIONS REACHED LIMIT.\n",
      "\n",
      "Increase the number of iterations (max_iter) or scale the data as shown in:\n",
      "    https://scikit-learn.org/stable/modules/preprocessing.html\n",
      "Please also refer to the documentation for alternative solver options:\n",
      "    https://scikit-learn.org/stable/modules/linear_model.html#logistic-regression\n",
      "  n_iter_i = _check_optimize_result(\n"
     ]
    }
   ],
   "source": [
    "X_train, X_valid, y_train, y_valid = train_test_split(balanced_df.drop(columns=['genre', 'loudness', 'danceability', 'acousticness', 'valence', 'energy', 'duration_ms']),balanced_df['genre'], test_size=0.2, random_state=1)\n",
    "lrm_uf = LogisticRegression(multi_class = 'multinomial', solver='lbfgs', max_iter=200).fit(X_train, y_train)"
   ]
  },
  {
   "cell_type": "code",
   "execution_count": 146,
   "metadata": {
    "ExecuteTime": {
     "end_time": "2019-12-17T12:01:50.876583Z",
     "start_time": "2019-12-17T12:01:49.970974Z"
    }
   },
   "outputs": [
    {
     "name": "stdout",
     "output_type": "stream",
     "text": [
      "                  precision    recall  f1-score   support\n",
      "\n",
      "     Alternative       0.12      0.03      0.05      1113\n",
      "           Anime       0.23      0.17      0.19      1091\n",
      "           Blues       0.11      0.08      0.09      1043\n",
      "Children's Music       0.48      0.71      0.58      1070\n",
      "Children’s Music       0.06      0.01      0.01      1102\n",
      "       Classical       0.18      0.15      0.16      1095\n",
      "          Comedy       0.69      0.91      0.79      1029\n",
      "         Country       0.12      0.37      0.18      1081\n",
      "           Dance       0.09      0.06      0.07      1074\n",
      "      Electronic       0.15      0.08      0.10      1060\n",
      "            Folk       0.09      0.11      0.10      1090\n",
      "         Hip-Hop       0.12      0.12      0.12      1042\n",
      "           Indie       0.09      0.00      0.00      1094\n",
      "            Jazz       0.25      0.04      0.07      1140\n",
      "           Movie       0.19      0.08      0.12      1135\n",
      "           Opera       0.34      0.44      0.38      1114\n",
      "             Pop       0.25      0.50      0.33      1073\n",
      "             R&B       0.11      0.10      0.10      1090\n",
      "             Rap       0.16      0.13      0.14      1097\n",
      "          Reggae       0.16      0.20      0.18      1047\n",
      "       Reggaeton       0.12      0.14      0.13      1122\n",
      "            Rock       0.13      0.27      0.18      1032\n",
      "             Ska       0.16      0.23      0.19      1023\n",
      "            Soul       0.12      0.07      0.09      1053\n",
      "      Soundtrack       0.31      0.61      0.41      1103\n",
      "           World       0.06      0.02      0.03      1067\n",
      "\n",
      "        accuracy                           0.21     28080\n",
      "       macro avg       0.19      0.22      0.18     28080\n",
      "    weighted avg       0.19      0.21      0.18     28080\n",
      "\n"
     ]
    }
   ],
   "source": [
    "print(classification_report(y_valid, lrm_uf.predict(X_valid)))"
   ]
  },
  {
   "cell_type": "code",
   "execution_count": 147,
   "metadata": {
    "ExecuteTime": {
     "end_time": "2019-12-17T12:03:35.119186Z",
     "start_time": "2019-12-17T12:03:24.827694Z"
    }
   },
   "outputs": [],
   "source": [
    "rfc = RandomForestClassifier(n_estimators=30, random_state=42)\n",
    "print(classification_report(y_valid, rfc.fit(X_train, y_train).predict(X_valid)))"
   ]
  },
  {
   "cell_type": "markdown",
   "metadata": {},
   "source": [
    "Производительность логистической регрессии значительно улучшилась. Точность подскочила с 11 до 21%. Это не большой, но это значительно. В отличие от случайного леса, который уменьшился на 6%. Это связано с тем, что по умолчанию случайный лес может сам выбирать объекты. Удаление функции означает снижение ее способности в качестве загрузочного агрегатора, который косвенно и коллективно измеряет и взвешивает функции."
   ]
  },
  {
   "cell_type": "markdown",
   "metadata": {},
   "source": [
    "## Изменение измерения теста классификации на подход к прогнозированию топ-5"
   ]
  },
  {
   "cell_type": "markdown",
   "metadata": {},
   "source": [
    "Допустим, у нас есть прогноз. Вероятность одна."
   ]
  },
  {
   "cell_type": "code",
   "execution_count": 148,
   "metadata": {
    "ExecuteTime": {
     "end_time": "2019-12-17T12:28:05.162802Z",
     "start_time": "2019-12-17T12:28:05.137959Z"
    }
   },
   "outputs": [
    {
     "data": {
      "text/plain": [
       "array([9.18097377e-02, 6.08960066e-03, 3.29469256e-02, 3.34930839e-05,\n",
       "       7.70858352e-02, 7.12356086e-03, 8.75557771e-04, 1.04774195e-01,\n",
       "       5.11236357e-02, 3.33976395e-02, 9.67478810e-02, 4.91647107e-02,\n",
       "       7.24419411e-02, 3.27707964e-02, 6.59092494e-04, 7.67495481e-04,\n",
       "       1.35936522e-02, 6.01742047e-02, 3.59735227e-02, 2.30686525e-02,\n",
       "       2.96149245e-02, 6.06335867e-02, 1.54886183e-02, 6.07380235e-02,\n",
       "       8.01333215e-03, 3.48893844e-02])"
      ]
     },
     "execution_count": 148,
     "metadata": {},
     "output_type": "execute_result"
    }
   ],
   "source": [
    "preds = lrm_uf.predict_proba(X_valid)\n",
    "preds[0]"
   ]
  },
  {
   "cell_type": "code",
   "execution_count": 149,
   "metadata": {
    "ExecuteTime": {
     "end_time": "2019-12-17T12:28:07.274222Z",
     "start_time": "2019-12-17T12:28:07.26922Z"
    }
   },
   "outputs": [
    {
     "data": {
      "text/plain": [
       "7"
      ]
     },
     "execution_count": 149,
     "metadata": {},
     "output_type": "execute_result"
    }
   ],
   "source": [
    "preds[0].argmax()"
   ]
  },
  {
   "cell_type": "code",
   "execution_count": 150,
   "metadata": {
    "ExecuteTime": {
     "end_time": "2019-12-17T12:28:13.40507Z",
     "start_time": "2019-12-17T12:28:13.399087Z"
    }
   },
   "outputs": [
    {
     "data": {
      "text/plain": [
       "'Country'"
      ]
     },
     "execution_count": 150,
     "metadata": {},
     "output_type": "execute_result"
    }
   ],
   "source": [
    "lrm_uf.classes_[preds[0].argmax()]"
   ]
  },
  {
   "cell_type": "code",
   "execution_count": 151,
   "metadata": {
    "ExecuteTime": {
     "end_time": "2019-12-17T12:28:14.826526Z",
     "start_time": "2019-12-17T12:28:14.785671Z"
    }
   },
   "outputs": [
    {
     "name": "stdout",
     "output_type": "stream",
     "text": [
      "Predicted Class\t: Country\n",
      "Ground Truth\t: Alternative\n",
      "Correctness\t: False\n",
      "\n"
     ]
    }
   ],
   "source": [
    "print(f\"\"\"Predicted Class\\t: {lrm_cor.classes_[preds[0].argmax()]}\n",
    "Ground Truth\\t: {y_valid.values[0]}\n",
    "Correctness\\t: {lrm_cor.classes_[preds[0].argmax()] == y_valid.values[0]}\n",
    "\"\"\")"
   ]
  },
  {
   "cell_type": "code",
   "execution_count": 152,
   "metadata": {
    "ExecuteTime": {
     "end_time": "2019-12-17T12:28:15.897897Z",
     "start_time": "2019-12-17T12:28:15.891883Z"
    }
   },
   "outputs": [
    {
     "data": {
      "text/plain": [
       "array([ 7, 10,  0,  4, 12], dtype=int64)"
      ]
     },
     "execution_count": 152,
     "metadata": {},
     "output_type": "execute_result"
    }
   ],
   "source": [
    "preds[0].argsort()[::-1][:5]"
   ]
  },
  {
   "cell_type": "code",
   "execution_count": 153,
   "metadata": {
    "ExecuteTime": {
     "end_time": "2019-12-17T12:28:23.068726Z",
     "start_time": "2019-12-17T12:28:23.062744Z"
    }
   },
   "outputs": [
    {
     "data": {
      "text/plain": [
       "array(['Country', 'Folk', 'Alternative', 'Children’s Music', 'Indie'],\n",
       "      dtype=object)"
      ]
     },
     "execution_count": 153,
     "metadata": {},
     "output_type": "execute_result"
    }
   ],
   "source": [
    "lrm_uf.classes_[preds[0].argsort()[::-1][:5]]"
   ]
  },
  {
   "cell_type": "code",
   "execution_count": 154,
   "metadata": {
    "ExecuteTime": {
     "end_time": "2019-12-17T12:28:23.896043Z",
     "start_time": "2019-12-17T12:28:23.889737Z"
    }
   },
   "outputs": [
    {
     "name": "stdout",
     "output_type": "stream",
     "text": [
      "Predicted Class\t: ['Country' 'Folk' 'Alternative' 'Children’s Music' 'Indie']\n",
      "Ground Truth\t: Alternative\n",
      "Correctness\t: True\n",
      "\n"
     ]
    }
   ],
   "source": [
    "print(f\"\"\"Predicted Class\\t: {lrm_cor.classes_[preds[0].argsort()[::-1][:5]]}\n",
    "Ground Truth\\t: {y_valid.values[0]}\n",
    "Correctness\\t: {y_valid.values[0] in lrm_cor.classes_[preds[0].argsort()[::-1][:5]] }\n",
    "\"\"\")"
   ]
  },
  {
   "cell_type": "code",
   "execution_count": 155,
   "metadata": {
    "ExecuteTime": {
     "end_time": "2019-12-17T12:29:39.660064Z",
     "start_time": "2019-12-17T12:29:39.638124Z"
    }
   },
   "outputs": [],
   "source": [
    "preds_proba = lrm_uf.predict_proba(X_valid)"
   ]
  },
  {
   "cell_type": "code",
   "execution_count": 156,
   "metadata": {
    "ExecuteTime": {
     "end_time": "2019-12-17T12:33:24.50498Z",
     "start_time": "2019-12-17T12:33:24.457074Z"
    }
   },
   "outputs": [],
   "source": [
    "def top5score(preds, ground_truth, model):\n",
    "    if not len(preds) == len(ground_truth):\n",
    "        raise exception('Shape Mismatch')\n",
    "    \n",
    "    mdfd_pred = []\n",
    "    for i in range(len(preds)):\n",
    "        preds_classes = model.classes_[preds[i].argsort()[::-1][:5]]\n",
    "        if ground_truth[i] in preds_classes :\n",
    "            mdfd_pred.append(ground_truth[i])\n",
    "        else:\n",
    "            mdfd_pred.append(preds_classes[0])\n",
    "    return mdfd_pred"
   ]
  },
  {
   "cell_type": "code",
   "execution_count": 157,
   "metadata": {
    "ExecuteTime": {
     "end_time": "2019-12-17T12:33:25.158198Z",
     "start_time": "2019-12-17T12:33:25.15129Z"
    }
   },
   "outputs": [
    {
     "data": {
      "text/plain": [
       "array([9.18097377e-02, 6.08960066e-03, 3.29469256e-02, 3.34930839e-05,\n",
       "       7.70858352e-02, 7.12356086e-03, 8.75557771e-04, 1.04774195e-01,\n",
       "       5.11236357e-02, 3.33976395e-02, 9.67478810e-02, 4.91647107e-02,\n",
       "       7.24419411e-02, 3.27707964e-02, 6.59092494e-04, 7.67495481e-04,\n",
       "       1.35936522e-02, 6.01742047e-02, 3.59735227e-02, 2.30686525e-02,\n",
       "       2.96149245e-02, 6.06335867e-02, 1.54886183e-02, 6.07380235e-02,\n",
       "       8.01333215e-03, 3.48893844e-02])"
      ]
     },
     "execution_count": 157,
     "metadata": {},
     "output_type": "execute_result"
    }
   ],
   "source": [
    "preds_proba[0]"
   ]
  },
  {
   "cell_type": "code",
   "execution_count": 158,
   "metadata": {
    "ExecuteTime": {
     "end_time": "2019-12-17T12:33:36.242906Z",
     "start_time": "2019-12-17T12:33:35.971703Z"
    }
   },
   "outputs": [],
   "source": [
    "mdfd_pred = top5score(preds_proba, y_valid.values, lrm_uf)"
   ]
  },
  {
   "cell_type": "code",
   "execution_count": 159,
   "metadata": {
    "ExecuteTime": {
     "end_time": "2019-12-17T12:35:30.052416Z",
     "start_time": "2019-12-17T12:35:29.328383Z"
    }
   },
   "outputs": [
    {
     "name": "stdout",
     "output_type": "stream",
     "text": [
      "                  precision    recall  f1-score   support\n",
      "\n",
      "     Alternative       0.71      0.40      0.51      1113\n",
      "           Anime       0.79      0.72      0.75      1091\n",
      "           Blues       0.64      0.61      0.63      1043\n",
      "Children's Music       0.89      0.91      0.90      1070\n",
      "Children’s Music       0.87      0.49      0.63      1102\n",
      "       Classical       0.74      0.64      0.69      1095\n",
      "          Comedy       0.84      0.94      0.89      1029\n",
      "         Country       0.27      0.59      0.37      1081\n",
      "           Dance       0.64      0.61      0.62      1074\n",
      "      Electronic       0.70      0.53      0.60      1060\n",
      "            Folk       0.43      0.51      0.47      1090\n",
      "         Hip-Hop       0.61      0.68      0.64      1042\n",
      "           Indie       0.98      0.38      0.55      1094\n",
      "            Jazz       0.88      0.55      0.68      1140\n",
      "           Movie       0.94      0.79      0.86      1135\n",
      "           Opera       0.78      0.84      0.81      1114\n",
      "             Pop       0.51      0.76      0.61      1073\n",
      "             R&B       0.44      0.38      0.40      1090\n",
      "             Rap       0.71      0.70      0.70      1097\n",
      "          Reggae       0.56      0.64      0.60      1047\n",
      "       Reggaeton       0.47      0.47      0.47      1122\n",
      "            Rock       0.40      0.64      0.49      1032\n",
      "             Ska       0.58      0.69      0.63      1023\n",
      "            Soul       0.59      0.46      0.52      1053\n",
      "      Soundtrack       0.71      0.85      0.77      1103\n",
      "           World       0.80      0.57      0.67      1067\n",
      "\n",
      "        accuracy                           0.63     28080\n",
      "       macro avg       0.67      0.63      0.63     28080\n",
      "    weighted avg       0.67      0.63      0.63     28080\n",
      "\n"
     ]
    }
   ],
   "source": [
    "print(classification_report(y_valid,mdfd_pred ))"
   ]
  },
  {
   "cell_type": "code",
   "execution_count": 160,
   "metadata": {},
   "outputs": [
    {
     "name": "stdout",
     "output_type": "stream",
     "text": [
      "                   genre\n",
      "0                  Movie\n",
      "5400                 R&B\n",
      "10800        Alternative\n",
      "16200            Country\n",
      "21600              Dance\n",
      "27000         Electronic\n",
      "32400              Anime\n",
      "37800               Folk\n",
      "43200              Blues\n",
      "48600              Opera\n",
      "54000            Hip-Hop\n",
      "59400   Children's Music\n",
      "64800   Children’s Music\n",
      "70200                Rap\n",
      "75600              Indie\n",
      "81000          Classical\n",
      "86400                Pop\n",
      "91800             Reggae\n",
      "97200          Reggaeton\n",
      "102600              Jazz\n",
      "108000              Rock\n",
      "113400               Ska\n",
      "118800            Comedy\n",
      "124200              Soul\n",
      "129600        Soundtrack\n",
      "135000             World\n"
     ]
    }
   ],
   "source": [
    "category_id_df = balanced_df[['genre']].drop_duplicates()\n",
    "print(category_id_df)"
   ]
  },
  {
   "cell_type": "code",
   "execution_count": 165,
   "metadata": {},
   "outputs": [
    {
     "data": {
      "image/png": "[encoded data removed]",
      "text/plain": [
       "<Figure size 1080x1080 with 2 Axes>"
      ]
     },
     "metadata": {},
     "output_type": "display_data"
    }
   ],
   "source": [
    "from sklearn.metrics import confusion_matrix\n",
    "# создание тепловой карты матрицы ошибок на первых 5000 строках\n",
    "conf_mat = confusion_matrix(y_valid, mdfd_pred)\n",
    "fig, ax = plt.subplots(figsize=(15,15))\n",
    "\n",
    "sns.heatmap(conf_mat, annot=True, cmap=\"viridis\", fmt='d',\n",
    "            xticklabels=category_id_df.genre.values, \n",
    "            yticklabels=category_id_df.genre.values, color = 'white')\n",
    "plt.ylabel('Настоящие', size=16)\n",
    "plt.xlabel('Предсказанные', size=16)\n",
    "plt.title(\"Матрица путаницы\\n\", size=16);\n"
   ]
  },
  {
   "cell_type": "code",
   "execution_count": 166,
   "metadata": {},
   "outputs": [
    {
     "data": {
      "text/plain": [
       "array([[444,   2,  35,   0,   0,   0,   4, 123,  37,   9,  71,  42,   2,\n",
       "          7,   0,   1,  52,  35,  36,  16,  62,  81,   3,  25,  19,   7],\n",
       "       [  5, 787,  21,   0,   0,  30,  10,  31,   1,   9,   6,   2,   0,\n",
       "          3,   2,  47,   1,   5,   0,  42,  33,   5,  15,   3,  28,   5],\n",
       "       [  8,  27, 637,   5,   0,  44,  15,  51,   6,  13,  13,  10,   0,\n",
       "          6,   1,  25,  11,  17,   2,  37,  42,  28,   2,  17,  26,   0],\n",
       "       [  0,   8,   1, 978,   0,   4,   7,   5,   0,   0,   0,   0,   0,\n",
       "          0,   2,  17,   0,   1,   0,   7,   4,   0,  32,   0,   2,   2],\n",
       "       [  3,   1,   4,   2, 540,   1,   1, 127,  34,   8,  37,  12,   0,\n",
       "          6,   1,   1, 117,  46,  54,   0,  13,  32,   1,  46,  14,   1],\n",
       "       [  5,  23,  20,  49,   1, 703,   5,  34,   4,  35,  11,   2,   1,\n",
       "          7,  12,  16,  25,   4,   1,  10,  29,  26,  30,   2,  30,  10],\n",
       "       [  0,   3,   0,   2,   0,   0, 969,   3,   1,   5,   0,   8,   0,\n",
       "          0,   6,   3,   2,   0,   0,   3,   2,   8,  14,   0,   0,   0],\n",
       "       [  8,   1,  57,   7,   3,   2,   8, 643,  21,   8,   9,   8,   0,\n",
       "          1,   1,   1,  47,  32,   5,  36,  51,  80,  31,  14,   1,   6],\n",
       "       [ 15,   1,   1,  11,  12,   0,   2, 164, 653,   3,  83,   1,   0,\n",
       "          1,   0,   1,   0,  31,   0,   0,  24,  25,   3,  36,   7,   0],\n",
       "       [  1,  32,  36,   7,   2,  54,  26,  56,  10, 566,  13,  19,   0,\n",
       "          2,   2,   8,   4,  21,   1,  51,   9,  32,  63,   9,  19,  17],\n",
       "       [  5,   0,  36,   1,   3,   3,   1,  30,  26,  22, 552,  27,   0,\n",
       "         13,   1,   1,  79,  43,  29,  27,  41,  84,   5,  34,  17,  10],\n",
       "       [ 12,   0,   1,   0,  12,   0,   0, 122,   8,   5,  75, 711,   1,\n",
       "          1,   0,   1,   0,  14,   0,   1,   9,  30,   1,  36,   2,   0],\n",
       "       [ 21,   1,   4,   0,   5,   0,   1, 128,  32,  11,   3,  72, 416,\n",
       "         13,   0,   1, 120,  84,  46,   6,  13,  62,   1,  39,  15,   0],\n",
       "       [ 12,   4,  29,  11,   3,   5,   6, 117,  20,  18,  31,  11,   0,\n",
       "        628,   1,  17,  28,  23,   8,  41,  26,  37,  23,   8,  13,  20],\n",
       "       [  1,   8,   9,   0,   0,  24,  19,  27,   1,   3,   4,   2,   0,\n",
       "          1, 898,   3,   9,   1,   0,  37,  12,  10,  25,   1,  29,  11],\n",
       "       [  0,  34,   7,  12,   0,   3,   8,  16,   1,   2,   1,   0,   0,\n",
       "          0,   0, 936,   2,   0,   0,  13,   6,  10,  34,   3,  20,   6],\n",
       "       [  0,   0,   0,   0,   3,   0,   1,   4,  30,   0,  17,  49,   0,\n",
       "          1,   0,   0, 815,   3,   8,   3,   2, 132,   0,   3,   0,   2],\n",
       "       [  5,   0,  17,   0,   6,   2,   3, 154,  43,   9,  61,  31,   5,\n",
       "          6,   1,   0, 130, 412,  28,  15,  49,  96,   1,   1,   7,   8],\n",
       "       [ 27,   0,   0,   0,  13,   0,   0,  81,   6,   0,  75,   6,   0,\n",
       "          0,   0,   0,   0,  38, 768,   2,   6,  53,   2,  20,   0,   0],\n",
       "       [  6,  13,  15,   8,   2,  11,   6,  67,   9,  15,  20,  16,   0,\n",
       "          1,   3,   6,   5,  30,  12, 666,  17,  20,  64,  17,  15,   3],\n",
       "       [ 17,   5,  14,   1,   8,   4,  38,  95,  17,   0,  24,  30,   0,\n",
       "          0,  17,  60,  54,  28,  24,  29, 526,  25, 103,   2,   0,   1],\n",
       "       [  7,   0,   1,   0,   4,   0,   0,  81,  20,   3, 103,  55,   0,\n",
       "          2,   0,   1,   0,  49,  38,   0,   2, 656,   2,   5,   2,   1],\n",
       "       [  7,   9,   5,   0,   0,  31,  13,  54,   4,  13,  14,   4,   0,\n",
       "          2,   4,  19,   6,   5,   1,  52,  38,   3, 707,   9,  15,   8],\n",
       "       [  7,   2,  42,   3,   6,   7,   5,  71,  23,  14,  43,  42,   0,\n",
       "          4,   0,   2,  49,  10,  23,  54,  36,  67,  16, 484,  22,  21],\n",
       "       [  1,   9,   3,   4,   0,   6,   0,  10,   6,  16,   3,   4,   0,\n",
       "          2,   1,   7,  23,   5,   2,  14,   5,  19,  12,   1, 938,  12],\n",
       "       [  4,  27,   0,   3,   1,  13,   7,  57,   5,  27,  10,   4,   0,\n",
       "          5,   4,  24,   9,   9,   1,  28,  68,  39,  21,   4,  86, 611]],\n",
       "      dtype=int64)"
      ]
     },
     "execution_count": 166,
     "metadata": {},
     "output_type": "execute_result"
    }
   ],
   "source": [
    "conf_mat"
   ]
  },
  {
   "cell_type": "code",
   "execution_count": 113,
   "metadata": {},
   "outputs": [
    {
     "data": {
      "text/plain": [
       "1040"
      ]
     },
     "execution_count": 113,
     "metadata": {},
     "output_type": "execute_result"
    }
   ],
   "source": [
    "import random\n",
    "# x = random.randint(0,3800)\n",
    "x = 3035 # Eminem - Lose Yourself\n",
    "lyrics = balanced_df.Lyric[x];\n",
    "print(\"Предсказанный жанр: \", model.predict(fitted_vectorizer.transform([lyrics]))) # предсказанное значение из обученной модели\n",
    "print(\"Действительный жанр: \", df_songs.genre[x]) # значение жанра из датасета"
   ]
  },
  {
   "cell_type": "markdown",
   "metadata": {},
   "source": [
    "После изменения измерения классификации на топ-5 производительность значительно подскочила до 63%. Опять же, это не очень хорошая производительность. Но против нескольких классов это неплохое начало."
   ]
  },
  {
   "cell_type": "code",
   "execution_count": null,
   "metadata": {},
   "outputs": [],
   "source": []
  }
 ],
 "metadata": {
  "kernelspec": {
   "display_name": "Python 3 (ipykernel)",
   "language": "python",
   "name": "python3"
  },
  "language_info": {
   "codemirror_mode": {
    "name": "ipython",
    "version": 3
   },
   "file_extension": ".py",
   "mimetype": "text/x-python",
   "name": "python",
   "nbconvert_exporter": "python",
   "pygments_lexer": "ipython3",
   "version": "3.9.7"
  },
  "latex_envs": {
   "LaTeX_envs_menu_present": true,
   "autoclose": true,
   "autocomplete": true,
   "bibliofile": "biblio.bib",
   "cite_by": "apalike",
   "current_citInitial": 1,
   "eqLabelWithNumbers": true,
   "eqNumInitial": 1,
   "hotkeys": {
    "equation": "Ctrl-E",
    "itemize": "Ctrl-I"
   },
   "labels_anchors": false,
   "latex_user_defs": false,
   "report_style_numbering": false,
   "user_envs_cfg": false
  },
  "toc": {
   "base_numbering": 1,
   "nav_menu": {},
   "number_sections": true,
   "sideBar": true,
   "skip_h1_title": false,
   "title_cell": "Table of Contents",
   "title_sidebar": "Contents",
   "toc_cell": false,
   "toc_position": {
    "height": "calc(100% - 180px)",
    "left": "10px",
    "top": "150px",
    "width": "384px"
   },
   "toc_section_display": true,
   "toc_window_display": true
  },
  "varInspector": {
   "cols": {
    "lenName": 16,
    "lenType": 16,
    "lenVar": 40
   },
   "kernels_config": {
    "python": {
     "delete_cmd_postfix": "",
     "delete_cmd_prefix": "del ",
     "library": "var_list.py",
     "varRefreshCmd": "print(var_dic_list())"
    },
    "r": {
     "delete_cmd_postfix": ") ",
     "delete_cmd_prefix": "rm(",
     "library": "var_list.r",
     "varRefreshCmd": "cat(var_dic_list()) "
    }
   },
   "position": {
    "height": "338.85px",
    "left": "1550px",
    "right": "20px",
    "top": "120px",
    "width": "350px"
   },
   "types_to_exclude": [
    "module",
    "function",
    "builtin_function_or_method",
    "instance",
    "_Feature"
   ],
   "window_display": true
  }
 },
 "nbformat": 4,
 "nbformat_minor": 1
}
