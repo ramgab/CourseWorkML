{
 "cells": [
  {
   "cell_type": "code",
   "execution_count": 1,
   "id": "eab4bc37",
   "metadata": {
    "_cell_guid": "2d05b093-67a1-4168-a3d1-8ff29864858e",
    "_uuid": "1f3964f0-0c90-4934-9b4b-ce328980322d",
    "execution": {
     "iopub.execute_input": "2023-01-21T16:52:44.282399Z",
     "iopub.status.busy": "2023-01-21T16:52:44.281939Z",
     "iopub.status.idle": "2023-01-21T16:52:45.882781Z",
     "shell.execute_reply": "2023-01-21T16:52:45.881705Z"
    },
    "jupyter": {
     "outputs_hidden": false
    },
    "papermill": {
     "duration": 1.615447,
     "end_time": "2023-01-21T16:52:45.886118",
     "exception": false,
     "start_time": "2023-01-21T16:52:44.270671",
     "status": "completed"
    },
    "tags": []
   },
   "outputs": [],
   "source": [
    "import numpy as np\n",
    "import pandas as pd\n",
    "from scipy.stats import randint\n",
    "import seaborn as sns\n",
    "import matplotlib.pyplot as plt\n",
    "from io import StringIO\n",
    "from sklearn.feature_extraction.text import TfidfVectorizer\n",
    "from sklearn.feature_selection import chi2\n",
    "from IPython.display import display\n",
    "from sklearn.model_selection import train_test_split\n",
    "from sklearn.feature_extraction.text import TfidfTransformer\n",
    "from sklearn.ensemble import RandomForestClassifier\n",
    "from sklearn.naive_bayes import MultinomialNB\n",
    "from sklearn.linear_model import LogisticRegression\n",
    "from sklearn.svm import LinearSVC\n",
    "from sklearn.model_selection import cross_val_score\n",
    "from sklearn.metrics import confusion_matrix\n",
    "from sklearn import metrics"
   ]
  },
  {
   "cell_type": "code",
   "execution_count": 2,
   "id": "42550164",
   "metadata": {
    "_cell_guid": "612f8604-75c4-44df-a8d6-4bb87991986d",
    "_uuid": "e810b397-e10b-49d9-85ac-8a13ee6f6ac6",
    "execution": {
     "iopub.execute_input": "2023-01-21T16:52:45.903782Z",
     "iopub.status.busy": "2023-01-21T16:52:45.902626Z",
     "iopub.status.idle": "2023-01-21T16:52:46.367652Z",
     "shell.execute_reply": "2023-01-21T16:52:46.366620Z"
    },
    "jupyter": {
     "outputs_hidden": false
    },
    "papermill": {
     "duration": 0.476489,
     "end_time": "2023-01-21T16:52:46.370341",
     "exception": false,
     "start_time": "2023-01-21T16:52:45.893852",
     "status": "completed"
    },
    "tags": []
   },
   "outputs": [
    {
     "data": {
      "text/html": [
       "<div>\n",
       "<style scoped>\n",
       "    .dataframe tbody tr th:only-of-type {\n",
       "        vertical-align: middle;\n",
       "    }\n",
       "\n",
       "    .dataframe tbody tr th {\n",
       "        vertical-align: top;\n",
       "    }\n",
       "\n",
       "    .dataframe thead th {\n",
       "        text-align: right;\n",
       "    }\n",
       "</style>\n",
       "<table border=\"1\" class=\"dataframe\">\n",
       "  <thead>\n",
       "    <tr style=\"text-align: right;\">\n",
       "      <th></th>\n",
       "      <th>song</th>\n",
       "      <th>artist</th>\n",
       "      <th>Genres</th>\n",
       "      <th>Lyric</th>\n",
       "    </tr>\n",
       "  </thead>\n",
       "  <tbody>\n",
       "    <tr>\n",
       "      <th>0</th>\n",
       "      <td>Stairway to Heaven</td>\n",
       "      <td>Led Zeppelin</td>\n",
       "      <td>rock</td>\n",
       "      <td>Stairway to Heaven Lyrics[Intro]\\n\\n[Verse 1]\\...</td>\n",
       "    </tr>\n",
       "    <tr>\n",
       "      <th>1</th>\n",
       "      <td>Hey Jude</td>\n",
       "      <td>Beatles</td>\n",
       "      <td>rock</td>\n",
       "      <td>Hey Jude Lyrics[Verse 1: Paul McCartney]\\nHey ...</td>\n",
       "    </tr>\n",
       "    <tr>\n",
       "      <th>2</th>\n",
       "      <td>All Along the Watchtower</td>\n",
       "      <td>Hendrix, Jimi</td>\n",
       "      <td>rock</td>\n",
       "      <td>Ii. Tambourine Lyrics[Chorus, sung]\\nHey, Pip,...</td>\n",
       "    </tr>\n",
       "    <tr>\n",
       "      <th>3</th>\n",
       "      <td>Satisfaction</td>\n",
       "      <td>Rolling Stones</td>\n",
       "      <td>rock</td>\n",
       "      <td>Sin título I Lyrics[Letra de \"Sin título I\"]\\n...</td>\n",
       "    </tr>\n",
       "    <tr>\n",
       "      <th>4</th>\n",
       "      <td>Like A Rolling Stone</td>\n",
       "      <td>Dylan, Bob</td>\n",
       "      <td>rock</td>\n",
       "      <td>Like a Rolling Stone Lyrics[Verse 1]\\nOnce upo...</td>\n",
       "    </tr>\n",
       "    <tr>\n",
       "      <th>...</th>\n",
       "      <td>...</td>\n",
       "      <td>...</td>\n",
       "      <td>...</td>\n",
       "      <td>...</td>\n",
       "    </tr>\n",
       "    <tr>\n",
       "      <th>3995</th>\n",
       "      <td>Motown 25</td>\n",
       "      <td>Elzhi</td>\n",
       "      <td>rap &amp; hip hop</td>\n",
       "      <td>Motown 25 Lyrics[Verse 1: eLZhi]\\nI end career...</td>\n",
       "    </tr>\n",
       "    <tr>\n",
       "      <th>3996</th>\n",
       "      <td>How Ya Like Me Now</td>\n",
       "      <td>Kool Moe Dee</td>\n",
       "      <td>rap &amp; hip hop</td>\n",
       "      <td>How Ya Like Me Now Lyrics\"All aboard for the n...</td>\n",
       "    </tr>\n",
       "    <tr>\n",
       "      <th>3997</th>\n",
       "      <td>Coastin’</td>\n",
       "      <td>Zion I feat. K.Flay</td>\n",
       "      <td>rap &amp; hip hop</td>\n",
       "      <td>Coastin’ LyricsWhen life brings trouble\\nYou c...</td>\n",
       "    </tr>\n",
       "    <tr>\n",
       "      <th>3998</th>\n",
       "      <td>Head Banger</td>\n",
       "      <td>EPMD</td>\n",
       "      <td>rap &amp; hip hop</td>\n",
       "      <td>Headbanger Lyrics[Redman]\\nNegroes!!!!!!!!\\n\\n...</td>\n",
       "    </tr>\n",
       "    <tr>\n",
       "      <th>3999</th>\n",
       "      <td>Sound Bwoy Burell</td>\n",
       "      <td>Smif-N-Wessun</td>\n",
       "      <td>rap &amp; hip hop</td>\n",
       "      <td>Sound Bwoy Bureill Lyrics[Intro: Sample from C...</td>\n",
       "    </tr>\n",
       "  </tbody>\n",
       "</table>\n",
       "<p>4000 rows × 4 columns</p>\n",
       "</div>"
      ],
      "text/plain": [
       "                          song               artist         Genres  \\\n",
       "0           Stairway to Heaven         Led Zeppelin           rock   \n",
       "1                     Hey Jude              Beatles           rock   \n",
       "2     All Along the Watchtower        Hendrix, Jimi           rock   \n",
       "3                 Satisfaction       Rolling Stones           rock   \n",
       "4         Like A Rolling Stone           Dylan, Bob           rock   \n",
       "...                        ...                  ...            ...   \n",
       "3995                 Motown 25                Elzhi  rap & hip hop   \n",
       "3996        How Ya Like Me Now         Kool Moe Dee  rap & hip hop   \n",
       "3997                  Coastin’  Zion I feat. K.Flay  rap & hip hop   \n",
       "3998               Head Banger                 EPMD  rap & hip hop   \n",
       "3999         Sound Bwoy Burell        Smif-N-Wessun  rap & hip hop   \n",
       "\n",
       "                                                  Lyric  \n",
       "0     Stairway to Heaven Lyrics[Intro]\\n\\n[Verse 1]\\...  \n",
       "1     Hey Jude Lyrics[Verse 1: Paul McCartney]\\nHey ...  \n",
       "2     Ii. Tambourine Lyrics[Chorus, sung]\\nHey, Pip,...  \n",
       "3     Sin título I Lyrics[Letra de \"Sin título I\"]\\n...  \n",
       "4     Like a Rolling Stone Lyrics[Verse 1]\\nOnce upo...  \n",
       "...                                                 ...  \n",
       "3995  Motown 25 Lyrics[Verse 1: eLZhi]\\nI end career...  \n",
       "3996  How Ya Like Me Now Lyrics\"All aboard for the n...  \n",
       "3997  Coastin’ LyricsWhen life brings trouble\\nYou c...  \n",
       "3998  Headbanger Lyrics[Redman]\\nNegroes!!!!!!!!\\n\\n...  \n",
       "3999  Sound Bwoy Bureill Lyrics[Intro: Sample from C...  \n",
       "\n",
       "[4000 rows x 4 columns]"
      ]
     },
     "execution_count": 2,
     "metadata": {},
     "output_type": "execute_result"
    }
   ],
   "source": [
    "# Выводим датасет, содержащий название песни, артиста, жанра и текста\n",
    "df_songs = pd.read_csv(\"C:/Users/Admin/Downloads/Для курсовой/all_lyrics.csv\")\n",
    "df_songs.rename(columns = {\"type\" : \"Genres\", \"lyrics\" : \"Lyric\"}, inplace = True)\n",
    "df_songs"
   ]
  },
  {
   "cell_type": "code",
   "execution_count": 3,
   "id": "11dd839a",
   "metadata": {
    "_cell_guid": "ceb4ca83-d8f3-4b02-8ae9-2f9b87dc59d4",
    "_uuid": "25514227-1fa4-4e07-8590-8bbed6bf745c",
    "execution": {
     "iopub.execute_input": "2023-01-21T16:52:46.388013Z",
     "iopub.status.busy": "2023-01-21T16:52:46.387591Z",
     "iopub.status.idle": "2023-01-21T16:52:46.401898Z",
     "shell.execute_reply": "2023-01-21T16:52:46.400612Z"
    },
    "jupyter": {
     "outputs_hidden": false
    },
    "papermill": {
     "duration": 0.026634,
     "end_time": "2023-01-21T16:52:46.404997",
     "exception": false,
     "start_time": "2023-01-21T16:52:46.378363",
     "status": "completed"
    },
    "tags": []
   },
   "outputs": [
    {
     "data": {
      "text/plain": [
       "song      4000\n",
       "artist    4000\n",
       "Genres    4000\n",
       "Lyric     3896\n",
       "dtype: int64"
      ]
     },
     "execution_count": 3,
     "metadata": {},
     "output_type": "execute_result"
    }
   ],
   "source": [
    "df_songs.count() # Количество значений в каждом атрибуте"
   ]
  },
  {
   "cell_type": "code",
   "execution_count": 4,
   "id": "ca3f0a1a",
   "metadata": {},
   "outputs": [
    {
     "name": "stdout",
     "output_type": "stream",
     "text": [
      "              song   artist Genres  \\\n",
      "count         4000     4000   4000   \n",
      "unique        3881     1583      4   \n",
      "top     Summertime  Beatles   rock   \n",
      "freq             5       51   1000   \n",
      "\n",
      "                                                    Lyric  \n",
      "count                                                3896  \n",
      "unique                                               3761  \n",
      "top     Summer Country Songs LyricsA\\nAaron Lewis – \"E...  \n",
      "freq                                                   10  \n"
     ]
    }
   ],
   "source": [
    "# Описательная статистика\n",
    "print(df_songs.describe())"
   ]
  },
  {
   "cell_type": "code",
   "execution_count": 5,
   "id": "4248d482",
   "metadata": {},
   "outputs": [
    {
     "data": {
      "text/plain": [
       "Genres\n",
       "R&B              1000\n",
       "country          1000\n",
       "rap & hip hop    1000\n",
       "rock             1000\n",
       "dtype: int64"
      ]
     },
     "execution_count": 5,
     "metadata": {},
     "output_type": "execute_result"
    }
   ],
   "source": [
    "df_songs.value_counts('Genres') # Количество песен в каждом жанре"
   ]
  },
  {
   "cell_type": "code",
   "execution_count": 6,
   "id": "2a9eec5b",
   "metadata": {
    "scrolled": true
   },
   "outputs": [
    {
     "data": {
      "text/plain": [
       "song      3881\n",
       "artist    1583\n",
       "Genres       4\n",
       "Lyric     3761\n",
       "dtype: int64"
      ]
     },
     "execution_count": 6,
     "metadata": {},
     "output_type": "execute_result"
    }
   ],
   "source": [
    "df_songs.nunique() # Количество уникальных значений в каждом атрибуте"
   ]
  },
  {
   "cell_type": "code",
   "execution_count": 7,
   "id": "045720f0",
   "metadata": {
    "_cell_guid": "5114df04-d430-4fad-81e2-f572654b43af",
    "_uuid": "39f1bde3-35d1-4c68-bc3c-65f07415c192",
    "execution": {
     "iopub.execute_input": "2023-01-21T16:52:46.455777Z",
     "iopub.status.busy": "2023-01-21T16:52:46.455347Z",
     "iopub.status.idle": "2023-01-21T16:52:46.515913Z",
     "shell.execute_reply": "2023-01-21T16:52:46.514615Z"
    },
    "jupyter": {
     "outputs_hidden": false
    },
    "papermill": {
     "duration": 0.073769,
     "end_time": "2023-01-21T16:52:46.519144",
     "exception": false,
     "start_time": "2023-01-21T16:52:46.445375",
     "status": "completed"
    },
    "tags": []
   },
   "outputs": [
    {
     "data": {
      "text/plain": [
       "0                rock\n",
       "1                rock\n",
       "2                rock\n",
       "3                rock\n",
       "4                rock\n",
       "            ...      \n",
       "3995    rap & hip hop\n",
       "3996    rap & hip hop\n",
       "3997    rap & hip hop\n",
       "3998    rap & hip hop\n",
       "3999    rap & hip hop\n",
       "Name: Genres, Length: 4000, dtype: object"
      ]
     },
     "execution_count": 7,
     "metadata": {},
     "output_type": "execute_result"
    }
   ],
   "source": [
    "# Разбиение строк в столбце Genres по разделителю \";\"\n",
    "for i in range(0,len(df_songs.axes[0])):\n",
    "    x = df_songs.Genres[i]\n",
    "    for j in range(0,len(x)):\n",
    "        if(x[j] == ';'):\n",
    "            x = x[0:j]\n",
    "            df_songs.Genres[i] = x\n",
    "            break\n",
    "df_songs.Genres"
   ]
  },
  {
   "cell_type": "code",
   "execution_count": 8,
   "id": "0381ba27",
   "metadata": {},
   "outputs": [
    {
     "name": "stdout",
     "output_type": "stream",
     "text": [
      "Column Name: song\n",
      "0 object\n",
      "-----------------\n",
      "Column Name: artist\n",
      "0 object\n",
      "-----------------\n",
      "Column Name: Genres\n",
      "0 object\n",
      "-----------------\n",
      "Column Name: Lyric\n",
      "104 object\n",
      "-----------------\n"
     ]
    }
   ],
   "source": [
    "# Провека на пустые значения\n",
    "for col_name in df_songs.columns:\n",
    "    print(f\"Column Name: {col_name}\")\n",
    "    print(df_songs[col_name].isnull().sum(), df_songs[col_name].dtype)\n",
    "    print(\"-----------------\")"
   ]
  },
  {
   "cell_type": "code",
   "execution_count": 9,
   "id": "62d0d52f",
   "metadata": {},
   "outputs": [
    {
     "data": {
      "text/plain": [
       "<AxesSubplot:>"
      ]
     },
     "execution_count": 9,
     "metadata": {},
     "output_type": "execute_result"
    },
    {
     "data": {
      "image/png": "[encoded data removed]",
      "text/plain": [
       "<Figure size 432x288 with 2 Axes>"
      ]
     },
     "metadata": {
      "needs_background": "light"
     },
     "output_type": "display_data"
    }
   ],
   "source": [
    "sns.heatmap(df_songs.isnull(),yticklabels=False,cbar=True,cmap='viridis') # Визуализируем пустые значения"
   ]
  },
  {
   "cell_type": "code",
   "execution_count": 10,
   "id": "d37cb6ff",
   "metadata": {
    "_cell_guid": "757c71fd-2771-4c14-ad72-c57c2685d1cd",
    "_uuid": "a2ab4cf6-68e6-4c61-847c-29e158f5fc82",
    "execution": {
     "iopub.execute_input": "2023-01-21T16:52:46.821576Z",
     "iopub.status.busy": "2023-01-21T16:52:46.821131Z",
     "iopub.status.idle": "2023-01-21T16:52:47.026410Z",
     "shell.execute_reply": "2023-01-21T16:52:47.025314Z"
    },
    "jupyter": {
     "outputs_hidden": false
    },
    "papermill": {
     "duration": 0.217711,
     "end_time": "2023-01-21T16:52:47.029018",
     "exception": false,
     "start_time": "2023-01-21T16:52:46.811307",
     "status": "completed"
    },
    "tags": []
   },
   "outputs": [],
   "source": [
    "# Удаление пропущенных строк в столбце Lyric\n",
    "arr = []\n",
    "for i in range(0,4000):\n",
    "    if(type(df_songs.Lyric[i]) == float):\n",
    "        arr.append(df_songs.song[i])\n",
    "for i in arr:\n",
    "    df_songs = df_songs.drop(df_songs[df_songs.song  ==  i].index)"
   ]
  },
  {
   "cell_type": "code",
   "execution_count": 11,
   "id": "642be8a8",
   "metadata": {},
   "outputs": [
    {
     "name": "stdout",
     "output_type": "stream",
     "text": [
      "Column Name: song\n",
      "0 object\n",
      "-----------------\n",
      "Column Name: artist\n",
      "0 object\n",
      "-----------------\n",
      "Column Name: Genres\n",
      "0 object\n",
      "-----------------\n",
      "Column Name: Lyric\n",
      "0 object\n",
      "-----------------\n"
     ]
    }
   ],
   "source": [
    "# Повторная провека на пустые значения\n",
    "for col_name in df_songs.columns:\n",
    "    print(f\"Column Name: {col_name}\")\n",
    "    print(df_songs[col_name].isnull().sum(), df_songs[col_name].dtype)\n",
    "    print(\"-----------------\")"
   ]
  },
  {
   "cell_type": "code",
   "execution_count": 12,
   "id": "ab7ca76a",
   "metadata": {},
   "outputs": [
    {
     "data": {
      "text/html": [
       "<div>\n",
       "<style scoped>\n",
       "    .dataframe tbody tr th:only-of-type {\n",
       "        vertical-align: middle;\n",
       "    }\n",
       "\n",
       "    .dataframe tbody tr th {\n",
       "        vertical-align: top;\n",
       "    }\n",
       "\n",
       "    .dataframe thead th {\n",
       "        text-align: right;\n",
       "    }\n",
       "</style>\n",
       "<table border=\"1\" class=\"dataframe\">\n",
       "  <thead>\n",
       "    <tr style=\"text-align: right;\">\n",
       "      <th></th>\n",
       "      <th>song</th>\n",
       "      <th>artist</th>\n",
       "      <th>Genres</th>\n",
       "      <th>Lyric</th>\n",
       "    </tr>\n",
       "  </thead>\n",
       "  <tbody>\n",
       "    <tr>\n",
       "      <th>3010</th>\n",
       "      <td>Infinite</td>\n",
       "      <td>Eminem</td>\n",
       "      <td>rap &amp; hip hop</td>\n",
       "      <td>Infinite Lyrics[Produced by Mr. Porter &amp; Jeff ...</td>\n",
       "    </tr>\n",
       "    <tr>\n",
       "      <th>3035</th>\n",
       "      <td>Lose Yourself</td>\n",
       "      <td>Eminem</td>\n",
       "      <td>rap &amp; hip hop</td>\n",
       "      <td>Lose Yourself Lyrics[Intro]\\nLook, if you had ...</td>\n",
       "    </tr>\n",
       "    <tr>\n",
       "      <th>3187</th>\n",
       "      <td>Drug Ballad</td>\n",
       "      <td>Eminem</td>\n",
       "      <td>rap &amp; hip hop</td>\n",
       "      <td>Drug Ballad Lyrics[Intro: Eminem &amp; Dina Rae]\\n...</td>\n",
       "    </tr>\n",
       "    <tr>\n",
       "      <th>3250</th>\n",
       "      <td>Murder, Murder</td>\n",
       "      <td>Eminem</td>\n",
       "      <td>rap &amp; hip hop</td>\n",
       "      <td>Murder Murder Lyrics[Scratches: DJ Lenn Swann]...</td>\n",
       "    </tr>\n",
       "    <tr>\n",
       "      <th>3361</th>\n",
       "      <td>It’s Ok</td>\n",
       "      <td>Eminem</td>\n",
       "      <td>rap &amp; hip hop</td>\n",
       "      <td>It’s O.K. Lyrics[Intro: Proof &amp; Eminem]\\nCheck...</td>\n",
       "    </tr>\n",
       "    <tr>\n",
       "      <th>3393</th>\n",
       "      <td>Sing For The Moment</td>\n",
       "      <td>Eminem</td>\n",
       "      <td>rap &amp; hip hop</td>\n",
       "      <td>Sing for the Moment Lyrics[Verse 1: Eminem]\\nT...</td>\n",
       "    </tr>\n",
       "    <tr>\n",
       "      <th>3417</th>\n",
       "      <td>Brain Damage</td>\n",
       "      <td>Eminem</td>\n",
       "      <td>rap &amp; hip hop</td>\n",
       "      <td>Brain Damage Lyrics[Intro: Doctor &amp; Nurse]\\nSc...</td>\n",
       "    </tr>\n",
       "    <tr>\n",
       "      <th>3549</th>\n",
       "      <td>Superman</td>\n",
       "      <td>Eminem</td>\n",
       "      <td>rap &amp; hip hop</td>\n",
       "      <td>Superman Lyrics[Intro: Eminem &amp; Dina Rae]\\nMhm...</td>\n",
       "    </tr>\n",
       "    <tr>\n",
       "      <th>3569</th>\n",
       "      <td>Rock Bottom</td>\n",
       "      <td>Eminem</td>\n",
       "      <td>rap &amp; hip hop</td>\n",
       "      <td>Rock Bottom Lyrics[Produced by Bass Brothers]\\...</td>\n",
       "    </tr>\n",
       "    <tr>\n",
       "      <th>3673</th>\n",
       "      <td>Tonight (1996)</td>\n",
       "      <td>Eminem</td>\n",
       "      <td>rap &amp; hip hop</td>\n",
       "      <td>The 500 Greatest Albums of All Time (2003) Lyr...</td>\n",
       "    </tr>\n",
       "    <tr>\n",
       "      <th>3749</th>\n",
       "      <td>The Way I Am</td>\n",
       "      <td>Eminem</td>\n",
       "      <td>rap &amp; hip hop</td>\n",
       "      <td>The Way I Am Lyrics[Segue from \"Steve Berman (...</td>\n",
       "    </tr>\n",
       "    <tr>\n",
       "      <th>3879</th>\n",
       "      <td>Open Mic</td>\n",
       "      <td>Eminem</td>\n",
       "      <td>rap &amp; hip hop</td>\n",
       "      <td>Open Mic Lyrics[Produced by Mr. Porter]\\n\\n[In...</td>\n",
       "    </tr>\n",
       "  </tbody>\n",
       "</table>\n",
       "</div>"
      ],
      "text/plain": [
       "                     song  artist         Genres  \\\n",
       "3010             Infinite  Eminem  rap & hip hop   \n",
       "3035        Lose Yourself  Eminem  rap & hip hop   \n",
       "3187          Drug Ballad  Eminem  rap & hip hop   \n",
       "3250       Murder, Murder  Eminem  rap & hip hop   \n",
       "3361              It’s Ok  Eminem  rap & hip hop   \n",
       "3393  Sing For The Moment  Eminem  rap & hip hop   \n",
       "3417         Brain Damage  Eminem  rap & hip hop   \n",
       "3549             Superman  Eminem  rap & hip hop   \n",
       "3569          Rock Bottom  Eminem  rap & hip hop   \n",
       "3673       Tonight (1996)  Eminem  rap & hip hop   \n",
       "3749         The Way I Am  Eminem  rap & hip hop   \n",
       "3879             Open Mic  Eminem  rap & hip hop   \n",
       "\n",
       "                                                  Lyric  \n",
       "3010  Infinite Lyrics[Produced by Mr. Porter & Jeff ...  \n",
       "3035  Lose Yourself Lyrics[Intro]\\nLook, if you had ...  \n",
       "3187  Drug Ballad Lyrics[Intro: Eminem & Dina Rae]\\n...  \n",
       "3250  Murder Murder Lyrics[Scratches: DJ Lenn Swann]...  \n",
       "3361  It’s O.K. Lyrics[Intro: Proof & Eminem]\\nCheck...  \n",
       "3393  Sing for the Moment Lyrics[Verse 1: Eminem]\\nT...  \n",
       "3417  Brain Damage Lyrics[Intro: Doctor & Nurse]\\nSc...  \n",
       "3549  Superman Lyrics[Intro: Eminem & Dina Rae]\\nMhm...  \n",
       "3569  Rock Bottom Lyrics[Produced by Bass Brothers]\\...  \n",
       "3673  The 500 Greatest Albums of All Time (2003) Lyr...  \n",
       "3749  The Way I Am Lyrics[Segue from \"Steve Berman (...  \n",
       "3879  Open Mic Lyrics[Produced by Mr. Porter]\\n\\n[In...  "
      ]
     },
     "execution_count": 12,
     "metadata": {},
     "output_type": "execute_result"
    }
   ],
   "source": [
    "# Проверка данных об определенном артисте\n",
    "df_songs.loc[df_songs['artist'] == 'Eminem']"
   ]
  },
  {
   "cell_type": "code",
   "execution_count": 13,
   "id": "4c9a96d6",
   "metadata": {
    "_cell_guid": "11fbc917-7036-4545-8824-e8efb78467e7",
    "_uuid": "3dc47e74-0190-4e25-95e3-82579ecc4190",
    "execution": {
     "iopub.execute_input": "2023-01-21T16:52:47.047904Z",
     "iopub.status.busy": "2023-01-21T16:52:47.047527Z",
     "iopub.status.idle": "2023-01-21T16:52:47.238834Z",
     "shell.execute_reply": "2023-01-21T16:52:47.237409Z"
    },
    "jupyter": {
     "outputs_hidden": false
    },
    "papermill": {
     "duration": 0.203817,
     "end_time": "2023-01-21T16:52:47.241392",
     "exception": false,
     "start_time": "2023-01-21T16:52:47.037575",
     "status": "completed"
    },
    "tags": []
   },
   "outputs": [
    {
     "data": {
      "image/png": "[encoded data removed]",
      "text/plain": [
       "<Figure size 432x288 with 1 Axes>"
      ]
     },
     "metadata": {
      "needs_background": "light"
     },
     "output_type": "display_data"
    }
   ],
   "source": [
    "# Визуализируем количества песен в каждом жанре\n",
    "fig = plt.figure()\n",
    "df_songs.groupby('Genres').Genres.count().plot.bar(ylim=0)\n",
    "plt.show()"
   ]
  },
  {
   "cell_type": "code",
   "execution_count": 14,
   "id": "be6d0902",
   "metadata": {
    "_cell_guid": "10cef6c0-65ee-41a5-b8c6-8bee280f5bb5",
    "_uuid": "7f689a8b-6440-4676-8292-f6fb3c91fc3b",
    "execution": {
     "iopub.execute_input": "2023-01-21T16:52:47.260825Z",
     "iopub.status.busy": "2023-01-21T16:52:47.260377Z",
     "iopub.status.idle": "2023-01-21T16:52:47.269533Z",
     "shell.execute_reply": "2023-01-21T16:52:47.268443Z"
    },
    "jupyter": {
     "outputs_hidden": false
    },
    "papermill": {
     "duration": 0.021761,
     "end_time": "2023-01-21T16:52:47.271968",
     "exception": false,
     "start_time": "2023-01-21T16:52:47.250207",
     "status": "completed"
    },
    "tags": []
   },
   "outputs": [
    {
     "name": "stdout",
     "output_type": "stream",
     "text": [
      "{'rock': 0, 'country': 1, 'R&B': 2, 'rap & hip hop': 3}\n"
     ]
    }
   ],
   "source": [
    "# Создание словаря с жанрами\n",
    "x = df_songs.Genres.unique()\n",
    "\n",
    "songs_idx = {}\n",
    "idx_to_songs = {}\n",
    "j = 0\n",
    "for i in x:\n",
    "    songs_idx[i] = j\n",
    "    idx_to_songs[j] = i\n",
    "    j += 1\n",
    "    \n",
    "print(songs_idx)"
   ]
  },
  {
   "cell_type": "code",
   "execution_count": 15,
   "id": "95ede15a",
   "metadata": {
    "_cell_guid": "3fb98e99-3949-4f58-815c-ee40c0a42dc8",
    "_uuid": "418493ac-60cb-44ed-b9a9-60d71fef600e",
    "execution": {
     "iopub.execute_input": "2023-01-21T16:52:47.291638Z",
     "iopub.status.busy": "2023-01-21T16:52:47.291136Z",
     "iopub.status.idle": "2023-01-21T16:52:47.302760Z",
     "shell.execute_reply": "2023-01-21T16:52:47.301827Z"
    },
    "jupyter": {
     "outputs_hidden": false
    },
    "papermill": {
     "duration": 0.024482,
     "end_time": "2023-01-21T16:52:47.305302",
     "exception": false,
     "start_time": "2023-01-21T16:52:47.280820",
     "status": "completed"
    },
    "tags": []
   },
   "outputs": [
    {
     "data": {
      "text/html": [
       "<div>\n",
       "<style scoped>\n",
       "    .dataframe tbody tr th:only-of-type {\n",
       "        vertical-align: middle;\n",
       "    }\n",
       "\n",
       "    .dataframe tbody tr th {\n",
       "        vertical-align: top;\n",
       "    }\n",
       "\n",
       "    .dataframe thead th {\n",
       "        text-align: right;\n",
       "    }\n",
       "</style>\n",
       "<table border=\"1\" class=\"dataframe\">\n",
       "  <thead>\n",
       "    <tr style=\"text-align: right;\">\n",
       "      <th></th>\n",
       "      <th>song</th>\n",
       "      <th>artist</th>\n",
       "      <th>Genres</th>\n",
       "      <th>Lyric</th>\n",
       "      <th>category_id</th>\n",
       "    </tr>\n",
       "  </thead>\n",
       "  <tbody>\n",
       "    <tr>\n",
       "      <th>2172</th>\n",
       "      <td>Tender Lover</td>\n",
       "      <td>Babyface</td>\n",
       "      <td>R&amp;B</td>\n",
       "      <td>Tender Lover LyricsFeels good\\nEverybody\\n\\nTe...</td>\n",
       "      <td>2</td>\n",
       "    </tr>\n",
       "    <tr>\n",
       "      <th>2499</th>\n",
       "      <td>Baby</td>\n",
       "      <td>Brandy</td>\n",
       "      <td>R&amp;B</td>\n",
       "      <td>FRIEND Lyrics[Testo di \"FRIEND\" ft. Geolier &amp; ...</td>\n",
       "      <td>2</td>\n",
       "    </tr>\n",
       "    <tr>\n",
       "      <th>877</th>\n",
       "      <td>I Know I'm Losing You</td>\n",
       "      <td>Rare Earth</td>\n",
       "      <td>rock</td>\n",
       "      <td>(I Know) I’m Losing You Lyrics[Intro]\\nYour lo...</td>\n",
       "      <td>0</td>\n",
       "    </tr>\n",
       "    <tr>\n",
       "      <th>1797</th>\n",
       "      <td>American kids</td>\n",
       "      <td>Kenny Chesney</td>\n",
       "      <td>country</td>\n",
       "      <td>2015 Nominees LyricsSong of the YearMeghan Tra...</td>\n",
       "      <td>1</td>\n",
       "    </tr>\n",
       "    <tr>\n",
       "      <th>2907</th>\n",
       "      <td>La La means I love you</td>\n",
       "      <td>Delfonics</td>\n",
       "      <td>R&amp;B</td>\n",
       "      <td>La La Means I Love You Lyrics[Verse 1]\\nMany g...</td>\n",
       "      <td>2</td>\n",
       "    </tr>\n",
       "  </tbody>\n",
       "</table>\n",
       "</div>"
      ],
      "text/plain": [
       "                        song         artist   Genres  \\\n",
       "2172            Tender Lover       Babyface      R&B   \n",
       "2499                    Baby         Brandy      R&B   \n",
       "877    I Know I'm Losing You     Rare Earth     rock   \n",
       "1797           American kids  Kenny Chesney  country   \n",
       "2907  La La means I love you      Delfonics      R&B   \n",
       "\n",
       "                                                  Lyric  category_id  \n",
       "2172  Tender Lover LyricsFeels good\\nEverybody\\n\\nTe...            2  \n",
       "2499  FRIEND Lyrics[Testo di \"FRIEND\" ft. Geolier & ...            2  \n",
       "877   (I Know) I’m Losing You Lyrics[Intro]\\nYour lo...            0  \n",
       "1797  2015 Nominees LyricsSong of the YearMeghan Tra...            1  \n",
       "2907  La La Means I Love You Lyrics[Verse 1]\\nMany g...            2  "
      ]
     },
     "execution_count": 15,
     "metadata": {},
     "output_type": "execute_result"
    }
   ],
   "source": [
    "# создание нового столбца, содержащего id каждого жанра \n",
    "genre_arr = df_songs.Genres.map(songs_idx)\n",
    "df_songs['category_id'] = genre_arr\n",
    "df_songs.sample(5)"
   ]
  },
  {
   "cell_type": "code",
   "execution_count": 16,
   "id": "fbbb08fe",
   "metadata": {
    "_cell_guid": "640db080-1c09-4ac0-a582-c0a0e3d6232b",
    "_uuid": "847f91e9-9478-4da9-99ef-0dfb5f3cf3af",
    "execution": {
     "iopub.execute_input": "2023-01-21T16:52:47.324905Z",
     "iopub.status.busy": "2023-01-21T16:52:47.324508Z",
     "iopub.status.idle": "2023-01-21T16:52:47.338623Z",
     "shell.execute_reply": "2023-01-21T16:52:47.337405Z"
    },
    "jupyter": {
     "outputs_hidden": false
    },
    "papermill": {
     "duration": 0.02678,
     "end_time": "2023-01-21T16:52:47.341040",
     "exception": false,
     "start_time": "2023-01-21T16:52:47.314260",
     "status": "completed"
    },
    "tags": []
   },
   "outputs": [
    {
     "data": {
      "text/html": [
       "<div>\n",
       "<style scoped>\n",
       "    .dataframe tbody tr th:only-of-type {\n",
       "        vertical-align: middle;\n",
       "    }\n",
       "\n",
       "    .dataframe tbody tr th {\n",
       "        vertical-align: top;\n",
       "    }\n",
       "\n",
       "    .dataframe thead th {\n",
       "        text-align: right;\n",
       "    }\n",
       "</style>\n",
       "<table border=\"1\" class=\"dataframe\">\n",
       "  <thead>\n",
       "    <tr style=\"text-align: right;\">\n",
       "      <th></th>\n",
       "      <th>Genres</th>\n",
       "      <th>category_id</th>\n",
       "    </tr>\n",
       "  </thead>\n",
       "  <tbody>\n",
       "    <tr>\n",
       "      <th>0</th>\n",
       "      <td>rock</td>\n",
       "      <td>0</td>\n",
       "    </tr>\n",
       "    <tr>\n",
       "      <th>1000</th>\n",
       "      <td>country</td>\n",
       "      <td>1</td>\n",
       "    </tr>\n",
       "    <tr>\n",
       "      <th>2000</th>\n",
       "      <td>R&amp;B</td>\n",
       "      <td>2</td>\n",
       "    </tr>\n",
       "    <tr>\n",
       "      <th>3001</th>\n",
       "      <td>rap &amp; hip hop</td>\n",
       "      <td>3</td>\n",
       "    </tr>\n",
       "  </tbody>\n",
       "</table>\n",
       "</div>"
      ],
      "text/plain": [
       "             Genres  category_id\n",
       "0              rock            0\n",
       "1000        country            1\n",
       "2000            R&B            2\n",
       "3001  rap & hip hop            3"
      ]
     },
     "execution_count": 16,
     "metadata": {},
     "output_type": "execute_result"
    }
   ],
   "source": [
    "# создание отдельного датасета с жанром и id жанра\n",
    "category_id_df = df_songs[['Genres', 'category_id']].drop_duplicates()\n",
    "category_id_df"
   ]
  },
  {
   "cell_type": "code",
   "execution_count": 17,
   "id": "5e659ca5",
   "metadata": {
    "_cell_guid": "79626522-9a3d-4063-8229-281349552d0f",
    "_uuid": "806f196e-df35-4c6d-9b03-1c546b902cd7",
    "execution": {
     "iopub.execute_input": "2023-01-21T16:52:47.361059Z",
     "iopub.status.busy": "2023-01-21T16:52:47.360683Z",
     "iopub.status.idle": "2023-01-21T16:52:53.547556Z",
     "shell.execute_reply": "2023-01-21T16:52:53.546314Z"
    },
    "jupyter": {
     "outputs_hidden": false
    },
    "papermill": {
     "duration": 6.199781,
     "end_time": "2023-01-21T16:52:53.549971",
     "exception": false,
     "start_time": "2023-01-21T16:52:47.350190",
     "status": "completed"
    },
    "tags": []
   },
   "outputs": [
    {
     "data": {
      "text/plain": [
       "(3888, 47448)"
      ]
     },
     "execution_count": 17,
     "metadata": {},
     "output_type": "execute_result"
    }
   ],
   "source": [
    "# создание векторов признаков для каждой строки в столбце Lyric\n",
    "tfidf = TfidfVectorizer(sublinear_tf=True, min_df=5,\n",
    "                        ngram_range=(1, 2), \n",
    "                        stop_words='english')\n",
    "lyrics_vector = tfidf.fit_transform(df_songs.Lyric).toarray()\n",
    "labels = df_songs.category_id\n",
    "lyrics_vector.shape"
   ]
  },
  {
   "cell_type": "code",
   "execution_count": 18,
   "id": "1df0f63c",
   "metadata": {
    "_cell_guid": "ab9662eb-1e47-46f5-b52e-fa0dc1d852d1",
    "_uuid": "f253f38e-7479-407e-b986-6851501f9eb1",
    "execution": {
     "iopub.execute_input": "2023-01-21T16:52:53.571150Z",
     "iopub.status.busy": "2023-01-21T16:52:53.570721Z",
     "iopub.status.idle": "2023-01-21T16:52:56.860677Z",
     "shell.execute_reply": "2023-01-21T16:52:56.858933Z"
    },
    "jupyter": {
     "outputs_hidden": false
    },
    "papermill": {
     "duration": 3.303925,
     "end_time": "2023-01-21T16:52:56.863230",
     "exception": false,
     "start_time": "2023-01-21T16:52:53.559305",
     "status": "completed"
    },
    "tags": []
   },
   "outputs": [
    {
     "name": "stdout",
     "output_type": "stream",
     "text": [
      "\n",
      "-- R&B:\n",
      "  * Most Correlated Unigrams are: woo, mc, kendricks, beyoncé, money, kid, country, solo, gun, kill, road, town, ass, du, black, need, fuck, streets, shot, affair, mmmm, oo, tammi, chilli, lovin, big, mmm, roll, boz, want, yeah, babe, feel, shoo, shit, guitar, pre, old, wanna, hey, nigga, niggas, whoa, oooh, groove, love, girl, oh, ooh, baby\n",
      "  * Most Correlated Bigrams are: wanna wanna, la la, baby need, wanna oh, mind baby, oooh oooh, want baby, baby know, need need, baby yeah, let let, just wanna, let know, hey baby, love right, girl don, love yeah, baby chorus, ooh oh, woman woman, yeah baby, baby let, oh yeah, yes baby, baby wanna, make love, want need, know love, love sweet, love ooh, love make, oh girl, make feel, baby just, right baby, tell tell, yeah yeah, girl know, baby ooh, hey hey, love oh, baby love, baby oh, ooh baby, ooh ooh, love baby, love love, baby baby, oh oh, oh baby\n",
      "\n",
      "-- country:\n",
      "  * Most Correlated Unigrams are: strait, paisley, county, hick, bottle, blue, goodbye, fiddle, redneck, bryan, rap, jeans, alan, ah, gon, tailgate, ve, tractor, garth, brooks, ass, someday, little, shelton, lonesome, texas, ya, wine, memory, intro, uh, tennessee, jukebox, ooh, tonk, fuck, porch, truck, honky, hook, old, hank, beer, yo, nigga, shit, niggas, cowboy, whiskey, country\n",
      "  * Most Correlated Bigrams are: pair jeans, bob wills, big old, hip hop, mama tried, country songs, country girl, little crazy, country country, somebody new, chorus just, song radio, gone crazy, blue eyes, hick hop, baby baby, johnny cash, willie nelson, ooh ooh, taylor swift, tim mcgraw, kenny chesney, cold beer, jake owen, chorus cause, walk line, conway twitty, little white, florida georgia, san antone, hank williams, verse said, ll loving, porch swing, little country, brad paisley, yeah yeah, george strait, oh oh, georgia line, alan jackson, country music, blake shelton, lyrics intro, garth brooks, country boy, dirt road, luke bryan, lyrics verse, honky tonk\n",
      "\n",
      "-- rap & hip hop:\n",
      "  * Most Correlated Unigrams are: notorious, dough, gon, streets, flow, motherfuckers, plus, smoke, thugs, hood, gettin, rappers, jay, black, motherfucker, nas, feat, crack, motherfuckin, weed, 2pac, thug, game, hip, hoes, bitches, hit, ghetto, rhyme, hop, dope, crew, ya, block, bust, rhymes, check, em, fuckin, mc, mic, bitch, hook, rap, ass, fuck, yo, shit, nigga, niggas\n",
      "  * Most Correlated Bigrams are: death row, nigga ain, hook x2, yeah nigga, big daddy, bone thugs, nigga don, shit ain, ve got, daddy kane, hit em, yo ass, feat lil, verse yo, gettin high, shit like, rick ross, pete rock, big pun, dj premier, ll cool, real niggas, talib kweli, oh oh, nate dogg, lil wayne, busta rhymes, ice cube, puff daddy, mobb deep, wu tang, niggas don, ass niggas, verse 2pac, niggas know, niggas like, know sayin, 50 cent, pre chorus, kanye west, dr dre, don fuck, ghostface killah, lyrics verse, new york, snoop dogg, method man, yo yo, lyrics produced, hip hop\n",
      "\n",
      "-- rock:\n",
      "  * Most Correlated Unigrams are: gettin, ain, hit, chile, bitches, mc, verse, layla, dope, crew, thug, rhymes, gypsy, outro, hop, like, mic, hip, rider, check, fuckin, rhyme, feat, bitch, wanna, paul, dharma, gon, rap, hook, ya, harrison, cause, townshend, em, daltrey, ass, roger, fuck, ah, gilmour, lennon, yo, nigga, niggas, shit, mccartney, guitar, instrumental, solo\n",
      "  * Most Correlated Bigrams are: come tomorrow, babe got, bridge paul, gimme lovin, help friends, turn face, way home, home baby, yeah verse, chorus time, come hear, lennon george, oh won, outro 1embed, chorus roger, chorus come, oh lord, instrumental verse, roll let, verse david, chorus oh, break verse, outro ooh, solo outro, lennon paul, pete townshend, ah ah, solo bridge, george harrison, roger daltrey, verse john, mccartney john, verse paul, lyrics instrumental, chorus paul, instrumental bridge, roger waters, verse roger, solo chorus, instrumental break, bridge verse, instrumental intro, david gilmour, john lennon, paul mccartney, instrumental outro, rock roll, solo verse, intro verse, guitar solo\n"
     ]
    }
   ],
   "source": [
    "N = 50 # устанавливание количество наиболее связанных признаков\n",
    "for genre, category_id in sorted(songs_idx.items()):\n",
    "    features_chi2 = chi2(lyrics_vector, labels == category_id) # вычисление хи-квадрат для каждого признака\n",
    "    indices = np.argsort(features_chi2[0]) # сортировка индексов признаков в порядке возрастания значений хи-квадрат.\n",
    "    feature_names = np.array(tfidf.get_feature_names())[indices] # получение имен признаков в порядке возрастания значений хи-квадрат\n",
    "    unigrams = [v for v in feature_names if len(v.split(' ')) == 1] # создание списка уникальных (одиночных) признаков (униграмм).\n",
    "    bigrams = [v for v in feature_names if len(v.split(' ')) == 2] # создание списка двойных признаков (биграмм).\n",
    "  \n",
    "    print(\"\\n-- %s:\" %(genre))\n",
    "    print(\"  * Most Correlated Unigrams are: %s\" %(', '.join(unigrams[-N:])))\n",
    "    print(\"  * Most Correlated Bigrams are: %s\" %(', '.join(bigrams[-N:])))"
   ]
  },
  {
   "cell_type": "code",
   "execution_count": 19,
   "id": "e8fad7c5",
   "metadata": {
    "_cell_guid": "25ab7649-0e27-412f-af6a-3cdecb4f3613",
    "_uuid": "5e9b1a7b-eaa1-4497-b889-ba608799f4cd",
    "execution": {
     "iopub.execute_input": "2023-01-21T16:52:56.884500Z",
     "iopub.status.busy": "2023-01-21T16:52:56.884051Z",
     "iopub.status.idle": "2023-01-21T16:52:56.894130Z",
     "shell.execute_reply": "2023-01-21T16:52:56.892532Z"
    },
    "jupyter": {
     "outputs_hidden": false
    },
    "papermill": {
     "duration": 0.025067,
     "end_time": "2023-01-21T16:52:56.898111",
     "exception": false,
     "start_time": "2023-01-21T16:52:56.873044",
     "status": "completed"
    },
    "tags": []
   },
   "outputs": [],
   "source": [
    "X = df_songs['Lyric'] # признаки\n",
    "Y = df_songs['Genres'] # целевая переменная"
   ]
  },
  {
   "cell_type": "code",
   "execution_count": 20,
   "id": "8bb2aa93",
   "metadata": {},
   "outputs": [],
   "source": [
    "# Разделение на обучающую и тестовую выборки\n",
    "X_train, X_test, Y_train, Y_test = train_test_split(X,Y,test_size = 0.25, random_state = 0)"
   ]
  },
  {
   "cell_type": "code",
   "execution_count": 21,
   "id": "3e456339",
   "metadata": {},
   "outputs": [
    {
     "name": "stdout",
     "output_type": "stream",
     "text": [
      "['rock' 'country' 'R&B' 'rap & hip hop']\n"
     ]
    }
   ],
   "source": [
    "print(Y.unique())"
   ]
  },
  {
   "cell_type": "code",
   "execution_count": 22,
   "id": "9ab1d7c2",
   "metadata": {
    "_cell_guid": "d0f64945-c4da-4f5b-b467-fd289c2edf6b",
    "_uuid": "f19f20fa-2d4b-4079-8368-d29dcd13ac5b",
    "execution": {
     "iopub.execute_input": "2023-01-21T16:52:56.939354Z",
     "iopub.status.busy": "2023-01-21T16:52:56.938970Z",
     "iopub.status.idle": "2023-01-21T16:56:19.011882Z",
     "shell.execute_reply": "2023-01-21T16:56:19.010153Z"
    },
    "jupyter": {
     "outputs_hidden": false
    },
    "papermill": {
     "duration": 202.089082,
     "end_time": "2023-01-21T16:56:19.017054",
     "exception": false,
     "start_time": "2023-01-21T16:52:56.927972",
     "status": "completed"
    },
    "tags": []
   },
   "outputs": [],
   "source": [
    "# список моделей, которые будут использоваться для классификации текста\n",
    "models = [\n",
    "    LinearSVC(),\n",
    "    LogisticRegression(random_state=0),\n",
    "]\n",
    "\n",
    "# 5 Cross-validation\n",
    "CV = 5\n",
    "cv_df = pd.DataFrame(index=range(CV * len(models)))\n",
    "\n",
    "entries = []\n",
    "for model in models:\n",
    "  model_name = model.__class__.__name__\n",
    "  accuracies = cross_val_score(model, lyrics_vector, labels, scoring='accuracy', cv=CV) #  выполнение кросс-валидации для текущей модели и получение точности (accuracy) для каждой итерации\n",
    "  for fold_idx, accuracy in enumerate(accuracies): # перебирание всех итераций кросс-валидации и точности, полученные для текущей модели\n",
    "    entries.append((model_name, fold_idx, accuracy)) # добавление результатов кросс-валидации для текущей модели в список entries\n",
    "    \n",
    "cv_df = pd.DataFrame(entries, columns=['model_name', 'fold_idx', 'accuracy']) # создание DataFrame на основе списка entries с указанными названиями столбцов"
   ]
  },
  {
   "cell_type": "code",
   "execution_count": 23,
   "id": "9b46f08b",
   "metadata": {
    "_cell_guid": "a738b2f4-db19-4c74-a159-5c6a310fcbf8",
    "_uuid": "5b9e0a07-404d-4731-8018-af5587cdd1d9",
    "execution": {
     "iopub.execute_input": "2023-01-21T16:56:19.069484Z",
     "iopub.status.busy": "2023-01-21T16:56:19.068772Z",
     "iopub.status.idle": "2023-01-21T16:56:19.105393Z",
     "shell.execute_reply": "2023-01-21T16:56:19.103783Z"
    },
    "jupyter": {
     "outputs_hidden": false
    },
    "papermill": {
     "duration": 0.067702,
     "end_time": "2023-01-21T16:56:19.110431",
     "exception": false,
     "start_time": "2023-01-21T16:56:19.042729",
     "status": "completed"
    },
    "tags": []
   },
   "outputs": [
    {
     "name": "stdout",
     "output_type": "stream",
     "text": [
      "                    Mean Accuracy  Standard deviation\n",
      "model_name                                           \n",
      "LinearSVC                0.778026            0.019324\n",
      "LogisticRegression       0.774169            0.017444\n"
     ]
    }
   ],
   "source": [
    "# вычисление среднего значения и стандартного отклонения точности (accuracy) для каждой модели\n",
    "mean_accuracy = cv_df.groupby('model_name').accuracy.mean()\n",
    "std_accuracy = cv_df.groupby('model_name').accuracy.std()\n",
    "\n",
    "acc = pd.concat([mean_accuracy, std_accuracy], axis= 1, \n",
    "          ignore_index=True)\n",
    "acc.columns = ['Mean Accuracy', 'Standard deviation']\n",
    "print(acc)"
   ]
  },
  {
   "cell_type": "code",
   "execution_count": 24,
   "id": "abe6a556",
   "metadata": {
    "_cell_guid": "cf71a8f1-ea81-46d5-8e69-3c85ba39b2d2",
    "_uuid": "d6bfd787-ef57-4bac-9d60-56520daac533",
    "execution": {
     "iopub.execute_input": "2023-01-21T16:56:19.138918Z",
     "iopub.status.busy": "2023-01-21T16:56:19.138534Z",
     "iopub.status.idle": "2023-01-21T16:56:20.645414Z",
     "shell.execute_reply": "2023-01-21T16:56:20.643782Z"
    },
    "jupyter": {
     "outputs_hidden": false
    },
    "papermill": {
     "duration": 1.521469,
     "end_time": "2023-01-21T16:56:20.649125",
     "exception": false,
     "start_time": "2023-01-21T16:56:19.127656",
     "status": "completed"
    },
    "tags": []
   },
   "outputs": [],
   "source": [
    "X_train, X_test, y_train, y_test,indices_train,indices_test = train_test_split(lyrics_vector, labels, df_songs.index, test_size=0.25, random_state=1)\n",
    "model = LinearSVC()\n",
    "model.fit(X_train, y_train)\n",
    "y_pred = model.predict(X_test)"
   ]
  },
  {
   "cell_type": "code",
   "execution_count": 25,
   "id": "95675074",
   "metadata": {
    "_cell_guid": "c867d4ff-269e-47d3-b7be-f370fb9c1cd4",
    "_uuid": "d886c2ad-cb46-42ef-9bd0-2f3c64ef5cce",
    "execution": {
     "iopub.execute_input": "2023-01-21T16:56:20.704264Z",
     "iopub.status.busy": "2023-01-21T16:56:20.703565Z",
     "iopub.status.idle": "2023-01-21T16:56:20.734806Z",
     "shell.execute_reply": "2023-01-21T16:56:20.732887Z"
    },
    "jupyter": {
     "outputs_hidden": false
    },
    "papermill": {
     "duration": 0.057741,
     "end_time": "2023-01-21T16:56:20.738037",
     "exception": false,
     "start_time": "2023-01-21T16:56:20.680296",
     "status": "completed"
    },
    "tags": []
   },
   "outputs": [
    {
     "name": "stdout",
     "output_type": "stream",
     "text": [
      "\t\t\t\tCLASSIFICATIION METRICS\n",
      "\n",
      "               precision    recall  f1-score   support\n",
      "\n",
      "         rock       0.71      0.61      0.66       256\n",
      "      country       0.76      0.78      0.77       258\n",
      "          R&B       0.69      0.70      0.69       231\n",
      "rap & hip hop       0.86      0.96      0.90       227\n",
      "\n",
      "     accuracy                           0.76       972\n",
      "    macro avg       0.75      0.76      0.76       972\n",
      " weighted avg       0.75      0.76      0.75       972\n",
      "\n"
     ]
    }
   ],
   "source": [
    "# Classification report\n",
    "print('\\t\\t\\t\\tCLASSIFICATIION METRICS\\n')\n",
    "print(metrics.classification_report(y_test, y_pred, \n",
    "                                    target_names= df_songs['Genres'].unique()))"
   ]
  },
  {
   "cell_type": "code",
   "execution_count": 26,
   "id": "af7278c2",
   "metadata": {
    "_cell_guid": "ffea18e2-97e6-486d-b63c-3e5bddda8e81",
    "_uuid": "a494c505-02d4-4ad3-8b55-2d4239c8b06a",
    "execution": {
     "iopub.execute_input": "2023-01-21T16:56:20.779259Z",
     "iopub.status.busy": "2023-01-21T16:56:20.778750Z",
     "iopub.status.idle": "2023-01-21T16:56:21.133867Z",
     "shell.execute_reply": "2023-01-21T16:56:21.133025Z"
    },
    "jupyter": {
     "outputs_hidden": false
    },
    "papermill": {
     "duration": 0.377998,
     "end_time": "2023-01-21T16:56:21.137024",
     "exception": false,
     "start_time": "2023-01-21T16:56:20.759026",
     "status": "completed"
    },
    "tags": []
   },
   "outputs": [
    {
     "data": {
      "image/png": "[encoded data removed]",
      "text/plain": [
       "<Figure size 576x576 with 2 Axes>"
      ]
     },
     "metadata": {
      "needs_background": "light"
     },
     "output_type": "display_data"
    }
   ],
   "source": [
    "# создание тепловой карты матрицы ошибок\n",
    "conf_mat = confusion_matrix(y_test, y_pred)\n",
    "fig, ax = plt.subplots(figsize=(8,8))\n",
    "sns.set(rc={'axes.facecolor':'cornflowerblue', 'figure.facecolor':'cornflowerblue'})\n",
    "sns.heatmap(conf_mat, annot=True, cmap=\"viridis\", fmt='d',\n",
    "            xticklabels=category_id_df.Genres.values, \n",
    "            yticklabels=category_id_df.Genres.values)\n",
    "plt.ylabel('Настоящие', size=16)\n",
    "plt.xlabel('Предсказанные', size=16)\n",
    "\n",
    "\n",
    "plt.title(\"Матрица путаницы\\n\", size=16);"
   ]
  },
  {
   "cell_type": "code",
   "execution_count": 27,
   "id": "6903e7f1",
   "metadata": {},
   "outputs": [
    {
     "data": {
      "text/plain": [
       "array([[157,  48,  44,   7],\n",
       "       [ 30, 200,  24,   4],\n",
       "       [ 31,  14, 161,  25],\n",
       "       [  4,   1,   5, 217]], dtype=int64)"
      ]
     },
     "execution_count": 27,
     "metadata": {},
     "output_type": "execute_result"
    }
   ],
   "source": [
    "conf_mat"
   ]
  },
  {
   "cell_type": "code",
   "execution_count": 29,
   "id": "07aa3a03",
   "metadata": {
    "_cell_guid": "b17e0609-cd14-4f54-b68f-fa58a59d6426",
    "_uuid": "dae6727e-7780-4bb7-8c36-d7ee5774cf59",
    "execution": {
     "iopub.execute_input": "2023-01-21T16:56:21.196069Z",
     "iopub.status.busy": "2023-01-21T16:56:21.195561Z",
     "iopub.status.idle": "2023-01-21T16:56:28.252054Z",
     "shell.execute_reply": "2023-01-21T16:56:28.250712Z"
    },
    "jupyter": {
     "outputs_hidden": false
    },
    "papermill": {
     "duration": 7.072052,
     "end_time": "2023-01-21T16:56:28.255180",
     "exception": false,
     "start_time": "2023-01-21T16:56:21.183128",
     "status": "completed"
    },
    "tags": []
   },
   "outputs": [],
   "source": [
    "X_train, X_test, y_train, y_test = train_test_split(X, Y, test_size=0.25, random_state = 0) # разбиение данных на обучающую и тестовую выборки\n",
    "\n",
    "tfidf = TfidfVectorizer(sublinear_tf=True, min_df=5, ngram_range=(1, 2), stop_words='english') # преобразование текстовых данных в векторы признаков с помощью метода fit().\n",
    "\n",
    "fitted_vectorizer = tfidf.fit(X_train)\n",
    "tfidf_vectorizer_vectors = fitted_vectorizer.transform(X_train) # применяем метод transform() к обучающей выборке, чтобы получить tf-idf векторы признаков.\n",
    "\n",
    "model = LinearSVC().fit(tfidf_vectorizer_vectors, y_train) # создание модели LinearSVC() и обучение ее на tf-idf векторах признаков и метках классов, используя метод fit()."
   ]
  },
  {
   "cell_type": "code",
   "execution_count": 30,
   "id": "1c94761c",
   "metadata": {},
   "outputs": [
    {
     "data": {
      "text/html": [
       "<div>\n",
       "<style scoped>\n",
       "    .dataframe tbody tr th:only-of-type {\n",
       "        vertical-align: middle;\n",
       "    }\n",
       "\n",
       "    .dataframe tbody tr th {\n",
       "        vertical-align: top;\n",
       "    }\n",
       "\n",
       "    .dataframe thead th {\n",
       "        text-align: right;\n",
       "    }\n",
       "</style>\n",
       "<table border=\"1\" class=\"dataframe\">\n",
       "  <thead>\n",
       "    <tr style=\"text-align: right;\">\n",
       "      <th></th>\n",
       "      <th>song</th>\n",
       "      <th>artist</th>\n",
       "      <th>Genres</th>\n",
       "      <th>Lyric</th>\n",
       "      <th>category_id</th>\n",
       "    </tr>\n",
       "  </thead>\n",
       "  <tbody>\n",
       "    <tr>\n",
       "      <th>3010</th>\n",
       "      <td>Infinite</td>\n",
       "      <td>Eminem</td>\n",
       "      <td>rap &amp; hip hop</td>\n",
       "      <td>Infinite Lyrics[Produced by Mr. Porter &amp; Jeff ...</td>\n",
       "      <td>3</td>\n",
       "    </tr>\n",
       "    <tr>\n",
       "      <th>3035</th>\n",
       "      <td>Lose Yourself</td>\n",
       "      <td>Eminem</td>\n",
       "      <td>rap &amp; hip hop</td>\n",
       "      <td>Lose Yourself Lyrics[Intro]\\nLook, if you had ...</td>\n",
       "      <td>3</td>\n",
       "    </tr>\n",
       "    <tr>\n",
       "      <th>3187</th>\n",
       "      <td>Drug Ballad</td>\n",
       "      <td>Eminem</td>\n",
       "      <td>rap &amp; hip hop</td>\n",
       "      <td>Drug Ballad Lyrics[Intro: Eminem &amp; Dina Rae]\\n...</td>\n",
       "      <td>3</td>\n",
       "    </tr>\n",
       "    <tr>\n",
       "      <th>3250</th>\n",
       "      <td>Murder, Murder</td>\n",
       "      <td>Eminem</td>\n",
       "      <td>rap &amp; hip hop</td>\n",
       "      <td>Murder Murder Lyrics[Scratches: DJ Lenn Swann]...</td>\n",
       "      <td>3</td>\n",
       "    </tr>\n",
       "    <tr>\n",
       "      <th>3361</th>\n",
       "      <td>It’s Ok</td>\n",
       "      <td>Eminem</td>\n",
       "      <td>rap &amp; hip hop</td>\n",
       "      <td>It’s O.K. Lyrics[Intro: Proof &amp; Eminem]\\nCheck...</td>\n",
       "      <td>3</td>\n",
       "    </tr>\n",
       "    <tr>\n",
       "      <th>3393</th>\n",
       "      <td>Sing For The Moment</td>\n",
       "      <td>Eminem</td>\n",
       "      <td>rap &amp; hip hop</td>\n",
       "      <td>Sing for the Moment Lyrics[Verse 1: Eminem]\\nT...</td>\n",
       "      <td>3</td>\n",
       "    </tr>\n",
       "    <tr>\n",
       "      <th>3417</th>\n",
       "      <td>Brain Damage</td>\n",
       "      <td>Eminem</td>\n",
       "      <td>rap &amp; hip hop</td>\n",
       "      <td>Brain Damage Lyrics[Intro: Doctor &amp; Nurse]\\nSc...</td>\n",
       "      <td>3</td>\n",
       "    </tr>\n",
       "    <tr>\n",
       "      <th>3549</th>\n",
       "      <td>Superman</td>\n",
       "      <td>Eminem</td>\n",
       "      <td>rap &amp; hip hop</td>\n",
       "      <td>Superman Lyrics[Intro: Eminem &amp; Dina Rae]\\nMhm...</td>\n",
       "      <td>3</td>\n",
       "    </tr>\n",
       "    <tr>\n",
       "      <th>3569</th>\n",
       "      <td>Rock Bottom</td>\n",
       "      <td>Eminem</td>\n",
       "      <td>rap &amp; hip hop</td>\n",
       "      <td>Rock Bottom Lyrics[Produced by Bass Brothers]\\...</td>\n",
       "      <td>3</td>\n",
       "    </tr>\n",
       "    <tr>\n",
       "      <th>3673</th>\n",
       "      <td>Tonight (1996)</td>\n",
       "      <td>Eminem</td>\n",
       "      <td>rap &amp; hip hop</td>\n",
       "      <td>The 500 Greatest Albums of All Time (2003) Lyr...</td>\n",
       "      <td>3</td>\n",
       "    </tr>\n",
       "    <tr>\n",
       "      <th>3749</th>\n",
       "      <td>The Way I Am</td>\n",
       "      <td>Eminem</td>\n",
       "      <td>rap &amp; hip hop</td>\n",
       "      <td>The Way I Am Lyrics[Segue from \"Steve Berman (...</td>\n",
       "      <td>3</td>\n",
       "    </tr>\n",
       "    <tr>\n",
       "      <th>3879</th>\n",
       "      <td>Open Mic</td>\n",
       "      <td>Eminem</td>\n",
       "      <td>rap &amp; hip hop</td>\n",
       "      <td>Open Mic Lyrics[Produced by Mr. Porter]\\n\\n[In...</td>\n",
       "      <td>3</td>\n",
       "    </tr>\n",
       "  </tbody>\n",
       "</table>\n",
       "</div>"
      ],
      "text/plain": [
       "                     song  artist         Genres  \\\n",
       "3010             Infinite  Eminem  rap & hip hop   \n",
       "3035        Lose Yourself  Eminem  rap & hip hop   \n",
       "3187          Drug Ballad  Eminem  rap & hip hop   \n",
       "3250       Murder, Murder  Eminem  rap & hip hop   \n",
       "3361              It’s Ok  Eminem  rap & hip hop   \n",
       "3393  Sing For The Moment  Eminem  rap & hip hop   \n",
       "3417         Brain Damage  Eminem  rap & hip hop   \n",
       "3549             Superman  Eminem  rap & hip hop   \n",
       "3569          Rock Bottom  Eminem  rap & hip hop   \n",
       "3673       Tonight (1996)  Eminem  rap & hip hop   \n",
       "3749         The Way I Am  Eminem  rap & hip hop   \n",
       "3879             Open Mic  Eminem  rap & hip hop   \n",
       "\n",
       "                                                  Lyric  category_id  \n",
       "3010  Infinite Lyrics[Produced by Mr. Porter & Jeff ...            3  \n",
       "3035  Lose Yourself Lyrics[Intro]\\nLook, if you had ...            3  \n",
       "3187  Drug Ballad Lyrics[Intro: Eminem & Dina Rae]\\n...            3  \n",
       "3250  Murder Murder Lyrics[Scratches: DJ Lenn Swann]...            3  \n",
       "3361  It’s O.K. Lyrics[Intro: Proof & Eminem]\\nCheck...            3  \n",
       "3393  Sing for the Moment Lyrics[Verse 1: Eminem]\\nT...            3  \n",
       "3417  Brain Damage Lyrics[Intro: Doctor & Nurse]\\nSc...            3  \n",
       "3549  Superman Lyrics[Intro: Eminem & Dina Rae]\\nMhm...            3  \n",
       "3569  Rock Bottom Lyrics[Produced by Bass Brothers]\\...            3  \n",
       "3673  The 500 Greatest Albums of All Time (2003) Lyr...            3  \n",
       "3749  The Way I Am Lyrics[Segue from \"Steve Berman (...            3  \n",
       "3879  Open Mic Lyrics[Produced by Mr. Porter]\\n\\n[In...            3  "
      ]
     },
     "execution_count": 30,
     "metadata": {},
     "output_type": "execute_result"
    }
   ],
   "source": [
    "df_songs.loc[df_songs['artist'] == 'Eminem']"
   ]
  },
  {
   "cell_type": "code",
   "execution_count": 31,
   "id": "1ba35182",
   "metadata": {
    "_cell_guid": "0a0a5dcd-0de0-4447-b0ce-4c2bc9c24b5a",
    "_uuid": "8e653680-4651-4795-9780-2903b69a7b2c",
    "execution": {
     "iopub.execute_input": "2023-01-21T16:56:28.278438Z",
     "iopub.status.busy": "2023-01-21T16:56:28.278040Z",
     "iopub.status.idle": "2023-01-21T16:56:28.287153Z",
     "shell.execute_reply": "2023-01-21T16:56:28.286062Z"
    },
    "jupyter": {
     "outputs_hidden": false
    },
    "papermill": {
     "duration": 0.024432,
     "end_time": "2023-01-21T16:56:28.290185",
     "exception": false,
     "start_time": "2023-01-21T16:56:28.265753",
     "status": "completed"
    },
    "tags": []
   },
   "outputs": [
    {
     "name": "stdout",
     "output_type": "stream",
     "text": [
      "Предсказанный жанр:  ['rap & hip hop']\n",
      "Действительный жанр:  rap & hip hop\n"
     ]
    }
   ],
   "source": [
    "import random\n",
    "# x = random.randint(0,3800)\n",
    "x = 3035 # Eminem - Lose Yourself\n",
    "lyrics = df_songs.Lyric[x];\n",
    "print(\"Предсказанный жанр: \", model.predict(fitted_vectorizer.transform([lyrics]))) # предсказанное значение из обученной модели\n",
    "print(\"Действительный жанр: \", df_songs.Genres[x]) # значение жанра из датасета"
   ]
  },
  {
   "cell_type": "code",
   "execution_count": null,
   "id": "2385c5a1",
   "metadata": {},
   "outputs": [],
   "source": []
  }
 ],
 "metadata": {
  "kernelspec": {
   "display_name": "Python 3 (ipykernel)",
   "language": "python",
   "name": "python3"
  },
  "language_info": {
   "codemirror_mode": {
    "name": "ipython",
    "version": 3
   },
   "file_extension": ".py",
   "mimetype": "text/x-python",
   "name": "python",
   "nbconvert_exporter": "python",
   "pygments_lexer": "ipython3",
   "version": "3.9.7"
  },
  "papermill": {
   "default_parameters": {},
   "duration": 234.236894,
   "end_time": "2023-01-21T16:56:29.643430",
   "environment_variables": {},
   "exception": null,
   "input_path": "__notebook__.ipynb",
   "output_path": "__notebook__.ipynb",
   "parameters": {},
   "start_time": "2023-01-21T16:52:35.406536",
   "version": "2.3.4"
  }
 },
 "nbformat": 4,
 "nbformat_minor": 5
}
